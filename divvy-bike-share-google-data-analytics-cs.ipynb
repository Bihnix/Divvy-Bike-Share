{
 "cells": [
  {
   "cell_type": "markdown",
   "id": "70b35138",
   "metadata": {
    "papermill": {
     "duration": 0.054904,
     "end_time": "2021-07-08T06:29:54.648388",
     "exception": false,
     "start_time": "2021-07-08T06:29:54.593484",
     "status": "completed"
    },
    "tags": []
   },
   "source": [
    "# **Divvy bike-share - Google Data Analytics(Case Study)**\n",
    "# Author: *Behnam Ebrahimi*\n",
    "# Start date: *7/2/2021*\n",
    "![Divvy](https://d21xlh2maitm24.cloudfront.net/chi/Divvy-Bike_new_0119_v3.png?mtime=20190820123644)"
   ]
  },
  {
   "cell_type": "markdown",
   "id": "1d57e2e0",
   "metadata": {
    "papermill": {
     "duration": 0.052822,
     "end_time": "2021-07-08T06:29:54.754127",
     "exception": false,
     "start_time": "2021-07-08T06:29:54.701305",
     "status": "completed"
    },
    "tags": []
   },
   "source": [
    "# How Does a Bike-Share Navigate Speedy Success?\n",
    "\n",
    "## Cyclistic\n",
    "\n",
    "In 2016, Cyclistic launched a successful bike-share offering Since then, the program has grown to a fleet of 5,824 bicycles that are geo-tracked and locked into a network of 692 stations across Chicago. The bikes can be unlocked from one station and returned to any other station in the system any time.  \n",
    "Until now, Cyclistic’s marketing strategy relied on building general awareness and appealing to broad consumer segments. One approach that helped make these things possible was the flexibility of its pricing plans: single-ride passes, full-day passes, and annual memberships. Customers who purchase single-ride or full-day passes are referred to as casual riders. Customers who purchase annual memberships are Cyclistic members.\n",
    "\n",
    "Cyclistic’s finance analysts have concluded that annual members are much more profitable than casual riders. Although the pricing flexibility helps Cyclistic attract more customers, Moreno believes that maximizing the number of annual members will be key to future growth. Rather than creating a marketing campaign that targets all-new customers, Moreno believes there is a very good chance to convert casual riders into members. She notes that casual riders are already aware of the Cyclistic program and have chosen Cyclistic for their mobility needs.\n",
    "\n",
    "Moreno has set a clear goal: Design marketing strategies aimed at converting casual riders into annual members. In order to do that, however, the marketing analyst team needs to better understand how annual members and casual riders differ, why casual riders would buy a membership, and how digital media could affect their marketing tactics. Moreno and her team are interested in analysing the Cyclistic historical bike trip data to identify trends.\n",
    "\n",
    "## Scenario\n",
    "\n",
    "A data analyst working in the marketing analyst team at Cyclistic, a bike-share company in Chicago. The director of marketing believes the company’s future success depends on maximizing the number of annual memberships. Therefore, marketing team wants to understand how casual riders and annual members use Cyclistic bikes differently.  \n",
    "\n",
    "From these insights, the marketing team will design a new marketing strategy to convert casual riders into annual members. But first, Cyclistic executives must approve the recommendations, so they must be backed up with compelling data insights and professional data visualizations.  \n",
    "\n",
    "## Characters and teams\n",
    "* Cyclistic:\n",
    "\n",
    "A bike-share program that features more than 5,800 bicycles and 600 docking stations. Cyclistic sets itself apart by also offering reclining bikes, hand tricycles, and cargo bikes, making bike-share more inclusive to people with disabilities and riders who can’t use a standard two-wheeled bike. The majority of riders opt for traditional bikes; about 8% of riders use the assistive options. Cyclistic users are more likely to ride for leisure, but about 30% use them to commute to work each day.\n",
    "\n",
    "* Lily Moreno:\n",
    "\n",
    "The director of marketing and your manager. Moreno is responsible for the development of campaigns and initiatives to promote the bike-share program. These may include email, social media, and other channels.\n",
    "\n",
    "* Marketing Analytics Team:\n",
    "\n",
    "A team of data analysts who are responsible for collecting, analyzing, and reporting data that helps guide Cyclistic marketing strategy. You joined this team six months ago and have been busy learning about Cyclistic’s mission and business goals — as well as how you, as a junior data analyst, can help Cyclistic achieve them.\n",
    "\n",
    "* Executive Tam:\n",
    "\n",
    "The notoriously detail-oriented executive team will decide whether to approve the recommended marketing program.\n",
    "\n",
    "\n",
    "\n",
    "## Data analysis process:\n",
    "\n",
    "### 1 - Ask\n",
    "\n",
    "##### A breif of steps\n",
    "\n",
    "* Ask effective questions\n",
    "* Define the scope of the analysis\n",
    "* Define what success looks like\n",
    "\n",
    "##### Three questions will guide the future marketing program: \n",
    "\n",
    "* 1. How do annual members and casual riders use Cyclistic bikes differently?\n",
    "* 2. Why would casual riders buy Cyclistic annual memberships?\n",
    "* 3. How can Cyclistic use digital media to influence casual riders to become members?\n",
    "\n",
    "#### Identify the business task.\n",
    "The key business task in this case is to discover how casual riders and Cyclistic members use their rental bikes differently. Both the Director of Marketing as well as finance analysts have concluded that annual members are more profitable.\n",
    "\n",
    "Therefore, the results of this analysis will be used to design a new marketing strategy to convert casual riders to annual members.\n",
    "\n",
    "#### Consider key stakeholders.\n",
    "\n",
    "Key stakeholders include: \n",
    "   * Cyclistic executive team\n",
    "   * Director of Marketing\n",
    "   * Marketing Analytics team.\n",
    "\n",
    "### 2 - Prepare\n",
    "\n",
    "##### A breif of steps\n",
    "* Verify data’s integrity\n",
    "* Check data credibility and reliability\n",
    "* Check data types\n",
    "* Merge datasets\n",
    "\n",
    "\n",
    "Data has been downloaded from Motivate International Inc <https://divvy-tripdata.s3.amazonaws.com/index.html>. \n",
    "Local copies on Kaggle were carefully archived.\n",
    "\n",
    "#### Identify the organisation of data.\n",
    "\n",
    "The data is in comma-delimited (.CSV) format with 15 columns.\n",
    "\n",
    "* ride ID\n",
    "* ride type\n",
    "* start & end time \n",
    "* ride length\n",
    "* day of the week\n",
    "* starting point (code, name, and latitude/longitude)\n",
    "* ending point (code, name, and latitude/longitude)\n",
    "* member types\n",
    "\n",
    "#### Determination of data credibility\n",
    "\n",
    "Because this is a case study that uses public data, we will presume that the data are reliable.\n",
    "\n",
    "### 3 - Process\n",
    "\n",
    "##### A breif of steps\n",
    "* Clean, Remove and Transform data\n",
    "* Document cleaning processes and results\n",
    "\n",
    "* First of all, the file name should be based on conventional type\n",
    "  + **Divvy_Trip_Data_202x_xx_Vxx**\n",
    "  \n",
    "* Now we need to load the CSV file into R for processing \n",
    "  + **Installing packages and Loading them:**\n",
    "    - tidyverse (helps wrangle data)\n",
    "    - dplyr (helps wrangle data)\n",
    "    - lubridate (helps wrangle date attributes _ date time)\n",
    "    - ggplot2 (helps visualize data)\n",
    "    - hmisc (helpe for descriptive statistics) \n",
    "  \n",
    "  \n",
    "![img](https://cdn.analyticsvidhya.com/wp-content/uploads/2019/05/ggplot_hive.jpg)  \n",
    "\n",
    "### Process Frame work\n",
    "![https://rviews.rstudio.com/post/2017-06-09-What-is-the-tidyverse_files/tidyverse1.png](https://rviews.rstudio.com/post/2017-06-09-What-is-the-tidyverse_files/tidyverse1.png)"
   ]
  },
  {
   "cell_type": "markdown",
   "id": "c217ea75",
   "metadata": {
    "papermill": {
     "duration": 0.052427,
     "end_time": "2021-07-08T06:29:54.859288",
     "exception": false,
     "start_time": "2021-07-08T06:29:54.806861",
     "status": "completed"
    },
    "tags": []
   },
   "source": [
    "![<https://d21xlh2maitm24.cloudfront.net/chi/Divvy_Explore_test_190820_164722.jpg?mtime=20190820164722>](<https://d21xlh2maitm24.cloudfront.net/chi/Divvy_Explore_test_190820_164722.jpg?mtime=20190820164722>)\n",
    "# Importing csv file"
   ]
  },
  {
   "cell_type": "code",
   "execution_count": 1,
   "id": "4175b995",
   "metadata": {
    "_execution_state": "idle",
    "_uuid": "051d70d956493feee0c6d64651c6a088724dca2a",
    "execution": {
     "iopub.execute_input": "2021-07-08T06:29:54.970513Z",
     "iopub.status.busy": "2021-07-08T06:29:54.966881Z",
     "iopub.status.idle": "2021-07-08T06:29:58.702782Z",
     "shell.execute_reply": "2021-07-08T06:29:58.700877Z"
    },
    "papermill": {
     "duration": 3.792526,
     "end_time": "2021-07-08T06:29:58.703021",
     "exception": false,
     "start_time": "2021-07-08T06:29:54.910495",
     "status": "completed"
    },
    "tags": []
   },
   "outputs": [
    {
     "name": "stderr",
     "output_type": "stream",
     "text": [
      "── \u001b[1mAttaching packages\u001b[22m ─────────────────────────────────────── tidyverse 1.3.1 ──\n",
      "\n",
      "\u001b[32m✔\u001b[39m \u001b[34mggplot2\u001b[39m 3.3.4     \u001b[32m✔\u001b[39m \u001b[34mpurrr  \u001b[39m 0.3.4\n",
      "\u001b[32m✔\u001b[39m \u001b[34mtibble \u001b[39m 3.1.2     \u001b[32m✔\u001b[39m \u001b[34mdplyr  \u001b[39m 1.0.7\n",
      "\u001b[32m✔\u001b[39m \u001b[34mtidyr  \u001b[39m 1.1.3     \u001b[32m✔\u001b[39m \u001b[34mstringr\u001b[39m 1.4.0\n",
      "\u001b[32m✔\u001b[39m \u001b[34mreadr  \u001b[39m 1.4.0     \u001b[32m✔\u001b[39m \u001b[34mforcats\u001b[39m 0.5.1\n",
      "\n",
      "── \u001b[1mConflicts\u001b[22m ────────────────────────────────────────── tidyverse_conflicts() ──\n",
      "\u001b[31m✖\u001b[39m \u001b[34mdplyr\u001b[39m::\u001b[32mfilter()\u001b[39m masks \u001b[34mstats\u001b[39m::filter()\n",
      "\u001b[31m✖\u001b[39m \u001b[34mdplyr\u001b[39m::\u001b[32mlag()\u001b[39m    masks \u001b[34mstats\u001b[39m::lag()\n",
      "\n",
      "Loading required package: lattice\n",
      "\n",
      "Loading required package: survival\n",
      "\n",
      "Loading required package: Formula\n",
      "\n",
      "\n",
      "Attaching package: ‘Hmisc’\n",
      "\n",
      "\n",
      "The following objects are masked from ‘package:dplyr’:\n",
      "\n",
      "    src, summarize\n",
      "\n",
      "\n",
      "The following objects are masked from ‘package:base’:\n",
      "\n",
      "    format.pval, units\n",
      "\n",
      "\n",
      "\n",
      "Attaching package: ‘lubridate’\n",
      "\n",
      "\n",
      "The following objects are masked from ‘package:base’:\n",
      "\n",
      "    date, intersect, setdiff, union\n",
      "\n",
      "\n"
     ]
    },
    {
     "data": {
      "text/html": [
       "'Divvy_Trip_Data_2020_June_2021_May_V04.csv'"
      ],
      "text/latex": [
       "'Divvy\\_Trip\\_Data\\_2020\\_June\\_2021\\_May\\_V04.csv'"
      ],
      "text/markdown": [
       "'Divvy_Trip_Data_2020_June_2021_May_V04.csv'"
      ],
      "text/plain": [
       "[1] \"Divvy_Trip_Data_2020_June_2021_May_V04.csv\""
      ]
     },
     "metadata": {},
     "output_type": "display_data"
    }
   ],
   "source": [
    "# This R environment comes with many helpful analytics packages installed\n",
    "# It is defined by the kaggle/rstats Docker image: https://github.com/kaggle/docker-rstats\n",
    "# For example, here's a helpful package to load\n",
    "\n",
    "library(tidyverse) # metapackage of all tidyverse packages\n",
    "library(dplyr)\n",
    "library(Hmisc)\n",
    "library(ggplot2)\n",
    "library(lubridate)\n",
    "\n",
    "# Import fastDummies\n",
    "library('fastDummies')\n",
    "\n",
    "\n",
    "# Input data files are available in the read-only \"../input/\" directory\n",
    "# For example, running this (by clicking run or pressing Shift+Enter) will list all files under the input directory\n",
    "\n",
    "list.files(path = \"../input//divvy-bike-share-google-data-analyticscase-study\")\n",
    "\n",
    "# You can write up to 20GB to the current directory (/kaggle/working/) that gets preserved as output when you create a version using \"Save & Run All\" \n",
    "# You can also write temporary files to /kaggle/temp/, but they won't be saved outside of the current session"
   ]
  },
  {
   "cell_type": "code",
   "execution_count": 2,
   "id": "d2a026df",
   "metadata": {
    "execution": {
     "iopub.execute_input": "2021-07-08T06:29:58.856453Z",
     "iopub.status.busy": "2021-07-08T06:29:58.820516Z",
     "iopub.status.idle": "2021-07-08T06:30:58.749668Z",
     "shell.execute_reply": "2021-07-08T06:30:58.748026Z"
    },
    "papermill": {
     "duration": 59.990803,
     "end_time": "2021-07-08T06:30:58.749924",
     "exception": false,
     "start_time": "2021-07-08T06:29:58.759121",
     "status": "completed"
    },
    "tags": []
   },
   "outputs": [],
   "source": [
    "df_an <- read.csv(file = '../input//divvy-bike-share-google-data-analyticscase-study/Divvy_Trip_Data_2020_June_2021_May_V04.csv')\n"
   ]
  },
  {
   "cell_type": "markdown",
   "id": "4bdf9d24",
   "metadata": {
    "papermill": {
     "duration": 0.053802,
     "end_time": "2021-07-08T06:30:58.860324",
     "exception": false,
     "start_time": "2021-07-08T06:30:58.806522",
     "status": "completed"
    },
    "tags": []
   },
   "source": [
    "## CLEAN UP AND ADD DATA TO PREPARE FOR ANALYSIS\n",
    "### Inspect the table that has been loaded"
   ]
  },
  {
   "cell_type": "markdown",
   "id": "b7b6c0c3",
   "metadata": {
    "papermill": {
     "duration": 0.053364,
     "end_time": "2021-07-08T06:30:58.967733",
     "exception": false,
     "start_time": "2021-07-08T06:30:58.914369",
     "status": "completed"
    },
    "tags": []
   },
   "source": [
    "### List of column names\n",
    "\n"
   ]
  },
  {
   "cell_type": "code",
   "execution_count": 3,
   "id": "87b6429f",
   "metadata": {
    "execution": {
     "iopub.execute_input": "2021-07-08T06:30:59.081702Z",
     "iopub.status.busy": "2021-07-08T06:30:59.080094Z",
     "iopub.status.idle": "2021-07-08T06:30:59.100850Z",
     "shell.execute_reply": "2021-07-08T06:30:59.099288Z"
    },
    "papermill": {
     "duration": 0.079932,
     "end_time": "2021-07-08T06:30:59.101000",
     "exception": false,
     "start_time": "2021-07-08T06:30:59.021068",
     "status": "completed"
    },
    "tags": []
   },
   "outputs": [
    {
     "data": {
      "text/html": [
       "<style>\n",
       ".list-inline {list-style: none; margin:0; padding: 0}\n",
       ".list-inline>li {display: inline-block}\n",
       ".list-inline>li:not(:last-child)::after {content: \"\\00b7\"; padding: 0 .5ex}\n",
       "</style>\n",
       "<ol class=list-inline><li>'ride_id'</li><li>'rideable_type'</li><li>'started_at'</li><li>'ended_at'</li><li>'start_station_name'</li><li>'start_station_id'</li><li>'end_station_name'</li><li>'end_station_id'</li><li>'start_lat'</li><li>'start_lng'</li><li>'end_lat'</li><li>'end_lng'</li><li>'member_casual'</li><li>'ride_length'</li><li>'WEEKDAY'</li></ol>\n"
      ],
      "text/latex": [
       "\\begin{enumerate*}\n",
       "\\item 'ride\\_id'\n",
       "\\item 'rideable\\_type'\n",
       "\\item 'started\\_at'\n",
       "\\item 'ended\\_at'\n",
       "\\item 'start\\_station\\_name'\n",
       "\\item 'start\\_station\\_id'\n",
       "\\item 'end\\_station\\_name'\n",
       "\\item 'end\\_station\\_id'\n",
       "\\item 'start\\_lat'\n",
       "\\item 'start\\_lng'\n",
       "\\item 'end\\_lat'\n",
       "\\item 'end\\_lng'\n",
       "\\item 'member\\_casual'\n",
       "\\item 'ride\\_length'\n",
       "\\item 'WEEKDAY'\n",
       "\\end{enumerate*}\n"
      ],
      "text/markdown": [
       "1. 'ride_id'\n",
       "2. 'rideable_type'\n",
       "3. 'started_at'\n",
       "4. 'ended_at'\n",
       "5. 'start_station_name'\n",
       "6. 'start_station_id'\n",
       "7. 'end_station_name'\n",
       "8. 'end_station_id'\n",
       "9. 'start_lat'\n",
       "10. 'start_lng'\n",
       "11. 'end_lat'\n",
       "12. 'end_lng'\n",
       "13. 'member_casual'\n",
       "14. 'ride_length'\n",
       "15. 'WEEKDAY'\n",
       "\n",
       "\n"
      ],
      "text/plain": [
       " [1] \"ride_id\"            \"rideable_type\"      \"started_at\"        \n",
       " [4] \"ended_at\"           \"start_station_name\" \"start_station_id\"  \n",
       " [7] \"end_station_name\"   \"end_station_id\"     \"start_lat\"         \n",
       "[10] \"start_lng\"          \"end_lat\"            \"end_lng\"           \n",
       "[13] \"member_casual\"      \"ride_length\"        \"WEEKDAY\"           "
      ]
     },
     "metadata": {},
     "output_type": "display_data"
    }
   ],
   "source": [
    "colnames(df_an)"
   ]
  },
  {
   "cell_type": "markdown",
   "id": "516c85bd",
   "metadata": {
    "papermill": {
     "duration": 0.053826,
     "end_time": "2021-07-08T06:30:59.209665",
     "exception": false,
     "start_time": "2021-07-08T06:30:59.155839",
     "status": "completed"
    },
    "tags": []
   },
   "source": [
    "### How many rows are in data frame?\n",
    " "
   ]
  },
  {
   "cell_type": "code",
   "execution_count": 4,
   "id": "effe89c4",
   "metadata": {
    "execution": {
     "iopub.execute_input": "2021-07-08T06:30:59.324691Z",
     "iopub.status.busy": "2021-07-08T06:30:59.322995Z",
     "iopub.status.idle": "2021-07-08T06:30:59.342003Z",
     "shell.execute_reply": "2021-07-08T06:30:59.340634Z"
    },
    "papermill": {
     "duration": 0.078248,
     "end_time": "2021-07-08T06:30:59.342181",
     "exception": false,
     "start_time": "2021-07-08T06:30:59.263933",
     "status": "completed"
    },
    "tags": []
   },
   "outputs": [
    {
     "data": {
      "text/html": [
       "4073561"
      ],
      "text/latex": [
       "4073561"
      ],
      "text/markdown": [
       "4073561"
      ],
      "text/plain": [
       "[1] 4073561"
      ]
     },
     "metadata": {},
     "output_type": "display_data"
    }
   ],
   "source": [
    "nrow(df_an)"
   ]
  },
  {
   "cell_type": "markdown",
   "id": "2c7f9f5b",
   "metadata": {
    "papermill": {
     "duration": 0.05472,
     "end_time": "2021-07-08T06:30:59.451603",
     "exception": false,
     "start_time": "2021-07-08T06:30:59.396883",
     "status": "completed"
    },
    "tags": []
   },
   "source": [
    "### Dimensions of the data frame?\n"
   ]
  },
  {
   "cell_type": "code",
   "execution_count": 5,
   "id": "0d691f8f",
   "metadata": {
    "execution": {
     "iopub.execute_input": "2021-07-08T06:30:59.567736Z",
     "iopub.status.busy": "2021-07-08T06:30:59.565946Z",
     "iopub.status.idle": "2021-07-08T06:30:59.584870Z",
     "shell.execute_reply": "2021-07-08T06:30:59.583451Z"
    },
    "papermill": {
     "duration": 0.078583,
     "end_time": "2021-07-08T06:30:59.585024",
     "exception": false,
     "start_time": "2021-07-08T06:30:59.506441",
     "status": "completed"
    },
    "tags": []
   },
   "outputs": [
    {
     "data": {
      "text/html": [
       "<style>\n",
       ".list-inline {list-style: none; margin:0; padding: 0}\n",
       ".list-inline>li {display: inline-block}\n",
       ".list-inline>li:not(:last-child)::after {content: \"\\00b7\"; padding: 0 .5ex}\n",
       "</style>\n",
       "<ol class=list-inline><li>4073561</li><li>15</li></ol>\n"
      ],
      "text/latex": [
       "\\begin{enumerate*}\n",
       "\\item 4073561\n",
       "\\item 15\n",
       "\\end{enumerate*}\n"
      ],
      "text/markdown": [
       "1. 4073561\n",
       "2. 15\n",
       "\n",
       "\n"
      ],
      "text/plain": [
       "[1] 4073561      15"
      ]
     },
     "metadata": {},
     "output_type": "display_data"
    }
   ],
   "source": [
    "dim(df_an)"
   ]
  },
  {
   "cell_type": "markdown",
   "id": "e15525bf",
   "metadata": {
    "papermill": {
     "duration": 0.055098,
     "end_time": "2021-07-08T06:30:59.695574",
     "exception": false,
     "start_time": "2021-07-08T06:30:59.640476",
     "status": "completed"
    },
    "tags": []
   },
   "source": [
    " ### See the first and end 6 rows of data frame."
   ]
  },
  {
   "cell_type": "code",
   "execution_count": 6,
   "id": "b2fa4ae6",
   "metadata": {
    "execution": {
     "iopub.execute_input": "2021-07-08T06:30:59.814018Z",
     "iopub.status.busy": "2021-07-08T06:30:59.812398Z",
     "iopub.status.idle": "2021-07-08T06:30:59.870186Z",
     "shell.execute_reply": "2021-07-08T06:30:59.868640Z"
    },
    "papermill": {
     "duration": 0.119506,
     "end_time": "2021-07-08T06:30:59.870341",
     "exception": false,
     "start_time": "2021-07-08T06:30:59.750835",
     "status": "completed"
    },
    "tags": []
   },
   "outputs": [
    {
     "data": {
      "text/html": [
       "<table class=\"dataframe\">\n",
       "<caption>A data.frame: 6 × 15</caption>\n",
       "<thead>\n",
       "\t<tr><th></th><th scope=col>ride_id</th><th scope=col>rideable_type</th><th scope=col>started_at</th><th scope=col>ended_at</th><th scope=col>start_station_name</th><th scope=col>start_station_id</th><th scope=col>end_station_name</th><th scope=col>end_station_id</th><th scope=col>start_lat</th><th scope=col>start_lng</th><th scope=col>end_lat</th><th scope=col>end_lng</th><th scope=col>member_casual</th><th scope=col>ride_length</th><th scope=col>WEEKDAY</th></tr>\n",
       "\t<tr><th></th><th scope=col>&lt;chr&gt;</th><th scope=col>&lt;chr&gt;</th><th scope=col>&lt;chr&gt;</th><th scope=col>&lt;chr&gt;</th><th scope=col>&lt;chr&gt;</th><th scope=col>&lt;chr&gt;</th><th scope=col>&lt;chr&gt;</th><th scope=col>&lt;chr&gt;</th><th scope=col>&lt;dbl&gt;</th><th scope=col>&lt;dbl&gt;</th><th scope=col>&lt;dbl&gt;</th><th scope=col>&lt;dbl&gt;</th><th scope=col>&lt;chr&gt;</th><th scope=col>&lt;chr&gt;</th><th scope=col>&lt;int&gt;</th></tr>\n",
       "</thead>\n",
       "<tbody>\n",
       "\t<tr><th scope=row>1</th><td>8CD5DE2C2B6C4CFC</td><td>docked_bike</td><td>13-06-20 23:24</td><td>13-06-20 23:36</td><td><span style=white-space:pre-wrap>Wilton Ave &amp; Belmont Ave   </span></td><td>117</td><td>Damen Ave &amp; Clybourn Ave</td><td>163</td><td>41.94018</td><td>-87.65304</td><td>41.93193</td><td>-87.67786</td><td>casual</td><td>00:12:00</td><td>7</td></tr>\n",
       "\t<tr><th scope=row>2</th><td>9A191EB2C751D85D</td><td>docked_bike</td><td>26-06-20 07:26</td><td>26-06-20 07:31</td><td><span style=white-space:pre-wrap>Federal St &amp; Polk St       </span></td><td>41 </td><td><span style=white-space:pre-wrap>Daley Center Plaza      </span></td><td>81 </td><td>41.87208</td><td>-87.62954</td><td>41.88424</td><td>-87.62963</td><td>member</td><td>00:05:00</td><td>6</td></tr>\n",
       "\t<tr><th scope=row>3</th><td>F37D14B0B5659BCF</td><td>docked_bike</td><td>23-06-20 17:12</td><td>23-06-20 17:21</td><td><span style=white-space:pre-wrap>Daley Center Plaza         </span></td><td>81 </td><td><span style=white-space:pre-wrap>State St &amp; Harrison St  </span></td><td><span style=white-space:pre-wrap>5  </span></td><td>41.88424</td><td>-87.62963</td><td>41.87405</td><td>-87.62772</td><td>member</td><td>00:09:00</td><td>3</td></tr>\n",
       "\t<tr><th scope=row>4</th><td>C41237B506E85FA1</td><td>docked_bike</td><td>20-06-20 01:09</td><td>20-06-20 01:28</td><td><span style=white-space:pre-wrap>Broadway &amp; Cornelia Ave    </span></td><td>303</td><td><span style=white-space:pre-wrap>Broadway &amp; Berwyn Ave   </span></td><td>294</td><td>41.94553</td><td>-87.64644</td><td>41.97835</td><td>-87.65975</td><td>casual</td><td>00:19:00</td><td>7</td></tr>\n",
       "\t<tr><th scope=row>5</th><td>4B51B3B0BDA7787C</td><td>docked_bike</td><td>25-06-20 16:59</td><td>25-06-20 17:08</td><td>Sheffield Ave &amp; Webster Ave</td><td>327</td><td>Wilton Ave &amp; Belmont Ave</td><td>117</td><td>41.92154</td><td>-87.65382</td><td>41.94018</td><td>-87.65304</td><td>casual</td><td>00:09:00</td><td>5</td></tr>\n",
       "\t<tr><th scope=row>6</th><td>D50DF288196B53BE</td><td>docked_bike</td><td>17-06-20 18:07</td><td>17-06-20 18:18</td><td>Sheffield Ave &amp; Webster Ave</td><td>327</td><td>Wilton Ave &amp; Belmont Ave</td><td>117</td><td>41.92154</td><td>-87.65382</td><td>41.94018</td><td>-87.65304</td><td>casual</td><td>00:11:00</td><td>4</td></tr>\n",
       "</tbody>\n",
       "</table>\n"
      ],
      "text/latex": [
       "A data.frame: 6 × 15\n",
       "\\begin{tabular}{r|lllllllllllllll}\n",
       "  & ride\\_id & rideable\\_type & started\\_at & ended\\_at & start\\_station\\_name & start\\_station\\_id & end\\_station\\_name & end\\_station\\_id & start\\_lat & start\\_lng & end\\_lat & end\\_lng & member\\_casual & ride\\_length & WEEKDAY\\\\\n",
       "  & <chr> & <chr> & <chr> & <chr> & <chr> & <chr> & <chr> & <chr> & <dbl> & <dbl> & <dbl> & <dbl> & <chr> & <chr> & <int>\\\\\n",
       "\\hline\n",
       "\t1 & 8CD5DE2C2B6C4CFC & docked\\_bike & 13-06-20 23:24 & 13-06-20 23:36 & Wilton Ave \\& Belmont Ave    & 117 & Damen Ave \\& Clybourn Ave & 163 & 41.94018 & -87.65304 & 41.93193 & -87.67786 & casual & 00:12:00 & 7\\\\\n",
       "\t2 & 9A191EB2C751D85D & docked\\_bike & 26-06-20 07:26 & 26-06-20 07:31 & Federal St \\& Polk St        & 41  & Daley Center Plaza       & 81  & 41.87208 & -87.62954 & 41.88424 & -87.62963 & member & 00:05:00 & 6\\\\\n",
       "\t3 & F37D14B0B5659BCF & docked\\_bike & 23-06-20 17:12 & 23-06-20 17:21 & Daley Center Plaza          & 81  & State St \\& Harrison St   & 5   & 41.88424 & -87.62963 & 41.87405 & -87.62772 & member & 00:09:00 & 3\\\\\n",
       "\t4 & C41237B506E85FA1 & docked\\_bike & 20-06-20 01:09 & 20-06-20 01:28 & Broadway \\& Cornelia Ave     & 303 & Broadway \\& Berwyn Ave    & 294 & 41.94553 & -87.64644 & 41.97835 & -87.65975 & casual & 00:19:00 & 7\\\\\n",
       "\t5 & 4B51B3B0BDA7787C & docked\\_bike & 25-06-20 16:59 & 25-06-20 17:08 & Sheffield Ave \\& Webster Ave & 327 & Wilton Ave \\& Belmont Ave & 117 & 41.92154 & -87.65382 & 41.94018 & -87.65304 & casual & 00:09:00 & 5\\\\\n",
       "\t6 & D50DF288196B53BE & docked\\_bike & 17-06-20 18:07 & 17-06-20 18:18 & Sheffield Ave \\& Webster Ave & 327 & Wilton Ave \\& Belmont Ave & 117 & 41.92154 & -87.65382 & 41.94018 & -87.65304 & casual & 00:11:00 & 4\\\\\n",
       "\\end{tabular}\n"
      ],
      "text/markdown": [
       "\n",
       "A data.frame: 6 × 15\n",
       "\n",
       "| <!--/--> | ride_id &lt;chr&gt; | rideable_type &lt;chr&gt; | started_at &lt;chr&gt; | ended_at &lt;chr&gt; | start_station_name &lt;chr&gt; | start_station_id &lt;chr&gt; | end_station_name &lt;chr&gt; | end_station_id &lt;chr&gt; | start_lat &lt;dbl&gt; | start_lng &lt;dbl&gt; | end_lat &lt;dbl&gt; | end_lng &lt;dbl&gt; | member_casual &lt;chr&gt; | ride_length &lt;chr&gt; | WEEKDAY &lt;int&gt; |\n",
       "|---|---|---|---|---|---|---|---|---|---|---|---|---|---|---|---|\n",
       "| 1 | 8CD5DE2C2B6C4CFC | docked_bike | 13-06-20 23:24 | 13-06-20 23:36 | Wilton Ave &amp; Belmont Ave    | 117 | Damen Ave &amp; Clybourn Ave | 163 | 41.94018 | -87.65304 | 41.93193 | -87.67786 | casual | 00:12:00 | 7 |\n",
       "| 2 | 9A191EB2C751D85D | docked_bike | 26-06-20 07:26 | 26-06-20 07:31 | Federal St &amp; Polk St        | 41  | Daley Center Plaza       | 81  | 41.87208 | -87.62954 | 41.88424 | -87.62963 | member | 00:05:00 | 6 |\n",
       "| 3 | F37D14B0B5659BCF | docked_bike | 23-06-20 17:12 | 23-06-20 17:21 | Daley Center Plaza          | 81  | State St &amp; Harrison St   | 5   | 41.88424 | -87.62963 | 41.87405 | -87.62772 | member | 00:09:00 | 3 |\n",
       "| 4 | C41237B506E85FA1 | docked_bike | 20-06-20 01:09 | 20-06-20 01:28 | Broadway &amp; Cornelia Ave     | 303 | Broadway &amp; Berwyn Ave    | 294 | 41.94553 | -87.64644 | 41.97835 | -87.65975 | casual | 00:19:00 | 7 |\n",
       "| 5 | 4B51B3B0BDA7787C | docked_bike | 25-06-20 16:59 | 25-06-20 17:08 | Sheffield Ave &amp; Webster Ave | 327 | Wilton Ave &amp; Belmont Ave | 117 | 41.92154 | -87.65382 | 41.94018 | -87.65304 | casual | 00:09:00 | 5 |\n",
       "| 6 | D50DF288196B53BE | docked_bike | 17-06-20 18:07 | 17-06-20 18:18 | Sheffield Ave &amp; Webster Ave | 327 | Wilton Ave &amp; Belmont Ave | 117 | 41.92154 | -87.65382 | 41.94018 | -87.65304 | casual | 00:11:00 | 4 |\n",
       "\n"
      ],
      "text/plain": [
       "  ride_id          rideable_type started_at     ended_at      \n",
       "1 8CD5DE2C2B6C4CFC docked_bike   13-06-20 23:24 13-06-20 23:36\n",
       "2 9A191EB2C751D85D docked_bike   26-06-20 07:26 26-06-20 07:31\n",
       "3 F37D14B0B5659BCF docked_bike   23-06-20 17:12 23-06-20 17:21\n",
       "4 C41237B506E85FA1 docked_bike   20-06-20 01:09 20-06-20 01:28\n",
       "5 4B51B3B0BDA7787C docked_bike   25-06-20 16:59 25-06-20 17:08\n",
       "6 D50DF288196B53BE docked_bike   17-06-20 18:07 17-06-20 18:18\n",
       "  start_station_name          start_station_id end_station_name        \n",
       "1 Wilton Ave & Belmont Ave    117              Damen Ave & Clybourn Ave\n",
       "2 Federal St & Polk St        41               Daley Center Plaza      \n",
       "3 Daley Center Plaza          81               State St & Harrison St  \n",
       "4 Broadway & Cornelia Ave     303              Broadway & Berwyn Ave   \n",
       "5 Sheffield Ave & Webster Ave 327              Wilton Ave & Belmont Ave\n",
       "6 Sheffield Ave & Webster Ave 327              Wilton Ave & Belmont Ave\n",
       "  end_station_id start_lat start_lng end_lat  end_lng   member_casual\n",
       "1 163            41.94018  -87.65304 41.93193 -87.67786 casual       \n",
       "2 81             41.87208  -87.62954 41.88424 -87.62963 member       \n",
       "3 5              41.88424  -87.62963 41.87405 -87.62772 member       \n",
       "4 294            41.94553  -87.64644 41.97835 -87.65975 casual       \n",
       "5 117            41.92154  -87.65382 41.94018 -87.65304 casual       \n",
       "6 117            41.92154  -87.65382 41.94018 -87.65304 casual       \n",
       "  ride_length WEEKDAY\n",
       "1 00:12:00    7      \n",
       "2 00:05:00    6      \n",
       "3 00:09:00    3      \n",
       "4 00:19:00    7      \n",
       "5 00:09:00    5      \n",
       "6 00:11:00    4      "
      ]
     },
     "metadata": {},
     "output_type": "display_data"
    },
    {
     "data": {
      "text/html": [
       "<table class=\"dataframe\">\n",
       "<caption>A data.frame: 6 × 15</caption>\n",
       "<thead>\n",
       "\t<tr><th></th><th scope=col>ride_id</th><th scope=col>rideable_type</th><th scope=col>started_at</th><th scope=col>ended_at</th><th scope=col>start_station_name</th><th scope=col>start_station_id</th><th scope=col>end_station_name</th><th scope=col>end_station_id</th><th scope=col>start_lat</th><th scope=col>start_lng</th><th scope=col>end_lat</th><th scope=col>end_lng</th><th scope=col>member_casual</th><th scope=col>ride_length</th><th scope=col>WEEKDAY</th></tr>\n",
       "\t<tr><th></th><th scope=col>&lt;chr&gt;</th><th scope=col>&lt;chr&gt;</th><th scope=col>&lt;chr&gt;</th><th scope=col>&lt;chr&gt;</th><th scope=col>&lt;chr&gt;</th><th scope=col>&lt;chr&gt;</th><th scope=col>&lt;chr&gt;</th><th scope=col>&lt;chr&gt;</th><th scope=col>&lt;dbl&gt;</th><th scope=col>&lt;dbl&gt;</th><th scope=col>&lt;dbl&gt;</th><th scope=col>&lt;dbl&gt;</th><th scope=col>&lt;chr&gt;</th><th scope=col>&lt;chr&gt;</th><th scope=col>&lt;int&gt;</th></tr>\n",
       "</thead>\n",
       "<tbody>\n",
       "\t<tr><th scope=row>4073556</th><td>D0B8E59E2B3C406D</td><td>electric_bike</td><td>02-05-21 17:48</td><td>02-05-21 17:52</td><td>Blackstone Ave &amp; Hyde Park Blvd</td><td><span style=white-space:pre-wrap>13398       </span></td><td><span style=white-space:pre-wrap>                     </span></td><td><span style=white-space:pre-wrap>            </span></td><td>41.80259</td><td>-87.59031</td><td>41.80000</td><td>-87.60000</td><td>member</td><td>00:04:02</td><td>1</td></tr>\n",
       "\t<tr><th scope=row>4073557</th><td>EF56D7D1D612AC11</td><td>electric_bike</td><td>20-05-21 16:32</td><td>20-05-21 16:35</td><td>Blackstone Ave &amp; Hyde Park Blvd</td><td><span style=white-space:pre-wrap>13398       </span></td><td><span style=white-space:pre-wrap>                     </span></td><td><span style=white-space:pre-wrap>            </span></td><td>41.80258</td><td>-87.59023</td><td>41.80000</td><td>-87.60000</td><td>member</td><td>00:03:25</td><td>5</td></tr>\n",
       "\t<tr><th scope=row>4073558</th><td>745191CB9F21DE3C</td><td>classic_bike </td><td>29-05-21 16:40</td><td>29-05-21 17:22</td><td><span style=white-space:pre-wrap>Sheridan Rd &amp; Montrose Ave     </span></td><td>TA1307000107</td><td>Michigan Ave &amp; Oak St</td><td><span style=white-space:pre-wrap>13042       </span></td><td>41.96167</td><td>-87.65464</td><td>41.90096</td><td>-87.62378</td><td>casual</td><td>00:42:00</td><td>7</td></tr>\n",
       "\t<tr><th scope=row>4073559</th><td>428575BAA5356BFF</td><td>electric_bike</td><td>31-05-21 14:24</td><td>31-05-21 14:31</td><td><span style=white-space:pre-wrap>Sheridan Rd &amp; Montrose Ave     </span></td><td>TA1307000107</td><td><span style=white-space:pre-wrap>                     </span></td><td><span style=white-space:pre-wrap>            </span></td><td>41.96152</td><td>-87.65465</td><td>41.95000</td><td>-87.65000</td><td>member</td><td>00:06:44</td><td>2</td></tr>\n",
       "\t<tr><th scope=row>4073560</th><td>FC8A4A7AB7249662</td><td>electric_bike</td><td>25-05-21 16:01</td><td>25-05-21 16:07</td><td><span style=white-space:pre-wrap>Sheridan Rd &amp; Montrose Ave     </span></td><td>TA1307000107</td><td><span style=white-space:pre-wrap>                     </span></td><td><span style=white-space:pre-wrap>            </span></td><td>41.96165</td><td>-87.65472</td><td>41.98000</td><td>-87.66000</td><td>member</td><td>00:06:04</td><td>3</td></tr>\n",
       "\t<tr><th scope=row>4073561</th><td>E873B8AA3EE84678</td><td><span style=white-space:pre-wrap>docked_bike  </span></td><td>12-05-21 12:22</td><td>12-05-21 12:30</td><td><span style=white-space:pre-wrap>Sheridan Rd &amp; Montrose Ave     </span></td><td>TA1307000107</td><td><span style=white-space:pre-wrap>Clark St &amp; Grace St  </span></td><td>TA1307000127</td><td>41.96167</td><td>-87.65464</td><td>41.95078</td><td>-87.65917</td><td>casual</td><td>00:08:13</td><td>4</td></tr>\n",
       "</tbody>\n",
       "</table>\n"
      ],
      "text/latex": [
       "A data.frame: 6 × 15\n",
       "\\begin{tabular}{r|lllllllllllllll}\n",
       "  & ride\\_id & rideable\\_type & started\\_at & ended\\_at & start\\_station\\_name & start\\_station\\_id & end\\_station\\_name & end\\_station\\_id & start\\_lat & start\\_lng & end\\_lat & end\\_lng & member\\_casual & ride\\_length & WEEKDAY\\\\\n",
       "  & <chr> & <chr> & <chr> & <chr> & <chr> & <chr> & <chr> & <chr> & <dbl> & <dbl> & <dbl> & <dbl> & <chr> & <chr> & <int>\\\\\n",
       "\\hline\n",
       "\t4073556 & D0B8E59E2B3C406D & electric\\_bike & 02-05-21 17:48 & 02-05-21 17:52 & Blackstone Ave \\& Hyde Park Blvd & 13398        &                       &              & 41.80259 & -87.59031 & 41.80000 & -87.60000 & member & 00:04:02 & 1\\\\\n",
       "\t4073557 & EF56D7D1D612AC11 & electric\\_bike & 20-05-21 16:32 & 20-05-21 16:35 & Blackstone Ave \\& Hyde Park Blvd & 13398        &                       &              & 41.80258 & -87.59023 & 41.80000 & -87.60000 & member & 00:03:25 & 5\\\\\n",
       "\t4073558 & 745191CB9F21DE3C & classic\\_bike  & 29-05-21 16:40 & 29-05-21 17:22 & Sheridan Rd \\& Montrose Ave      & TA1307000107 & Michigan Ave \\& Oak St & 13042        & 41.96167 & -87.65464 & 41.90096 & -87.62378 & casual & 00:42:00 & 7\\\\\n",
       "\t4073559 & 428575BAA5356BFF & electric\\_bike & 31-05-21 14:24 & 31-05-21 14:31 & Sheridan Rd \\& Montrose Ave      & TA1307000107 &                       &              & 41.96152 & -87.65465 & 41.95000 & -87.65000 & member & 00:06:44 & 2\\\\\n",
       "\t4073560 & FC8A4A7AB7249662 & electric\\_bike & 25-05-21 16:01 & 25-05-21 16:07 & Sheridan Rd \\& Montrose Ave      & TA1307000107 &                       &              & 41.96165 & -87.65472 & 41.98000 & -87.66000 & member & 00:06:04 & 3\\\\\n",
       "\t4073561 & E873B8AA3EE84678 & docked\\_bike   & 12-05-21 12:22 & 12-05-21 12:30 & Sheridan Rd \\& Montrose Ave      & TA1307000107 & Clark St \\& Grace St   & TA1307000127 & 41.96167 & -87.65464 & 41.95078 & -87.65917 & casual & 00:08:13 & 4\\\\\n",
       "\\end{tabular}\n"
      ],
      "text/markdown": [
       "\n",
       "A data.frame: 6 × 15\n",
       "\n",
       "| <!--/--> | ride_id &lt;chr&gt; | rideable_type &lt;chr&gt; | started_at &lt;chr&gt; | ended_at &lt;chr&gt; | start_station_name &lt;chr&gt; | start_station_id &lt;chr&gt; | end_station_name &lt;chr&gt; | end_station_id &lt;chr&gt; | start_lat &lt;dbl&gt; | start_lng &lt;dbl&gt; | end_lat &lt;dbl&gt; | end_lng &lt;dbl&gt; | member_casual &lt;chr&gt; | ride_length &lt;chr&gt; | WEEKDAY &lt;int&gt; |\n",
       "|---|---|---|---|---|---|---|---|---|---|---|---|---|---|---|---|\n",
       "| 4073556 | D0B8E59E2B3C406D | electric_bike | 02-05-21 17:48 | 02-05-21 17:52 | Blackstone Ave &amp; Hyde Park Blvd | 13398        | <!----> | <!----> | 41.80259 | -87.59031 | 41.80000 | -87.60000 | member | 00:04:02 | 1 |\n",
       "| 4073557 | EF56D7D1D612AC11 | electric_bike | 20-05-21 16:32 | 20-05-21 16:35 | Blackstone Ave &amp; Hyde Park Blvd | 13398        | <!----> | <!----> | 41.80258 | -87.59023 | 41.80000 | -87.60000 | member | 00:03:25 | 5 |\n",
       "| 4073558 | 745191CB9F21DE3C | classic_bike  | 29-05-21 16:40 | 29-05-21 17:22 | Sheridan Rd &amp; Montrose Ave      | TA1307000107 | Michigan Ave &amp; Oak St | 13042        | 41.96167 | -87.65464 | 41.90096 | -87.62378 | casual | 00:42:00 | 7 |\n",
       "| 4073559 | 428575BAA5356BFF | electric_bike | 31-05-21 14:24 | 31-05-21 14:31 | Sheridan Rd &amp; Montrose Ave      | TA1307000107 | <!----> | <!----> | 41.96152 | -87.65465 | 41.95000 | -87.65000 | member | 00:06:44 | 2 |\n",
       "| 4073560 | FC8A4A7AB7249662 | electric_bike | 25-05-21 16:01 | 25-05-21 16:07 | Sheridan Rd &amp; Montrose Ave      | TA1307000107 | <!----> | <!----> | 41.96165 | -87.65472 | 41.98000 | -87.66000 | member | 00:06:04 | 3 |\n",
       "| 4073561 | E873B8AA3EE84678 | docked_bike   | 12-05-21 12:22 | 12-05-21 12:30 | Sheridan Rd &amp; Montrose Ave      | TA1307000107 | Clark St &amp; Grace St   | TA1307000127 | 41.96167 | -87.65464 | 41.95078 | -87.65917 | casual | 00:08:13 | 4 |\n",
       "\n"
      ],
      "text/plain": [
       "        ride_id          rideable_type started_at     ended_at      \n",
       "4073556 D0B8E59E2B3C406D electric_bike 02-05-21 17:48 02-05-21 17:52\n",
       "4073557 EF56D7D1D612AC11 electric_bike 20-05-21 16:32 20-05-21 16:35\n",
       "4073558 745191CB9F21DE3C classic_bike  29-05-21 16:40 29-05-21 17:22\n",
       "4073559 428575BAA5356BFF electric_bike 31-05-21 14:24 31-05-21 14:31\n",
       "4073560 FC8A4A7AB7249662 electric_bike 25-05-21 16:01 25-05-21 16:07\n",
       "4073561 E873B8AA3EE84678 docked_bike   12-05-21 12:22 12-05-21 12:30\n",
       "        start_station_name              start_station_id end_station_name     \n",
       "4073556 Blackstone Ave & Hyde Park Blvd 13398                                 \n",
       "4073557 Blackstone Ave & Hyde Park Blvd 13398                                 \n",
       "4073558 Sheridan Rd & Montrose Ave      TA1307000107     Michigan Ave & Oak St\n",
       "4073559 Sheridan Rd & Montrose Ave      TA1307000107                          \n",
       "4073560 Sheridan Rd & Montrose Ave      TA1307000107                          \n",
       "4073561 Sheridan Rd & Montrose Ave      TA1307000107     Clark St & Grace St  \n",
       "        end_station_id start_lat start_lng end_lat  end_lng   member_casual\n",
       "4073556                41.80259  -87.59031 41.80000 -87.60000 member       \n",
       "4073557                41.80258  -87.59023 41.80000 -87.60000 member       \n",
       "4073558 13042          41.96167  -87.65464 41.90096 -87.62378 casual       \n",
       "4073559                41.96152  -87.65465 41.95000 -87.65000 member       \n",
       "4073560                41.96165  -87.65472 41.98000 -87.66000 member       \n",
       "4073561 TA1307000127   41.96167  -87.65464 41.95078 -87.65917 casual       \n",
       "        ride_length WEEKDAY\n",
       "4073556 00:04:02    1      \n",
       "4073557 00:03:25    5      \n",
       "4073558 00:42:00    7      \n",
       "4073559 00:06:44    2      \n",
       "4073560 00:06:04    3      \n",
       "4073561 00:08:13    4      "
      ]
     },
     "metadata": {},
     "output_type": "display_data"
    }
   ],
   "source": [
    "head(df_an, n = 6)\n",
    "tail(df_an, n = 6)"
   ]
  },
  {
   "cell_type": "code",
   "execution_count": 7,
   "id": "e0e9a86c",
   "metadata": {
    "execution": {
     "iopub.execute_input": "2021-07-08T06:31:00.009863Z",
     "iopub.status.busy": "2021-07-08T06:31:00.008155Z",
     "iopub.status.idle": "2021-07-08T06:31:00.055099Z",
     "shell.execute_reply": "2021-07-08T06:31:00.052794Z"
    },
    "papermill": {
     "duration": 0.120925,
     "end_time": "2021-07-08T06:31:00.055282",
     "exception": false,
     "start_time": "2021-07-08T06:30:59.934357",
     "status": "completed"
    },
    "tags": []
   },
   "outputs": [],
   "source": [
    "df_Divvy_C_V01 <- df_an %>% \n",
    "  select(-c(ride_id,start_station_id,end_station_id))"
   ]
  },
  {
   "cell_type": "code",
   "execution_count": 8,
   "id": "ead9bb10",
   "metadata": {
    "execution": {
     "iopub.execute_input": "2021-07-08T06:31:00.188434Z",
     "iopub.status.busy": "2021-07-08T06:31:00.187463Z",
     "iopub.status.idle": "2021-07-08T06:31:25.904898Z",
     "shell.execute_reply": "2021-07-08T06:31:25.903985Z"
    },
    "papermill": {
     "duration": 25.789687,
     "end_time": "2021-07-08T06:31:25.905148",
     "exception": false,
     "start_time": "2021-07-08T06:31:00.115461",
     "status": "completed"
    },
    "tags": []
   },
   "outputs": [
    {
     "data": {
      "text/html": [
       "<table class=\"dataframe\">\n",
       "<caption>A data.frame: 6 × 12</caption>\n",
       "<thead>\n",
       "\t<tr><th></th><th scope=col>rideable_type</th><th scope=col>started_at</th><th scope=col>ended_at</th><th scope=col>start_station_name</th><th scope=col>end_station_name</th><th scope=col>start_lat</th><th scope=col>start_lng</th><th scope=col>end_lat</th><th scope=col>end_lng</th><th scope=col>member_casual</th><th scope=col>ride_length</th><th scope=col>WEEKDAY</th></tr>\n",
       "\t<tr><th></th><th scope=col>&lt;chr&gt;</th><th scope=col>&lt;chr&gt;</th><th scope=col>&lt;chr&gt;</th><th scope=col>&lt;chr&gt;</th><th scope=col>&lt;chr&gt;</th><th scope=col>&lt;dbl&gt;</th><th scope=col>&lt;dbl&gt;</th><th scope=col>&lt;dbl&gt;</th><th scope=col>&lt;dbl&gt;</th><th scope=col>&lt;chr&gt;</th><th scope=col>&lt;chr&gt;</th><th scope=col>&lt;int&gt;</th></tr>\n",
       "</thead>\n",
       "<tbody>\n",
       "\t<tr><th scope=row>1</th><td>docked_bike</td><td>13-06-20 23:24</td><td>13-06-20 23:36</td><td><span style=white-space:pre-wrap>Wilton Ave &amp; Belmont Ave   </span></td><td>Damen Ave &amp; Clybourn Ave</td><td>41.94018</td><td>-87.65304</td><td>41.93193</td><td>-87.67786</td><td>casual</td><td>00:12:00</td><td>7</td></tr>\n",
       "\t<tr><th scope=row>2</th><td>docked_bike</td><td>26-06-20 07:26</td><td>26-06-20 07:31</td><td><span style=white-space:pre-wrap>Federal St &amp; Polk St       </span></td><td><span style=white-space:pre-wrap>Daley Center Plaza      </span></td><td>41.87208</td><td>-87.62954</td><td>41.88424</td><td>-87.62963</td><td>member</td><td>00:05:00</td><td>6</td></tr>\n",
       "\t<tr><th scope=row>3</th><td>docked_bike</td><td>23-06-20 17:12</td><td>23-06-20 17:21</td><td><span style=white-space:pre-wrap>Daley Center Plaza         </span></td><td><span style=white-space:pre-wrap>State St &amp; Harrison St  </span></td><td>41.88424</td><td>-87.62963</td><td>41.87405</td><td>-87.62772</td><td>member</td><td>00:09:00</td><td>3</td></tr>\n",
       "\t<tr><th scope=row>4</th><td>docked_bike</td><td>20-06-20 01:09</td><td>20-06-20 01:28</td><td><span style=white-space:pre-wrap>Broadway &amp; Cornelia Ave    </span></td><td><span style=white-space:pre-wrap>Broadway &amp; Berwyn Ave   </span></td><td>41.94553</td><td>-87.64644</td><td>41.97835</td><td>-87.65975</td><td>casual</td><td>00:19:00</td><td>7</td></tr>\n",
       "\t<tr><th scope=row>5</th><td>docked_bike</td><td>25-06-20 16:59</td><td>25-06-20 17:08</td><td>Sheffield Ave &amp; Webster Ave</td><td>Wilton Ave &amp; Belmont Ave</td><td>41.92154</td><td>-87.65382</td><td>41.94018</td><td>-87.65304</td><td>casual</td><td>00:09:00</td><td>5</td></tr>\n",
       "\t<tr><th scope=row>6</th><td>docked_bike</td><td>17-06-20 18:07</td><td>17-06-20 18:18</td><td>Sheffield Ave &amp; Webster Ave</td><td>Wilton Ave &amp; Belmont Ave</td><td>41.92154</td><td>-87.65382</td><td>41.94018</td><td>-87.65304</td><td>casual</td><td>00:11:00</td><td>4</td></tr>\n",
       "</tbody>\n",
       "</table>\n"
      ],
      "text/latex": [
       "A data.frame: 6 × 12\n",
       "\\begin{tabular}{r|llllllllllll}\n",
       "  & rideable\\_type & started\\_at & ended\\_at & start\\_station\\_name & end\\_station\\_name & start\\_lat & start\\_lng & end\\_lat & end\\_lng & member\\_casual & ride\\_length & WEEKDAY\\\\\n",
       "  & <chr> & <chr> & <chr> & <chr> & <chr> & <dbl> & <dbl> & <dbl> & <dbl> & <chr> & <chr> & <int>\\\\\n",
       "\\hline\n",
       "\t1 & docked\\_bike & 13-06-20 23:24 & 13-06-20 23:36 & Wilton Ave \\& Belmont Ave    & Damen Ave \\& Clybourn Ave & 41.94018 & -87.65304 & 41.93193 & -87.67786 & casual & 00:12:00 & 7\\\\\n",
       "\t2 & docked\\_bike & 26-06-20 07:26 & 26-06-20 07:31 & Federal St \\& Polk St        & Daley Center Plaza       & 41.87208 & -87.62954 & 41.88424 & -87.62963 & member & 00:05:00 & 6\\\\\n",
       "\t3 & docked\\_bike & 23-06-20 17:12 & 23-06-20 17:21 & Daley Center Plaza          & State St \\& Harrison St   & 41.88424 & -87.62963 & 41.87405 & -87.62772 & member & 00:09:00 & 3\\\\\n",
       "\t4 & docked\\_bike & 20-06-20 01:09 & 20-06-20 01:28 & Broadway \\& Cornelia Ave     & Broadway \\& Berwyn Ave    & 41.94553 & -87.64644 & 41.97835 & -87.65975 & casual & 00:19:00 & 7\\\\\n",
       "\t5 & docked\\_bike & 25-06-20 16:59 & 25-06-20 17:08 & Sheffield Ave \\& Webster Ave & Wilton Ave \\& Belmont Ave & 41.92154 & -87.65382 & 41.94018 & -87.65304 & casual & 00:09:00 & 5\\\\\n",
       "\t6 & docked\\_bike & 17-06-20 18:07 & 17-06-20 18:18 & Sheffield Ave \\& Webster Ave & Wilton Ave \\& Belmont Ave & 41.92154 & -87.65382 & 41.94018 & -87.65304 & casual & 00:11:00 & 4\\\\\n",
       "\\end{tabular}\n"
      ],
      "text/markdown": [
       "\n",
       "A data.frame: 6 × 12\n",
       "\n",
       "| <!--/--> | rideable_type &lt;chr&gt; | started_at &lt;chr&gt; | ended_at &lt;chr&gt; | start_station_name &lt;chr&gt; | end_station_name &lt;chr&gt; | start_lat &lt;dbl&gt; | start_lng &lt;dbl&gt; | end_lat &lt;dbl&gt; | end_lng &lt;dbl&gt; | member_casual &lt;chr&gt; | ride_length &lt;chr&gt; | WEEKDAY &lt;int&gt; |\n",
       "|---|---|---|---|---|---|---|---|---|---|---|---|---|\n",
       "| 1 | docked_bike | 13-06-20 23:24 | 13-06-20 23:36 | Wilton Ave &amp; Belmont Ave    | Damen Ave &amp; Clybourn Ave | 41.94018 | -87.65304 | 41.93193 | -87.67786 | casual | 00:12:00 | 7 |\n",
       "| 2 | docked_bike | 26-06-20 07:26 | 26-06-20 07:31 | Federal St &amp; Polk St        | Daley Center Plaza       | 41.87208 | -87.62954 | 41.88424 | -87.62963 | member | 00:05:00 | 6 |\n",
       "| 3 | docked_bike | 23-06-20 17:12 | 23-06-20 17:21 | Daley Center Plaza          | State St &amp; Harrison St   | 41.88424 | -87.62963 | 41.87405 | -87.62772 | member | 00:09:00 | 3 |\n",
       "| 4 | docked_bike | 20-06-20 01:09 | 20-06-20 01:28 | Broadway &amp; Cornelia Ave     | Broadway &amp; Berwyn Ave    | 41.94553 | -87.64644 | 41.97835 | -87.65975 | casual | 00:19:00 | 7 |\n",
       "| 5 | docked_bike | 25-06-20 16:59 | 25-06-20 17:08 | Sheffield Ave &amp; Webster Ave | Wilton Ave &amp; Belmont Ave | 41.92154 | -87.65382 | 41.94018 | -87.65304 | casual | 00:09:00 | 5 |\n",
       "| 6 | docked_bike | 17-06-20 18:07 | 17-06-20 18:18 | Sheffield Ave &amp; Webster Ave | Wilton Ave &amp; Belmont Ave | 41.92154 | -87.65382 | 41.94018 | -87.65304 | casual | 00:11:00 | 4 |\n",
       "\n"
      ],
      "text/plain": [
       "  rideable_type started_at     ended_at       start_station_name         \n",
       "1 docked_bike   13-06-20 23:24 13-06-20 23:36 Wilton Ave & Belmont Ave   \n",
       "2 docked_bike   26-06-20 07:26 26-06-20 07:31 Federal St & Polk St       \n",
       "3 docked_bike   23-06-20 17:12 23-06-20 17:21 Daley Center Plaza         \n",
       "4 docked_bike   20-06-20 01:09 20-06-20 01:28 Broadway & Cornelia Ave    \n",
       "5 docked_bike   25-06-20 16:59 25-06-20 17:08 Sheffield Ave & Webster Ave\n",
       "6 docked_bike   17-06-20 18:07 17-06-20 18:18 Sheffield Ave & Webster Ave\n",
       "  end_station_name         start_lat start_lng end_lat  end_lng   member_casual\n",
       "1 Damen Ave & Clybourn Ave 41.94018  -87.65304 41.93193 -87.67786 casual       \n",
       "2 Daley Center Plaza       41.87208  -87.62954 41.88424 -87.62963 member       \n",
       "3 State St & Harrison St   41.88424  -87.62963 41.87405 -87.62772 member       \n",
       "4 Broadway & Berwyn Ave    41.94553  -87.64644 41.97835 -87.65975 casual       \n",
       "5 Wilton Ave & Belmont Ave 41.92154  -87.65382 41.94018 -87.65304 casual       \n",
       "6 Wilton Ave & Belmont Ave 41.92154  -87.65382 41.94018 -87.65304 casual       \n",
       "  ride_length WEEKDAY\n",
       "1 00:12:00    7      \n",
       "2 00:05:00    6      \n",
       "3 00:09:00    3      \n",
       "4 00:19:00    7      \n",
       "5 00:09:00    5      \n",
       "6 00:11:00    4      "
      ]
     },
     "metadata": {},
     "output_type": "display_data"
    }
   ],
   "source": [
    "head(df_Divvy_C_V01)\n",
    "write_csv(df_Divvy_C_V01,'df_Divvy_C_V01.csv')"
   ]
  },
  {
   "cell_type": "code",
   "execution_count": 9,
   "id": "5734d0d0",
   "metadata": {
    "execution": {
     "iopub.execute_input": "2021-07-08T06:31:26.031298Z",
     "iopub.status.busy": "2021-07-08T06:31:26.029829Z",
     "iopub.status.idle": "2021-07-08T06:31:26.183208Z",
     "shell.execute_reply": "2021-07-08T06:31:26.181359Z"
    },
    "papermill": {
     "duration": 0.218161,
     "end_time": "2021-07-08T06:31:26.183402",
     "exception": false,
     "start_time": "2021-07-08T06:31:25.965241",
     "status": "completed"
    },
    "tags": []
   },
   "outputs": [
    {
     "data": {
      "text/html": [
       "<style>\n",
       ".list-inline {list-style: none; margin:0; padding: 0}\n",
       ".list-inline>li {display: inline-block}\n",
       ".list-inline>li:not(:last-child)::after {content: \"\\00b7\"; padding: 0 .5ex}\n",
       "</style>\n",
       "<ol class=list-inline><li>'docked_bike'</li><li>'electric_bike'</li><li>'classic_bike'</li></ol>\n"
      ],
      "text/latex": [
       "\\begin{enumerate*}\n",
       "\\item 'docked\\_bike'\n",
       "\\item 'electric\\_bike'\n",
       "\\item 'classic\\_bike'\n",
       "\\end{enumerate*}\n"
      ],
      "text/markdown": [
       "1. 'docked_bike'\n",
       "2. 'electric_bike'\n",
       "3. 'classic_bike'\n",
       "\n",
       "\n"
      ],
      "text/plain": [
       "[1] \"docked_bike\"   \"electric_bike\" \"classic_bike\" "
      ]
     },
     "metadata": {},
     "output_type": "display_data"
    },
    {
     "data": {
      "text/html": [
       "<style>\n",
       ".list-inline {list-style: none; margin:0; padding: 0}\n",
       ".list-inline>li {display: inline-block}\n",
       ".list-inline>li:not(:last-child)::after {content: \"\\00b7\"; padding: 0 .5ex}\n",
       "</style>\n",
       "<ol class=list-inline><li>'casual'</li><li>'member'</li></ol>\n"
      ],
      "text/latex": [
       "\\begin{enumerate*}\n",
       "\\item 'casual'\n",
       "\\item 'member'\n",
       "\\end{enumerate*}\n"
      ],
      "text/markdown": [
       "1. 'casual'\n",
       "2. 'member'\n",
       "\n",
       "\n"
      ],
      "text/plain": [
       "[1] \"casual\" \"member\""
      ]
     },
     "metadata": {},
     "output_type": "display_data"
    }
   ],
   "source": [
    "unique(df_Divvy_C_V01$rideable_type)\n",
    "unique(df_Divvy_C_V01$member_casual)"
   ]
  },
  {
   "cell_type": "markdown",
   "id": "40ac14f3",
   "metadata": {
    "papermill": {
     "duration": 0.059592,
     "end_time": "2021-07-08T06:31:26.303372",
     "exception": false,
     "start_time": "2021-07-08T06:31:26.243780",
     "status": "completed"
    },
    "tags": []
   },
   "source": [
    "## Generating Dummy variable"
   ]
  },
  {
   "cell_type": "code",
   "execution_count": 10,
   "id": "c1daf2c2",
   "metadata": {
    "execution": {
     "iopub.execute_input": "2021-07-08T06:31:26.429058Z",
     "iopub.status.busy": "2021-07-08T06:31:26.427565Z",
     "iopub.status.idle": "2021-07-08T06:31:27.575516Z",
     "shell.execute_reply": "2021-07-08T06:31:27.574377Z"
    },
    "papermill": {
     "duration": 1.212717,
     "end_time": "2021-07-08T06:31:27.575959",
     "exception": false,
     "start_time": "2021-07-08T06:31:26.363242",
     "status": "completed"
    },
    "tags": []
   },
   "outputs": [],
   "source": [
    "df_Divvy_C_V01$rideable_type_Dummy <- ifelse(df_Divvy_C_V01$rideable_type == 'docked_bike',0,ifelse(df_Divvy_C_V01$rideable_type == 'electric_bike',1,2))\n",
    "df_Divvy_C_V01$member_type_Dummy <- ifelse(df_Divvy_C_V01$member_casual == 'member',0,1)"
   ]
  },
  {
   "cell_type": "markdown",
   "id": "1d129262",
   "metadata": {
    "papermill": {
     "duration": 0.059764,
     "end_time": "2021-07-08T06:31:27.695579",
     "exception": false,
     "start_time": "2021-07-08T06:31:27.635815",
     "status": "completed"
    },
    "tags": []
   },
   "source": [
    "* **rideable_type**\n",
    "    - docked_bike -> 0\n",
    "    - electric_bike -> 1\n",
    "    - classic_bike -> 2\n",
    "* **member_casual**\n",
    "    - member -> 0\n",
    "    - casual -> 1"
   ]
  },
  {
   "cell_type": "code",
   "execution_count": 11,
   "id": "e0aacb45",
   "metadata": {
    "execution": {
     "iopub.execute_input": "2021-07-08T06:31:27.821851Z",
     "iopub.status.busy": "2021-07-08T06:31:27.820618Z",
     "iopub.status.idle": "2021-07-08T06:31:27.837896Z",
     "shell.execute_reply": "2021-07-08T06:31:27.836486Z"
    },
    "papermill": {
     "duration": 0.082518,
     "end_time": "2021-07-08T06:31:27.838101",
     "exception": false,
     "start_time": "2021-07-08T06:31:27.755583",
     "status": "completed"
    },
    "tags": []
   },
   "outputs": [],
   "source": [
    "df_Divvy_C_V02 <- df_Divvy_C_V01 %>% \n",
    "  select(-c(rideable_type,member_casual))"
   ]
  },
  {
   "cell_type": "code",
   "execution_count": 12,
   "id": "f0471c2a",
   "metadata": {
    "execution": {
     "iopub.execute_input": "2021-07-08T06:31:27.965656Z",
     "iopub.status.busy": "2021-07-08T06:31:27.964384Z",
     "iopub.status.idle": "2021-07-08T06:31:27.998760Z",
     "shell.execute_reply": "2021-07-08T06:31:27.996428Z"
    },
    "papermill": {
     "duration": 0.100039,
     "end_time": "2021-07-08T06:31:27.998952",
     "exception": false,
     "start_time": "2021-07-08T06:31:27.898913",
     "status": "completed"
    },
    "tags": []
   },
   "outputs": [
    {
     "name": "stdout",
     "output_type": "stream",
     "text": [
      "'data.frame':\t4073561 obs. of  12 variables:\n",
      " $ started_at         : chr  \"13-06-20 23:24\" \"26-06-20 07:26\" \"23-06-20 17:12\" \"20-06-20 01:09\" ...\n",
      " $ ended_at           : chr  \"13-06-20 23:36\" \"26-06-20 07:31\" \"23-06-20 17:21\" \"20-06-20 01:28\" ...\n",
      " $ start_station_name : chr  \"Wilton Ave & Belmont Ave\" \"Federal St & Polk St\" \"Daley Center Plaza\" \"Broadway & Cornelia Ave\" ...\n",
      " $ end_station_name   : chr  \"Damen Ave & Clybourn Ave\" \"Daley Center Plaza\" \"State St & Harrison St\" \"Broadway & Berwyn Ave\" ...\n",
      " $ start_lat          : num  41.9 41.9 41.9 41.9 41.9 ...\n",
      " $ start_lng          : num  -87.7 -87.6 -87.6 -87.6 -87.7 ...\n",
      " $ end_lat            : num  41.9 41.9 41.9 42 41.9 ...\n",
      " $ end_lng            : num  -87.7 -87.6 -87.6 -87.7 -87.7 ...\n",
      " $ ride_length        : chr  \"00:12:00\" \"00:05:00\" \"00:09:00\" \"00:19:00\" ...\n",
      " $ WEEKDAY            : int  7 6 3 7 5 4 5 6 3 1 ...\n",
      " $ rideable_type_Dummy: num  0 0 0 0 0 0 0 0 0 0 ...\n",
      " $ member_type_Dummy  : num  1 0 0 1 1 1 0 1 0 0 ...\n"
     ]
    }
   ],
   "source": [
    "str(df_Divvy_C_V02)"
   ]
  },
  {
   "cell_type": "code",
   "execution_count": 13,
   "id": "7d6650f4",
   "metadata": {
    "execution": {
     "iopub.execute_input": "2021-07-08T06:31:28.128142Z",
     "iopub.status.busy": "2021-07-08T06:31:28.125974Z",
     "iopub.status.idle": "2021-07-08T06:31:52.577236Z",
     "shell.execute_reply": "2021-07-08T06:31:52.575427Z"
    },
    "papermill": {
     "duration": 24.517685,
     "end_time": "2021-07-08T06:31:52.577459",
     "exception": false,
     "start_time": "2021-07-08T06:31:28.059774",
     "status": "completed"
    },
    "tags": []
   },
   "outputs": [],
   "source": [
    "write_csv(df_Divvy_C_V02,'df_Divvy_C_V02.csv')"
   ]
  },
  {
   "cell_type": "code",
   "execution_count": 14,
   "id": "533e707e",
   "metadata": {
    "execution": {
     "iopub.execute_input": "2021-07-08T06:31:52.705839Z",
     "iopub.status.busy": "2021-07-08T06:31:52.703708Z",
     "iopub.status.idle": "2021-07-08T06:31:53.061451Z",
     "shell.execute_reply": "2021-07-08T06:31:53.059465Z"
    },
    "papermill": {
     "duration": 0.422745,
     "end_time": "2021-07-08T06:31:53.061685",
     "exception": false,
     "start_time": "2021-07-08T06:31:52.638940",
     "status": "completed"
    },
    "tags": []
   },
   "outputs": [
    {
     "data": {
      "text/html": [
       "<table class=\"dataframe\">\n",
       "<caption>A data.frame: 5037 × 12</caption>\n",
       "<thead>\n",
       "\t<tr><th></th><th scope=col>started_at</th><th scope=col>ended_at</th><th scope=col>start_station_name</th><th scope=col>end_station_name</th><th scope=col>start_lat</th><th scope=col>start_lng</th><th scope=col>end_lat</th><th scope=col>end_lng</th><th scope=col>ride_length</th><th scope=col>WEEKDAY</th><th scope=col>rideable_type_Dummy</th><th scope=col>member_type_Dummy</th></tr>\n",
       "\t<tr><th></th><th scope=col>&lt;chr&gt;</th><th scope=col>&lt;chr&gt;</th><th scope=col>&lt;chr&gt;</th><th scope=col>&lt;chr&gt;</th><th scope=col>&lt;dbl&gt;</th><th scope=col>&lt;dbl&gt;</th><th scope=col>&lt;dbl&gt;</th><th scope=col>&lt;dbl&gt;</th><th scope=col>&lt;chr&gt;</th><th scope=col>&lt;int&gt;</th><th scope=col>&lt;dbl&gt;</th><th scope=col>&lt;dbl&gt;</th></tr>\n",
       "</thead>\n",
       "<tbody>\n",
       "\t<tr><th scope=row>801</th><td>04-06-20 07:24</td><td>04-06-20 07:58</td><td><span style=white-space:pre-wrap>Broadway &amp; Cornelia Ave       </span></td><td></td><td>41.94553</td><td>-87.64644</td><td>NA</td><td>NA</td><td>00:34:00</td><td>5</td><td>0</td><td>0</td></tr>\n",
       "\t<tr><th scope=row>1267</th><td>28-06-20 13:58</td><td>28-06-20 18:23</td><td><span style=white-space:pre-wrap>Michigan Ave &amp; Lake St        </span></td><td></td><td>41.88602</td><td>-87.62412</td><td>NA</td><td>NA</td><td>04:25:00</td><td>1</td><td>0</td><td>1</td></tr>\n",
       "\t<tr><th scope=row>2355</th><td>21-06-20 19:08</td><td>21-06-20 20:28</td><td><span style=white-space:pre-wrap>Michigan Ave &amp; Lake St        </span></td><td></td><td>41.88602</td><td>-87.62412</td><td>NA</td><td>NA</td><td>01:20:00</td><td>1</td><td>0</td><td>0</td></tr>\n",
       "\t<tr><th scope=row>2493</th><td>04-06-20 08:46</td><td>04-06-20 10:09</td><td><span style=white-space:pre-wrap>Indiana Ave &amp; Roosevelt Rd    </span></td><td></td><td>41.86789</td><td>-87.62304</td><td>NA</td><td>NA</td><td>01:23:00</td><td>5</td><td>0</td><td>1</td></tr>\n",
       "\t<tr><th scope=row>2958</th><td>17-06-20 09:51</td><td>17-06-20 10:18</td><td><span style=white-space:pre-wrap>Clarendon Ave &amp; Junior Ter    </span></td><td></td><td>41.96100</td><td>-87.64960</td><td>NA</td><td>NA</td><td>00:27:00</td><td>4</td><td>0</td><td>0</td></tr>\n",
       "\t<tr><th scope=row>2988</th><td>16-06-20 14:14</td><td>16-06-20 14:41</td><td><span style=white-space:pre-wrap>Clarendon Ave &amp; Junior Ter    </span></td><td></td><td>41.96100</td><td>-87.64960</td><td>NA</td><td>NA</td><td>00:27:00</td><td>3</td><td>0</td><td>0</td></tr>\n",
       "\t<tr><th scope=row>3022</th><td>28-06-20 13:39</td><td>28-06-20 16:08</td><td>Lakeview Ave &amp; Fullerton Pkwy </td><td></td><td>41.92586</td><td>-87.63897</td><td>NA</td><td>NA</td><td>02:29:00</td><td>1</td><td>0</td><td>1</td></tr>\n",
       "\t<tr><th scope=row>3594</th><td>23-06-20 16:48</td><td>23-06-20 17:17</td><td><span style=white-space:pre-wrap>LaSalle St &amp; Washington St    </span></td><td></td><td>41.88266</td><td>-87.63253</td><td>NA</td><td>NA</td><td>00:29:00</td><td>3</td><td>0</td><td>0</td></tr>\n",
       "\t<tr><th scope=row>3599</th><td>26-06-20 00:27</td><td>26-06-20 00:53</td><td><span style=white-space:pre-wrap>Clark St &amp; Schiller St        </span></td><td></td><td>41.90799</td><td>-87.63150</td><td>NA</td><td>NA</td><td>00:26:00</td><td>6</td><td>0</td><td>0</td></tr>\n",
       "\t<tr><th scope=row>3856</th><td>10-06-20 10:30</td><td>10-06-20 10:46</td><td><span style=white-space:pre-wrap>Wells St &amp; Hubbard St         </span></td><td></td><td>41.88991</td><td>-87.63427</td><td>NA</td><td>NA</td><td>00:16:00</td><td>4</td><td>0</td><td>1</td></tr>\n",
       "\t<tr><th scope=row>6020</th><td>06-06-20 12:26</td><td>06-06-20 12:55</td><td><span style=white-space:pre-wrap>Ashland Ave &amp; Augusta Blvd    </span></td><td></td><td>41.89964</td><td>-87.66770</td><td>NA</td><td>NA</td><td>00:29:00</td><td>7</td><td>0</td><td>0</td></tr>\n",
       "\t<tr><th scope=row>6243</th><td>25-06-20 18:12</td><td>25-06-20 18:23</td><td><span style=white-space:pre-wrap>Wells St &amp; Concord Ln         </span></td><td></td><td>41.91213</td><td>-87.63466</td><td>NA</td><td>NA</td><td>00:11:00</td><td>5</td><td>0</td><td>0</td></tr>\n",
       "\t<tr><th scope=row>7641</th><td>27-06-20 04:19</td><td>27-06-20 09:09</td><td><span style=white-space:pre-wrap>Orleans St &amp; Elm St           </span></td><td></td><td>41.90292</td><td>-87.63772</td><td>NA</td><td>NA</td><td>04:50:00</td><td>7</td><td>0</td><td>0</td></tr>\n",
       "\t<tr><th scope=row>8216</th><td>20-06-20 10:44</td><td>21-06-20 11:44</td><td><span style=white-space:pre-wrap>Western Ave &amp; 21st St         </span></td><td></td><td>41.85411</td><td>-87.68584</td><td>NA</td><td>NA</td><td>01:00:00</td><td>7</td><td>0</td><td>1</td></tr>\n",
       "\t<tr><th scope=row>8670</th><td>29-06-20 18:18</td><td>30-06-20 19:18</td><td><span style=white-space:pre-wrap>Kostner Ave &amp; Adams St        </span></td><td></td><td>41.87792</td><td>-87.73574</td><td>NA</td><td>NA</td><td>01:00:00</td><td>2</td><td>0</td><td>0</td></tr>\n",
       "\t<tr><th scope=row>9334</th><td>28-06-20 15:13</td><td>28-06-20 16:35</td><td>Sheffield Ave &amp; Wrightwood Ave</td><td></td><td>41.92871</td><td>-87.65383</td><td>NA</td><td>NA</td><td>01:22:00</td><td>1</td><td>0</td><td>0</td></tr>\n",
       "\t<tr><th scope=row>10023</th><td>28-06-20 16:55</td><td>28-06-20 17:20</td><td><span style=white-space:pre-wrap>Clark St &amp; Chicago Ave        </span></td><td></td><td>41.89675</td><td>-87.63089</td><td>NA</td><td>NA</td><td>00:25:00</td><td>1</td><td>0</td><td>0</td></tr>\n",
       "\t<tr><th scope=row>10246</th><td>06-06-20 15:36</td><td>06-06-20 15:52</td><td><span style=white-space:pre-wrap>Halsted St &amp; Clybourn Ave     </span></td><td></td><td>41.90967</td><td>-87.64813</td><td>NA</td><td>NA</td><td>00:16:00</td><td>7</td><td>0</td><td>1</td></tr>\n",
       "\t<tr><th scope=row>10716</th><td>06-06-20 10:59</td><td>06-06-20 11:29</td><td><span style=white-space:pre-wrap>Clark St &amp; Winnemac Ave       </span></td><td></td><td>41.97334</td><td>-87.66778</td><td>NA</td><td>NA</td><td>00:30:00</td><td>7</td><td>0</td><td>1</td></tr>\n",
       "\t<tr><th scope=row>12177</th><td>26-06-20 06:58</td><td>26-06-20 08:56</td><td><span style=white-space:pre-wrap>Elston Ave &amp; Wabansia Ave     </span></td><td></td><td>41.91292</td><td>-87.66417</td><td>NA</td><td>NA</td><td>01:58:00</td><td>6</td><td>0</td><td>0</td></tr>\n",
       "\t<tr><th scope=row>12287</th><td>04-06-20 11:43</td><td>04-06-20 11:50</td><td><span style=white-space:pre-wrap>Sheffield Ave &amp; Willow St     </span></td><td></td><td>41.91369</td><td>-87.65286</td><td>NA</td><td>NA</td><td>00:07:00</td><td>5</td><td>0</td><td>0</td></tr>\n",
       "\t<tr><th scope=row>12764</th><td>15-06-20 12:48</td><td>15-06-20 13:42</td><td><span style=white-space:pre-wrap>Wells St &amp; Hubbard St         </span></td><td></td><td>41.88991</td><td>-87.63427</td><td>NA</td><td>NA</td><td>00:54:00</td><td>2</td><td>0</td><td>0</td></tr>\n",
       "\t<tr><th scope=row>12806</th><td>24-06-20 16:40</td><td>24-06-20 17:09</td><td><span style=white-space:pre-wrap>Western Ave &amp; Walton St       </span></td><td></td><td>41.89842</td><td>-87.68660</td><td>NA</td><td>NA</td><td>00:29:00</td><td>4</td><td>0</td><td>0</td></tr>\n",
       "\t<tr><th scope=row>13627</th><td>06-06-20 11:06</td><td>06-06-20 11:23</td><td><span style=white-space:pre-wrap>Southport Ave &amp; Waveland Ave  </span></td><td></td><td>41.94815</td><td>-87.66394</td><td>NA</td><td>NA</td><td>00:17:00</td><td>7</td><td>0</td><td>0</td></tr>\n",
       "\t<tr><th scope=row>14426</th><td>18-06-20 17:43</td><td>18-06-20 19:06</td><td><span style=white-space:pre-wrap>Wilton Ave &amp; Belmont Ave      </span></td><td></td><td>41.94018</td><td>-87.65304</td><td>NA</td><td>NA</td><td>01:23:00</td><td>5</td><td>0</td><td>0</td></tr>\n",
       "\t<tr><th scope=row>15042</th><td>21-06-20 15:51</td><td>21-06-20 16:06</td><td><span style=white-space:pre-wrap>McClurg Ct &amp; Erie St          </span></td><td></td><td>41.89450</td><td>-87.61785</td><td>NA</td><td>NA</td><td>00:15:00</td><td>1</td><td>0</td><td>0</td></tr>\n",
       "\t<tr><th scope=row>15154</th><td>29-06-20 19:50</td><td>30-06-20 07:22</td><td><span style=white-space:pre-wrap>Wabash Ave &amp; 9th St           </span></td><td></td><td>41.87077</td><td>-87.62573</td><td>NA</td><td>NA</td><td>11:32:00</td><td>2</td><td>0</td><td>0</td></tr>\n",
       "\t<tr><th scope=row>15557</th><td>05-06-20 19:09</td><td>06-06-20 20:09</td><td>Sheffield Ave &amp; Fullerton Ave </td><td></td><td>41.92560</td><td>-87.65371</td><td>NA</td><td>NA</td><td>01:00:00</td><td>6</td><td>0</td><td>1</td></tr>\n",
       "\t<tr><th scope=row>16104</th><td>23-06-20 17:27</td><td>24-06-20 01:34</td><td>Throop (Loomis) St &amp; Taylor St</td><td></td><td>41.86897</td><td>-87.65914</td><td>NA</td><td>NA</td><td>08:07:00</td><td>3</td><td>0</td><td>1</td></tr>\n",
       "\t<tr><th scope=row>16359</th><td>05-06-20 16:30</td><td>05-06-20 16:31</td><td><span style=white-space:pre-wrap>Broadway &amp; Argyle St          </span></td><td></td><td>41.97382</td><td>-87.65966</td><td>NA</td><td>NA</td><td>00:01:00</td><td>6</td><td>0</td><td>0</td></tr>\n",
       "\t<tr><th scope=row>⋮</th><td>⋮</td><td>⋮</td><td>⋮</td><td>⋮</td><td>⋮</td><td>⋮</td><td>⋮</td><td>⋮</td><td>⋮</td><td>⋮</td><td>⋮</td><td>⋮</td></tr>\n",
       "\t<tr><th scope=row>4070528</th><td>01-05-21 13:37</td><td>02-05-21 14:37</td><td><span style=white-space:pre-wrap>Sheridan Rd &amp; Loyola Ave           </span></td><td></td><td>42.00104</td><td>-87.66120</td><td>NA</td><td>NA</td><td>00:59:55</td><td>7</td><td>2</td><td>1</td></tr>\n",
       "\t<tr><th scope=row>4071054</th><td>24-05-21 22:26</td><td>25-05-21 23:26</td><td>63rd St Beach                      </td><td></td><td>41.78102</td><td>-87.57612</td><td>NA</td><td>NA</td><td>00:59:54</td><td>2</td><td>2</td><td>1</td></tr>\n",
       "\t<tr><th scope=row>4071193</th><td>11-05-21 12:35</td><td>11-05-21 19:06</td><td><span style=white-space:pre-wrap>Damen Ave &amp; Grand Ave              </span></td><td></td><td>41.89126</td><td>-87.67684</td><td>NA</td><td>NA</td><td>06:31:24</td><td>3</td><td>2</td><td>0</td></tr>\n",
       "\t<tr><th scope=row>4071293</th><td>11-05-21 18:23</td><td>11-05-21 19:02</td><td><span style=white-space:pre-wrap>Ada St &amp; Washington Blvd           </span></td><td></td><td>41.88283</td><td>-87.66121</td><td>NA</td><td>NA</td><td>00:38:48</td><td>3</td><td>2</td><td>0</td></tr>\n",
       "\t<tr><th scope=row>4071324</th><td>03-05-21 14:33</td><td>04-05-21 09:11</td><td><span style=white-space:pre-wrap>Sheffield Ave &amp; Wrightwood Ave     </span></td><td></td><td>41.92871</td><td>-87.65383</td><td>NA</td><td>NA</td><td>18:37:25</td><td>2</td><td>2</td><td>0</td></tr>\n",
       "\t<tr><th scope=row>4071341</th><td>24-05-21 22:26</td><td>25-05-21 23:25</td><td>63rd St Beach                      </td><td></td><td>41.78102</td><td>-87.57612</td><td>NA</td><td>NA</td><td>00:59:50</td><td>2</td><td>2</td><td>1</td></tr>\n",
       "\t<tr><th scope=row>4071393</th><td>21-05-21 20:12</td><td>22-05-21 21:12</td><td>63rd St Beach                      </td><td></td><td>41.78102</td><td>-87.57612</td><td>NA</td><td>NA</td><td>00:59:54</td><td>6</td><td>2</td><td>1</td></tr>\n",
       "\t<tr><th scope=row>4071397</th><td>21-05-21 20:04</td><td>22-05-21 21:03</td><td>63rd St Beach                      </td><td></td><td>41.78102</td><td>-87.57612</td><td>NA</td><td>NA</td><td>00:59:54</td><td>6</td><td>2</td><td>1</td></tr>\n",
       "\t<tr><th scope=row>4071491</th><td>22-05-21 19:21</td><td>23-05-21 20:21</td><td>63rd St Beach                      </td><td></td><td>41.78102</td><td>-87.57612</td><td>NA</td><td>NA</td><td>00:59:55</td><td>7</td><td>2</td><td>1</td></tr>\n",
       "\t<tr><th scope=row>4071820</th><td>03-05-21 17:28</td><td>03-05-21 17:40</td><td><span style=white-space:pre-wrap>Clark St &amp; Armitage Ave            </span></td><td></td><td>41.91831</td><td>-87.63628</td><td>NA</td><td>NA</td><td>00:11:42</td><td>2</td><td>2</td><td>1</td></tr>\n",
       "\t<tr><th scope=row>4071891</th><td>02-05-21 14:52</td><td>03-05-21 15:52</td><td><span style=white-space:pre-wrap>Loomis St &amp; Jackson Blvd           </span></td><td></td><td>41.87794</td><td>-87.66201</td><td>NA</td><td>NA</td><td>00:59:56</td><td>1</td><td>2</td><td>1</td></tr>\n",
       "\t<tr><th scope=row>4071946</th><td>01-05-21 17:39</td><td>02-05-21 18:39</td><td><span style=white-space:pre-wrap>Western Ave &amp; Walton St            </span></td><td></td><td>41.89842</td><td>-87.68660</td><td>NA</td><td>NA</td><td>00:59:53</td><td>7</td><td>2</td><td>1</td></tr>\n",
       "\t<tr><th scope=row>4071949</th><td>16-05-21 21:22</td><td>17-05-21 22:21</td><td><span style=white-space:pre-wrap>Kimbark Ave &amp; 53rd St              </span></td><td></td><td>41.79957</td><td>-87.59475</td><td>NA</td><td>NA</td><td>00:59:54</td><td>1</td><td>2</td><td>1</td></tr>\n",
       "\t<tr><th scope=row>4072119</th><td>18-05-21 18:37</td><td>19-05-21 19:37</td><td><span style=white-space:pre-wrap>Summit Ave &amp; 86th St               </span></td><td></td><td>41.73785</td><td>-87.64490</td><td>NA</td><td>NA</td><td>00:59:56</td><td>3</td><td>2</td><td>1</td></tr>\n",
       "\t<tr><th scope=row>4072209</th><td>08-05-21 15:42</td><td>09-05-21 16:42</td><td><span style=white-space:pre-wrap>Dauphin Ave &amp; 103rd St             </span></td><td></td><td>41.70725</td><td>-87.60766</td><td>NA</td><td>NA</td><td>00:59:55</td><td>7</td><td>2</td><td>1</td></tr>\n",
       "\t<tr><th scope=row>4072211</th><td>13-05-21 12:25</td><td>13-05-21 13:09</td><td>Central Park Ave &amp; Bloomingdale Ave</td><td></td><td>41.91417</td><td>-87.71676</td><td>NA</td><td>NA</td><td>00:44:08</td><td>5</td><td>2</td><td>1</td></tr>\n",
       "\t<tr><th scope=row>4072271</th><td>16-05-21 14:08</td><td>17-05-21 15:08</td><td><span style=white-space:pre-wrap>Stave St &amp; Armitage Ave            </span></td><td></td><td>41.91774</td><td>-87.69139</td><td>NA</td><td>NA</td><td>00:59:46</td><td>1</td><td>2</td><td>1</td></tr>\n",
       "\t<tr><th scope=row>4072295</th><td>08-05-21 20:21</td><td>09-05-21 21:21</td><td><span style=white-space:pre-wrap>Summit Ave &amp; 86th St               </span></td><td></td><td>41.73785</td><td>-87.64490</td><td>NA</td><td>NA</td><td>00:59:56</td><td>7</td><td>2</td><td>1</td></tr>\n",
       "\t<tr><th scope=row>4072443</th><td>16-05-21 14:40</td><td>17-05-21 15:40</td><td><span style=white-space:pre-wrap>Rush St &amp; Cedar St                 </span></td><td></td><td>41.90231</td><td>-87.62769</td><td>NA</td><td>NA</td><td>00:59:53</td><td>1</td><td>2</td><td>0</td></tr>\n",
       "\t<tr><th scope=row>4072477</th><td>05-05-21 10:56</td><td>05-05-21 14:02</td><td><span style=white-space:pre-wrap>Wabash Ave &amp; Adams St              </span></td><td></td><td>41.87947</td><td>-87.62569</td><td>NA</td><td>NA</td><td>03:05:52</td><td>4</td><td>2</td><td>0</td></tr>\n",
       "\t<tr><th scope=row>4072584</th><td>26-05-21 10:37</td><td>26-05-21 15:24</td><td><span style=white-space:pre-wrap>Wabash Ave &amp; Adams St              </span></td><td></td><td>41.87947</td><td>-87.62569</td><td>NA</td><td>NA</td><td>04:46:01</td><td>4</td><td>2</td><td>1</td></tr>\n",
       "\t<tr><th scope=row>4072628</th><td>20-05-21 19:11</td><td>21-05-21 12:11</td><td><span style=white-space:pre-wrap>Pine Grove Ave &amp; Waveland Ave      </span></td><td></td><td>41.94947</td><td>-87.64645</td><td>NA</td><td>NA</td><td>17:00:25</td><td>5</td><td>2</td><td>1</td></tr>\n",
       "\t<tr><th scope=row>4072837</th><td>02-05-21 14:33</td><td>02-05-21 17:51</td><td><span style=white-space:pre-wrap>Pine Grove Ave &amp; Waveland Ave      </span></td><td></td><td>41.94947</td><td>-87.64645</td><td>NA</td><td>NA</td><td>03:18:13</td><td>1</td><td>2</td><td>0</td></tr>\n",
       "\t<tr><th scope=row>4072848</th><td>31-05-21 11:05</td><td>31-05-21 12:00</td><td><span style=white-space:pre-wrap>Wabash Ave &amp; Adams St              </span></td><td></td><td>41.87947</td><td>-87.62569</td><td>NA</td><td>NA</td><td>00:55:32</td><td>2</td><td>2</td><td>0</td></tr>\n",
       "\t<tr><th scope=row>4072860</th><td>14-05-21 09:54</td><td>15-05-21 10:54</td><td><span style=white-space:pre-wrap>Halsted St &amp; 111th St              </span></td><td></td><td>41.69226</td><td>-87.64261</td><td>NA</td><td>NA</td><td>00:59:50</td><td>6</td><td>2</td><td>1</td></tr>\n",
       "\t<tr><th scope=row>4073036</th><td>21-05-21 13:01</td><td>21-05-21 19:19</td><td><span style=white-space:pre-wrap>Blackstone Ave &amp; Hyde Park Blvd    </span></td><td></td><td>41.80256</td><td>-87.59037</td><td>NA</td><td>NA</td><td>06:18:23</td><td>6</td><td>2</td><td>1</td></tr>\n",
       "\t<tr><th scope=row>4073235</th><td>27-05-21 08:38</td><td>27-05-21 11:16</td><td><span style=white-space:pre-wrap>Rush St &amp; Cedar St                 </span></td><td></td><td>41.90231</td><td>-87.62769</td><td>NA</td><td>NA</td><td>02:37:42</td><td>5</td><td>2</td><td>0</td></tr>\n",
       "\t<tr><th scope=row>4073237</th><td>11-05-21 15:29</td><td>12-05-21 16:29</td><td><span style=white-space:pre-wrap>Wabash Ave &amp; Adams St              </span></td><td></td><td>41.87947</td><td>-87.62569</td><td>NA</td><td>NA</td><td>00:59:55</td><td>3</td><td>2</td><td>0</td></tr>\n",
       "\t<tr><th scope=row>4073309</th><td>02-05-21 21:34</td><td>03-05-21 08:37</td><td>Lincoln Park Conservatory          </td><td></td><td>41.92393</td><td>-87.63582</td><td>NA</td><td>NA</td><td>11:02:48</td><td>1</td><td>2</td><td>1</td></tr>\n",
       "\t<tr><th scope=row>4073482</th><td>21-05-21 20:15</td><td>22-05-21 21:15</td><td>63rd St Beach                      </td><td></td><td>41.78102</td><td>-87.57612</td><td>NA</td><td>NA</td><td>00:59:56</td><td>6</td><td>2</td><td>1</td></tr>\n",
       "</tbody>\n",
       "</table>\n"
      ],
      "text/latex": [
       "A data.frame: 5037 × 12\n",
       "\\begin{tabular}{r|llllllllllll}\n",
       "  & started\\_at & ended\\_at & start\\_station\\_name & end\\_station\\_name & start\\_lat & start\\_lng & end\\_lat & end\\_lng & ride\\_length & WEEKDAY & rideable\\_type\\_Dummy & member\\_type\\_Dummy\\\\\n",
       "  & <chr> & <chr> & <chr> & <chr> & <dbl> & <dbl> & <dbl> & <dbl> & <chr> & <int> & <dbl> & <dbl>\\\\\n",
       "\\hline\n",
       "\t801 & 04-06-20 07:24 & 04-06-20 07:58 & Broadway \\& Cornelia Ave        &  & 41.94553 & -87.64644 & NA & NA & 00:34:00 & 5 & 0 & 0\\\\\n",
       "\t1267 & 28-06-20 13:58 & 28-06-20 18:23 & Michigan Ave \\& Lake St         &  & 41.88602 & -87.62412 & NA & NA & 04:25:00 & 1 & 0 & 1\\\\\n",
       "\t2355 & 21-06-20 19:08 & 21-06-20 20:28 & Michigan Ave \\& Lake St         &  & 41.88602 & -87.62412 & NA & NA & 01:20:00 & 1 & 0 & 0\\\\\n",
       "\t2493 & 04-06-20 08:46 & 04-06-20 10:09 & Indiana Ave \\& Roosevelt Rd     &  & 41.86789 & -87.62304 & NA & NA & 01:23:00 & 5 & 0 & 1\\\\\n",
       "\t2958 & 17-06-20 09:51 & 17-06-20 10:18 & Clarendon Ave \\& Junior Ter     &  & 41.96100 & -87.64960 & NA & NA & 00:27:00 & 4 & 0 & 0\\\\\n",
       "\t2988 & 16-06-20 14:14 & 16-06-20 14:41 & Clarendon Ave \\& Junior Ter     &  & 41.96100 & -87.64960 & NA & NA & 00:27:00 & 3 & 0 & 0\\\\\n",
       "\t3022 & 28-06-20 13:39 & 28-06-20 16:08 & Lakeview Ave \\& Fullerton Pkwy  &  & 41.92586 & -87.63897 & NA & NA & 02:29:00 & 1 & 0 & 1\\\\\n",
       "\t3594 & 23-06-20 16:48 & 23-06-20 17:17 & LaSalle St \\& Washington St     &  & 41.88266 & -87.63253 & NA & NA & 00:29:00 & 3 & 0 & 0\\\\\n",
       "\t3599 & 26-06-20 00:27 & 26-06-20 00:53 & Clark St \\& Schiller St         &  & 41.90799 & -87.63150 & NA & NA & 00:26:00 & 6 & 0 & 0\\\\\n",
       "\t3856 & 10-06-20 10:30 & 10-06-20 10:46 & Wells St \\& Hubbard St          &  & 41.88991 & -87.63427 & NA & NA & 00:16:00 & 4 & 0 & 1\\\\\n",
       "\t6020 & 06-06-20 12:26 & 06-06-20 12:55 & Ashland Ave \\& Augusta Blvd     &  & 41.89964 & -87.66770 & NA & NA & 00:29:00 & 7 & 0 & 0\\\\\n",
       "\t6243 & 25-06-20 18:12 & 25-06-20 18:23 & Wells St \\& Concord Ln          &  & 41.91213 & -87.63466 & NA & NA & 00:11:00 & 5 & 0 & 0\\\\\n",
       "\t7641 & 27-06-20 04:19 & 27-06-20 09:09 & Orleans St \\& Elm St            &  & 41.90292 & -87.63772 & NA & NA & 04:50:00 & 7 & 0 & 0\\\\\n",
       "\t8216 & 20-06-20 10:44 & 21-06-20 11:44 & Western Ave \\& 21st St          &  & 41.85411 & -87.68584 & NA & NA & 01:00:00 & 7 & 0 & 1\\\\\n",
       "\t8670 & 29-06-20 18:18 & 30-06-20 19:18 & Kostner Ave \\& Adams St         &  & 41.87792 & -87.73574 & NA & NA & 01:00:00 & 2 & 0 & 0\\\\\n",
       "\t9334 & 28-06-20 15:13 & 28-06-20 16:35 & Sheffield Ave \\& Wrightwood Ave &  & 41.92871 & -87.65383 & NA & NA & 01:22:00 & 1 & 0 & 0\\\\\n",
       "\t10023 & 28-06-20 16:55 & 28-06-20 17:20 & Clark St \\& Chicago Ave         &  & 41.89675 & -87.63089 & NA & NA & 00:25:00 & 1 & 0 & 0\\\\\n",
       "\t10246 & 06-06-20 15:36 & 06-06-20 15:52 & Halsted St \\& Clybourn Ave      &  & 41.90967 & -87.64813 & NA & NA & 00:16:00 & 7 & 0 & 1\\\\\n",
       "\t10716 & 06-06-20 10:59 & 06-06-20 11:29 & Clark St \\& Winnemac Ave        &  & 41.97334 & -87.66778 & NA & NA & 00:30:00 & 7 & 0 & 1\\\\\n",
       "\t12177 & 26-06-20 06:58 & 26-06-20 08:56 & Elston Ave \\& Wabansia Ave      &  & 41.91292 & -87.66417 & NA & NA & 01:58:00 & 6 & 0 & 0\\\\\n",
       "\t12287 & 04-06-20 11:43 & 04-06-20 11:50 & Sheffield Ave \\& Willow St      &  & 41.91369 & -87.65286 & NA & NA & 00:07:00 & 5 & 0 & 0\\\\\n",
       "\t12764 & 15-06-20 12:48 & 15-06-20 13:42 & Wells St \\& Hubbard St          &  & 41.88991 & -87.63427 & NA & NA & 00:54:00 & 2 & 0 & 0\\\\\n",
       "\t12806 & 24-06-20 16:40 & 24-06-20 17:09 & Western Ave \\& Walton St        &  & 41.89842 & -87.68660 & NA & NA & 00:29:00 & 4 & 0 & 0\\\\\n",
       "\t13627 & 06-06-20 11:06 & 06-06-20 11:23 & Southport Ave \\& Waveland Ave   &  & 41.94815 & -87.66394 & NA & NA & 00:17:00 & 7 & 0 & 0\\\\\n",
       "\t14426 & 18-06-20 17:43 & 18-06-20 19:06 & Wilton Ave \\& Belmont Ave       &  & 41.94018 & -87.65304 & NA & NA & 01:23:00 & 5 & 0 & 0\\\\\n",
       "\t15042 & 21-06-20 15:51 & 21-06-20 16:06 & McClurg Ct \\& Erie St           &  & 41.89450 & -87.61785 & NA & NA & 00:15:00 & 1 & 0 & 0\\\\\n",
       "\t15154 & 29-06-20 19:50 & 30-06-20 07:22 & Wabash Ave \\& 9th St            &  & 41.87077 & -87.62573 & NA & NA & 11:32:00 & 2 & 0 & 0\\\\\n",
       "\t15557 & 05-06-20 19:09 & 06-06-20 20:09 & Sheffield Ave \\& Fullerton Ave  &  & 41.92560 & -87.65371 & NA & NA & 01:00:00 & 6 & 0 & 1\\\\\n",
       "\t16104 & 23-06-20 17:27 & 24-06-20 01:34 & Throop (Loomis) St \\& Taylor St &  & 41.86897 & -87.65914 & NA & NA & 08:07:00 & 3 & 0 & 1\\\\\n",
       "\t16359 & 05-06-20 16:30 & 05-06-20 16:31 & Broadway \\& Argyle St           &  & 41.97382 & -87.65966 & NA & NA & 00:01:00 & 6 & 0 & 0\\\\\n",
       "\t⋮ & ⋮ & ⋮ & ⋮ & ⋮ & ⋮ & ⋮ & ⋮ & ⋮ & ⋮ & ⋮ & ⋮ & ⋮\\\\\n",
       "\t4070528 & 01-05-21 13:37 & 02-05-21 14:37 & Sheridan Rd \\& Loyola Ave            &  & 42.00104 & -87.66120 & NA & NA & 00:59:55 & 7 & 2 & 1\\\\\n",
       "\t4071054 & 24-05-21 22:26 & 25-05-21 23:26 & 63rd St Beach                       &  & 41.78102 & -87.57612 & NA & NA & 00:59:54 & 2 & 2 & 1\\\\\n",
       "\t4071193 & 11-05-21 12:35 & 11-05-21 19:06 & Damen Ave \\& Grand Ave               &  & 41.89126 & -87.67684 & NA & NA & 06:31:24 & 3 & 2 & 0\\\\\n",
       "\t4071293 & 11-05-21 18:23 & 11-05-21 19:02 & Ada St \\& Washington Blvd            &  & 41.88283 & -87.66121 & NA & NA & 00:38:48 & 3 & 2 & 0\\\\\n",
       "\t4071324 & 03-05-21 14:33 & 04-05-21 09:11 & Sheffield Ave \\& Wrightwood Ave      &  & 41.92871 & -87.65383 & NA & NA & 18:37:25 & 2 & 2 & 0\\\\\n",
       "\t4071341 & 24-05-21 22:26 & 25-05-21 23:25 & 63rd St Beach                       &  & 41.78102 & -87.57612 & NA & NA & 00:59:50 & 2 & 2 & 1\\\\\n",
       "\t4071393 & 21-05-21 20:12 & 22-05-21 21:12 & 63rd St Beach                       &  & 41.78102 & -87.57612 & NA & NA & 00:59:54 & 6 & 2 & 1\\\\\n",
       "\t4071397 & 21-05-21 20:04 & 22-05-21 21:03 & 63rd St Beach                       &  & 41.78102 & -87.57612 & NA & NA & 00:59:54 & 6 & 2 & 1\\\\\n",
       "\t4071491 & 22-05-21 19:21 & 23-05-21 20:21 & 63rd St Beach                       &  & 41.78102 & -87.57612 & NA & NA & 00:59:55 & 7 & 2 & 1\\\\\n",
       "\t4071820 & 03-05-21 17:28 & 03-05-21 17:40 & Clark St \\& Armitage Ave             &  & 41.91831 & -87.63628 & NA & NA & 00:11:42 & 2 & 2 & 1\\\\\n",
       "\t4071891 & 02-05-21 14:52 & 03-05-21 15:52 & Loomis St \\& Jackson Blvd            &  & 41.87794 & -87.66201 & NA & NA & 00:59:56 & 1 & 2 & 1\\\\\n",
       "\t4071946 & 01-05-21 17:39 & 02-05-21 18:39 & Western Ave \\& Walton St             &  & 41.89842 & -87.68660 & NA & NA & 00:59:53 & 7 & 2 & 1\\\\\n",
       "\t4071949 & 16-05-21 21:22 & 17-05-21 22:21 & Kimbark Ave \\& 53rd St               &  & 41.79957 & -87.59475 & NA & NA & 00:59:54 & 1 & 2 & 1\\\\\n",
       "\t4072119 & 18-05-21 18:37 & 19-05-21 19:37 & Summit Ave \\& 86th St                &  & 41.73785 & -87.64490 & NA & NA & 00:59:56 & 3 & 2 & 1\\\\\n",
       "\t4072209 & 08-05-21 15:42 & 09-05-21 16:42 & Dauphin Ave \\& 103rd St              &  & 41.70725 & -87.60766 & NA & NA & 00:59:55 & 7 & 2 & 1\\\\\n",
       "\t4072211 & 13-05-21 12:25 & 13-05-21 13:09 & Central Park Ave \\& Bloomingdale Ave &  & 41.91417 & -87.71676 & NA & NA & 00:44:08 & 5 & 2 & 1\\\\\n",
       "\t4072271 & 16-05-21 14:08 & 17-05-21 15:08 & Stave St \\& Armitage Ave             &  & 41.91774 & -87.69139 & NA & NA & 00:59:46 & 1 & 2 & 1\\\\\n",
       "\t4072295 & 08-05-21 20:21 & 09-05-21 21:21 & Summit Ave \\& 86th St                &  & 41.73785 & -87.64490 & NA & NA & 00:59:56 & 7 & 2 & 1\\\\\n",
       "\t4072443 & 16-05-21 14:40 & 17-05-21 15:40 & Rush St \\& Cedar St                  &  & 41.90231 & -87.62769 & NA & NA & 00:59:53 & 1 & 2 & 0\\\\\n",
       "\t4072477 & 05-05-21 10:56 & 05-05-21 14:02 & Wabash Ave \\& Adams St               &  & 41.87947 & -87.62569 & NA & NA & 03:05:52 & 4 & 2 & 0\\\\\n",
       "\t4072584 & 26-05-21 10:37 & 26-05-21 15:24 & Wabash Ave \\& Adams St               &  & 41.87947 & -87.62569 & NA & NA & 04:46:01 & 4 & 2 & 1\\\\\n",
       "\t4072628 & 20-05-21 19:11 & 21-05-21 12:11 & Pine Grove Ave \\& Waveland Ave       &  & 41.94947 & -87.64645 & NA & NA & 17:00:25 & 5 & 2 & 1\\\\\n",
       "\t4072837 & 02-05-21 14:33 & 02-05-21 17:51 & Pine Grove Ave \\& Waveland Ave       &  & 41.94947 & -87.64645 & NA & NA & 03:18:13 & 1 & 2 & 0\\\\\n",
       "\t4072848 & 31-05-21 11:05 & 31-05-21 12:00 & Wabash Ave \\& Adams St               &  & 41.87947 & -87.62569 & NA & NA & 00:55:32 & 2 & 2 & 0\\\\\n",
       "\t4072860 & 14-05-21 09:54 & 15-05-21 10:54 & Halsted St \\& 111th St               &  & 41.69226 & -87.64261 & NA & NA & 00:59:50 & 6 & 2 & 1\\\\\n",
       "\t4073036 & 21-05-21 13:01 & 21-05-21 19:19 & Blackstone Ave \\& Hyde Park Blvd     &  & 41.80256 & -87.59037 & NA & NA & 06:18:23 & 6 & 2 & 1\\\\\n",
       "\t4073235 & 27-05-21 08:38 & 27-05-21 11:16 & Rush St \\& Cedar St                  &  & 41.90231 & -87.62769 & NA & NA & 02:37:42 & 5 & 2 & 0\\\\\n",
       "\t4073237 & 11-05-21 15:29 & 12-05-21 16:29 & Wabash Ave \\& Adams St               &  & 41.87947 & -87.62569 & NA & NA & 00:59:55 & 3 & 2 & 0\\\\\n",
       "\t4073309 & 02-05-21 21:34 & 03-05-21 08:37 & Lincoln Park Conservatory           &  & 41.92393 & -87.63582 & NA & NA & 11:02:48 & 1 & 2 & 1\\\\\n",
       "\t4073482 & 21-05-21 20:15 & 22-05-21 21:15 & 63rd St Beach                       &  & 41.78102 & -87.57612 & NA & NA & 00:59:56 & 6 & 2 & 1\\\\\n",
       "\\end{tabular}\n"
      ],
      "text/markdown": [
       "\n",
       "A data.frame: 5037 × 12\n",
       "\n",
       "| <!--/--> | started_at &lt;chr&gt; | ended_at &lt;chr&gt; | start_station_name &lt;chr&gt; | end_station_name &lt;chr&gt; | start_lat &lt;dbl&gt; | start_lng &lt;dbl&gt; | end_lat &lt;dbl&gt; | end_lng &lt;dbl&gt; | ride_length &lt;chr&gt; | WEEKDAY &lt;int&gt; | rideable_type_Dummy &lt;dbl&gt; | member_type_Dummy &lt;dbl&gt; |\n",
       "|---|---|---|---|---|---|---|---|---|---|---|---|---|\n",
       "| 801 | 04-06-20 07:24 | 04-06-20 07:58 | Broadway &amp; Cornelia Ave        | <!----> | 41.94553 | -87.64644 | NA | NA | 00:34:00 | 5 | 0 | 0 |\n",
       "| 1267 | 28-06-20 13:58 | 28-06-20 18:23 | Michigan Ave &amp; Lake St         | <!----> | 41.88602 | -87.62412 | NA | NA | 04:25:00 | 1 | 0 | 1 |\n",
       "| 2355 | 21-06-20 19:08 | 21-06-20 20:28 | Michigan Ave &amp; Lake St         | <!----> | 41.88602 | -87.62412 | NA | NA | 01:20:00 | 1 | 0 | 0 |\n",
       "| 2493 | 04-06-20 08:46 | 04-06-20 10:09 | Indiana Ave &amp; Roosevelt Rd     | <!----> | 41.86789 | -87.62304 | NA | NA | 01:23:00 | 5 | 0 | 1 |\n",
       "| 2958 | 17-06-20 09:51 | 17-06-20 10:18 | Clarendon Ave &amp; Junior Ter     | <!----> | 41.96100 | -87.64960 | NA | NA | 00:27:00 | 4 | 0 | 0 |\n",
       "| 2988 | 16-06-20 14:14 | 16-06-20 14:41 | Clarendon Ave &amp; Junior Ter     | <!----> | 41.96100 | -87.64960 | NA | NA | 00:27:00 | 3 | 0 | 0 |\n",
       "| 3022 | 28-06-20 13:39 | 28-06-20 16:08 | Lakeview Ave &amp; Fullerton Pkwy  | <!----> | 41.92586 | -87.63897 | NA | NA | 02:29:00 | 1 | 0 | 1 |\n",
       "| 3594 | 23-06-20 16:48 | 23-06-20 17:17 | LaSalle St &amp; Washington St     | <!----> | 41.88266 | -87.63253 | NA | NA | 00:29:00 | 3 | 0 | 0 |\n",
       "| 3599 | 26-06-20 00:27 | 26-06-20 00:53 | Clark St &amp; Schiller St         | <!----> | 41.90799 | -87.63150 | NA | NA | 00:26:00 | 6 | 0 | 0 |\n",
       "| 3856 | 10-06-20 10:30 | 10-06-20 10:46 | Wells St &amp; Hubbard St          | <!----> | 41.88991 | -87.63427 | NA | NA | 00:16:00 | 4 | 0 | 1 |\n",
       "| 6020 | 06-06-20 12:26 | 06-06-20 12:55 | Ashland Ave &amp; Augusta Blvd     | <!----> | 41.89964 | -87.66770 | NA | NA | 00:29:00 | 7 | 0 | 0 |\n",
       "| 6243 | 25-06-20 18:12 | 25-06-20 18:23 | Wells St &amp; Concord Ln          | <!----> | 41.91213 | -87.63466 | NA | NA | 00:11:00 | 5 | 0 | 0 |\n",
       "| 7641 | 27-06-20 04:19 | 27-06-20 09:09 | Orleans St &amp; Elm St            | <!----> | 41.90292 | -87.63772 | NA | NA | 04:50:00 | 7 | 0 | 0 |\n",
       "| 8216 | 20-06-20 10:44 | 21-06-20 11:44 | Western Ave &amp; 21st St          | <!----> | 41.85411 | -87.68584 | NA | NA | 01:00:00 | 7 | 0 | 1 |\n",
       "| 8670 | 29-06-20 18:18 | 30-06-20 19:18 | Kostner Ave &amp; Adams St         | <!----> | 41.87792 | -87.73574 | NA | NA | 01:00:00 | 2 | 0 | 0 |\n",
       "| 9334 | 28-06-20 15:13 | 28-06-20 16:35 | Sheffield Ave &amp; Wrightwood Ave | <!----> | 41.92871 | -87.65383 | NA | NA | 01:22:00 | 1 | 0 | 0 |\n",
       "| 10023 | 28-06-20 16:55 | 28-06-20 17:20 | Clark St &amp; Chicago Ave         | <!----> | 41.89675 | -87.63089 | NA | NA | 00:25:00 | 1 | 0 | 0 |\n",
       "| 10246 | 06-06-20 15:36 | 06-06-20 15:52 | Halsted St &amp; Clybourn Ave      | <!----> | 41.90967 | -87.64813 | NA | NA | 00:16:00 | 7 | 0 | 1 |\n",
       "| 10716 | 06-06-20 10:59 | 06-06-20 11:29 | Clark St &amp; Winnemac Ave        | <!----> | 41.97334 | -87.66778 | NA | NA | 00:30:00 | 7 | 0 | 1 |\n",
       "| 12177 | 26-06-20 06:58 | 26-06-20 08:56 | Elston Ave &amp; Wabansia Ave      | <!----> | 41.91292 | -87.66417 | NA | NA | 01:58:00 | 6 | 0 | 0 |\n",
       "| 12287 | 04-06-20 11:43 | 04-06-20 11:50 | Sheffield Ave &amp; Willow St      | <!----> | 41.91369 | -87.65286 | NA | NA | 00:07:00 | 5 | 0 | 0 |\n",
       "| 12764 | 15-06-20 12:48 | 15-06-20 13:42 | Wells St &amp; Hubbard St          | <!----> | 41.88991 | -87.63427 | NA | NA | 00:54:00 | 2 | 0 | 0 |\n",
       "| 12806 | 24-06-20 16:40 | 24-06-20 17:09 | Western Ave &amp; Walton St        | <!----> | 41.89842 | -87.68660 | NA | NA | 00:29:00 | 4 | 0 | 0 |\n",
       "| 13627 | 06-06-20 11:06 | 06-06-20 11:23 | Southport Ave &amp; Waveland Ave   | <!----> | 41.94815 | -87.66394 | NA | NA | 00:17:00 | 7 | 0 | 0 |\n",
       "| 14426 | 18-06-20 17:43 | 18-06-20 19:06 | Wilton Ave &amp; Belmont Ave       | <!----> | 41.94018 | -87.65304 | NA | NA | 01:23:00 | 5 | 0 | 0 |\n",
       "| 15042 | 21-06-20 15:51 | 21-06-20 16:06 | McClurg Ct &amp; Erie St           | <!----> | 41.89450 | -87.61785 | NA | NA | 00:15:00 | 1 | 0 | 0 |\n",
       "| 15154 | 29-06-20 19:50 | 30-06-20 07:22 | Wabash Ave &amp; 9th St            | <!----> | 41.87077 | -87.62573 | NA | NA | 11:32:00 | 2 | 0 | 0 |\n",
       "| 15557 | 05-06-20 19:09 | 06-06-20 20:09 | Sheffield Ave &amp; Fullerton Ave  | <!----> | 41.92560 | -87.65371 | NA | NA | 01:00:00 | 6 | 0 | 1 |\n",
       "| 16104 | 23-06-20 17:27 | 24-06-20 01:34 | Throop (Loomis) St &amp; Taylor St | <!----> | 41.86897 | -87.65914 | NA | NA | 08:07:00 | 3 | 0 | 1 |\n",
       "| 16359 | 05-06-20 16:30 | 05-06-20 16:31 | Broadway &amp; Argyle St           | <!----> | 41.97382 | -87.65966 | NA | NA | 00:01:00 | 6 | 0 | 0 |\n",
       "| ⋮ | ⋮ | ⋮ | ⋮ | ⋮ | ⋮ | ⋮ | ⋮ | ⋮ | ⋮ | ⋮ | ⋮ | ⋮ |\n",
       "| 4070528 | 01-05-21 13:37 | 02-05-21 14:37 | Sheridan Rd &amp; Loyola Ave            | <!----> | 42.00104 | -87.66120 | NA | NA | 00:59:55 | 7 | 2 | 1 |\n",
       "| 4071054 | 24-05-21 22:26 | 25-05-21 23:26 | 63rd St Beach                       | <!----> | 41.78102 | -87.57612 | NA | NA | 00:59:54 | 2 | 2 | 1 |\n",
       "| 4071193 | 11-05-21 12:35 | 11-05-21 19:06 | Damen Ave &amp; Grand Ave               | <!----> | 41.89126 | -87.67684 | NA | NA | 06:31:24 | 3 | 2 | 0 |\n",
       "| 4071293 | 11-05-21 18:23 | 11-05-21 19:02 | Ada St &amp; Washington Blvd            | <!----> | 41.88283 | -87.66121 | NA | NA | 00:38:48 | 3 | 2 | 0 |\n",
       "| 4071324 | 03-05-21 14:33 | 04-05-21 09:11 | Sheffield Ave &amp; Wrightwood Ave      | <!----> | 41.92871 | -87.65383 | NA | NA | 18:37:25 | 2 | 2 | 0 |\n",
       "| 4071341 | 24-05-21 22:26 | 25-05-21 23:25 | 63rd St Beach                       | <!----> | 41.78102 | -87.57612 | NA | NA | 00:59:50 | 2 | 2 | 1 |\n",
       "| 4071393 | 21-05-21 20:12 | 22-05-21 21:12 | 63rd St Beach                       | <!----> | 41.78102 | -87.57612 | NA | NA | 00:59:54 | 6 | 2 | 1 |\n",
       "| 4071397 | 21-05-21 20:04 | 22-05-21 21:03 | 63rd St Beach                       | <!----> | 41.78102 | -87.57612 | NA | NA | 00:59:54 | 6 | 2 | 1 |\n",
       "| 4071491 | 22-05-21 19:21 | 23-05-21 20:21 | 63rd St Beach                       | <!----> | 41.78102 | -87.57612 | NA | NA | 00:59:55 | 7 | 2 | 1 |\n",
       "| 4071820 | 03-05-21 17:28 | 03-05-21 17:40 | Clark St &amp; Armitage Ave             | <!----> | 41.91831 | -87.63628 | NA | NA | 00:11:42 | 2 | 2 | 1 |\n",
       "| 4071891 | 02-05-21 14:52 | 03-05-21 15:52 | Loomis St &amp; Jackson Blvd            | <!----> | 41.87794 | -87.66201 | NA | NA | 00:59:56 | 1 | 2 | 1 |\n",
       "| 4071946 | 01-05-21 17:39 | 02-05-21 18:39 | Western Ave &amp; Walton St             | <!----> | 41.89842 | -87.68660 | NA | NA | 00:59:53 | 7 | 2 | 1 |\n",
       "| 4071949 | 16-05-21 21:22 | 17-05-21 22:21 | Kimbark Ave &amp; 53rd St               | <!----> | 41.79957 | -87.59475 | NA | NA | 00:59:54 | 1 | 2 | 1 |\n",
       "| 4072119 | 18-05-21 18:37 | 19-05-21 19:37 | Summit Ave &amp; 86th St                | <!----> | 41.73785 | -87.64490 | NA | NA | 00:59:56 | 3 | 2 | 1 |\n",
       "| 4072209 | 08-05-21 15:42 | 09-05-21 16:42 | Dauphin Ave &amp; 103rd St              | <!----> | 41.70725 | -87.60766 | NA | NA | 00:59:55 | 7 | 2 | 1 |\n",
       "| 4072211 | 13-05-21 12:25 | 13-05-21 13:09 | Central Park Ave &amp; Bloomingdale Ave | <!----> | 41.91417 | -87.71676 | NA | NA | 00:44:08 | 5 | 2 | 1 |\n",
       "| 4072271 | 16-05-21 14:08 | 17-05-21 15:08 | Stave St &amp; Armitage Ave             | <!----> | 41.91774 | -87.69139 | NA | NA | 00:59:46 | 1 | 2 | 1 |\n",
       "| 4072295 | 08-05-21 20:21 | 09-05-21 21:21 | Summit Ave &amp; 86th St                | <!----> | 41.73785 | -87.64490 | NA | NA | 00:59:56 | 7 | 2 | 1 |\n",
       "| 4072443 | 16-05-21 14:40 | 17-05-21 15:40 | Rush St &amp; Cedar St                  | <!----> | 41.90231 | -87.62769 | NA | NA | 00:59:53 | 1 | 2 | 0 |\n",
       "| 4072477 | 05-05-21 10:56 | 05-05-21 14:02 | Wabash Ave &amp; Adams St               | <!----> | 41.87947 | -87.62569 | NA | NA | 03:05:52 | 4 | 2 | 0 |\n",
       "| 4072584 | 26-05-21 10:37 | 26-05-21 15:24 | Wabash Ave &amp; Adams St               | <!----> | 41.87947 | -87.62569 | NA | NA | 04:46:01 | 4 | 2 | 1 |\n",
       "| 4072628 | 20-05-21 19:11 | 21-05-21 12:11 | Pine Grove Ave &amp; Waveland Ave       | <!----> | 41.94947 | -87.64645 | NA | NA | 17:00:25 | 5 | 2 | 1 |\n",
       "| 4072837 | 02-05-21 14:33 | 02-05-21 17:51 | Pine Grove Ave &amp; Waveland Ave       | <!----> | 41.94947 | -87.64645 | NA | NA | 03:18:13 | 1 | 2 | 0 |\n",
       "| 4072848 | 31-05-21 11:05 | 31-05-21 12:00 | Wabash Ave &amp; Adams St               | <!----> | 41.87947 | -87.62569 | NA | NA | 00:55:32 | 2 | 2 | 0 |\n",
       "| 4072860 | 14-05-21 09:54 | 15-05-21 10:54 | Halsted St &amp; 111th St               | <!----> | 41.69226 | -87.64261 | NA | NA | 00:59:50 | 6 | 2 | 1 |\n",
       "| 4073036 | 21-05-21 13:01 | 21-05-21 19:19 | Blackstone Ave &amp; Hyde Park Blvd     | <!----> | 41.80256 | -87.59037 | NA | NA | 06:18:23 | 6 | 2 | 1 |\n",
       "| 4073235 | 27-05-21 08:38 | 27-05-21 11:16 | Rush St &amp; Cedar St                  | <!----> | 41.90231 | -87.62769 | NA | NA | 02:37:42 | 5 | 2 | 0 |\n",
       "| 4073237 | 11-05-21 15:29 | 12-05-21 16:29 | Wabash Ave &amp; Adams St               | <!----> | 41.87947 | -87.62569 | NA | NA | 00:59:55 | 3 | 2 | 0 |\n",
       "| 4073309 | 02-05-21 21:34 | 03-05-21 08:37 | Lincoln Park Conservatory           | <!----> | 41.92393 | -87.63582 | NA | NA | 11:02:48 | 1 | 2 | 1 |\n",
       "| 4073482 | 21-05-21 20:15 | 22-05-21 21:15 | 63rd St Beach                       | <!----> | 41.78102 | -87.57612 | NA | NA | 00:59:56 | 6 | 2 | 1 |\n",
       "\n"
      ],
      "text/plain": [
       "        started_at     ended_at       start_station_name                 \n",
       "801     04-06-20 07:24 04-06-20 07:58 Broadway & Cornelia Ave            \n",
       "1267    28-06-20 13:58 28-06-20 18:23 Michigan Ave & Lake St             \n",
       "2355    21-06-20 19:08 21-06-20 20:28 Michigan Ave & Lake St             \n",
       "2493    04-06-20 08:46 04-06-20 10:09 Indiana Ave & Roosevelt Rd         \n",
       "2958    17-06-20 09:51 17-06-20 10:18 Clarendon Ave & Junior Ter         \n",
       "2988    16-06-20 14:14 16-06-20 14:41 Clarendon Ave & Junior Ter         \n",
       "3022    28-06-20 13:39 28-06-20 16:08 Lakeview Ave & Fullerton Pkwy      \n",
       "3594    23-06-20 16:48 23-06-20 17:17 LaSalle St & Washington St         \n",
       "3599    26-06-20 00:27 26-06-20 00:53 Clark St & Schiller St             \n",
       "3856    10-06-20 10:30 10-06-20 10:46 Wells St & Hubbard St              \n",
       "6020    06-06-20 12:26 06-06-20 12:55 Ashland Ave & Augusta Blvd         \n",
       "6243    25-06-20 18:12 25-06-20 18:23 Wells St & Concord Ln              \n",
       "7641    27-06-20 04:19 27-06-20 09:09 Orleans St & Elm St                \n",
       "8216    20-06-20 10:44 21-06-20 11:44 Western Ave & 21st St              \n",
       "8670    29-06-20 18:18 30-06-20 19:18 Kostner Ave & Adams St             \n",
       "9334    28-06-20 15:13 28-06-20 16:35 Sheffield Ave & Wrightwood Ave     \n",
       "10023   28-06-20 16:55 28-06-20 17:20 Clark St & Chicago Ave             \n",
       "10246   06-06-20 15:36 06-06-20 15:52 Halsted St & Clybourn Ave          \n",
       "10716   06-06-20 10:59 06-06-20 11:29 Clark St & Winnemac Ave            \n",
       "12177   26-06-20 06:58 26-06-20 08:56 Elston Ave & Wabansia Ave          \n",
       "12287   04-06-20 11:43 04-06-20 11:50 Sheffield Ave & Willow St          \n",
       "12764   15-06-20 12:48 15-06-20 13:42 Wells St & Hubbard St              \n",
       "12806   24-06-20 16:40 24-06-20 17:09 Western Ave & Walton St            \n",
       "13627   06-06-20 11:06 06-06-20 11:23 Southport Ave & Waveland Ave       \n",
       "14426   18-06-20 17:43 18-06-20 19:06 Wilton Ave & Belmont Ave           \n",
       "15042   21-06-20 15:51 21-06-20 16:06 McClurg Ct & Erie St               \n",
       "15154   29-06-20 19:50 30-06-20 07:22 Wabash Ave & 9th St                \n",
       "15557   05-06-20 19:09 06-06-20 20:09 Sheffield Ave & Fullerton Ave      \n",
       "16104   23-06-20 17:27 24-06-20 01:34 Throop (Loomis) St & Taylor St     \n",
       "16359   05-06-20 16:30 05-06-20 16:31 Broadway & Argyle St               \n",
       "⋮       ⋮              ⋮              ⋮                                  \n",
       "4070528 01-05-21 13:37 02-05-21 14:37 Sheridan Rd & Loyola Ave           \n",
       "4071054 24-05-21 22:26 25-05-21 23:26 63rd St Beach                      \n",
       "4071193 11-05-21 12:35 11-05-21 19:06 Damen Ave & Grand Ave              \n",
       "4071293 11-05-21 18:23 11-05-21 19:02 Ada St & Washington Blvd           \n",
       "4071324 03-05-21 14:33 04-05-21 09:11 Sheffield Ave & Wrightwood Ave     \n",
       "4071341 24-05-21 22:26 25-05-21 23:25 63rd St Beach                      \n",
       "4071393 21-05-21 20:12 22-05-21 21:12 63rd St Beach                      \n",
       "4071397 21-05-21 20:04 22-05-21 21:03 63rd St Beach                      \n",
       "4071491 22-05-21 19:21 23-05-21 20:21 63rd St Beach                      \n",
       "4071820 03-05-21 17:28 03-05-21 17:40 Clark St & Armitage Ave            \n",
       "4071891 02-05-21 14:52 03-05-21 15:52 Loomis St & Jackson Blvd           \n",
       "4071946 01-05-21 17:39 02-05-21 18:39 Western Ave & Walton St            \n",
       "4071949 16-05-21 21:22 17-05-21 22:21 Kimbark Ave & 53rd St              \n",
       "4072119 18-05-21 18:37 19-05-21 19:37 Summit Ave & 86th St               \n",
       "4072209 08-05-21 15:42 09-05-21 16:42 Dauphin Ave & 103rd St             \n",
       "4072211 13-05-21 12:25 13-05-21 13:09 Central Park Ave & Bloomingdale Ave\n",
       "4072271 16-05-21 14:08 17-05-21 15:08 Stave St & Armitage Ave            \n",
       "4072295 08-05-21 20:21 09-05-21 21:21 Summit Ave & 86th St               \n",
       "4072443 16-05-21 14:40 17-05-21 15:40 Rush St & Cedar St                 \n",
       "4072477 05-05-21 10:56 05-05-21 14:02 Wabash Ave & Adams St              \n",
       "4072584 26-05-21 10:37 26-05-21 15:24 Wabash Ave & Adams St              \n",
       "4072628 20-05-21 19:11 21-05-21 12:11 Pine Grove Ave & Waveland Ave      \n",
       "4072837 02-05-21 14:33 02-05-21 17:51 Pine Grove Ave & Waveland Ave      \n",
       "4072848 31-05-21 11:05 31-05-21 12:00 Wabash Ave & Adams St              \n",
       "4072860 14-05-21 09:54 15-05-21 10:54 Halsted St & 111th St              \n",
       "4073036 21-05-21 13:01 21-05-21 19:19 Blackstone Ave & Hyde Park Blvd    \n",
       "4073235 27-05-21 08:38 27-05-21 11:16 Rush St & Cedar St                 \n",
       "4073237 11-05-21 15:29 12-05-21 16:29 Wabash Ave & Adams St              \n",
       "4073309 02-05-21 21:34 03-05-21 08:37 Lincoln Park Conservatory          \n",
       "4073482 21-05-21 20:15 22-05-21 21:15 63rd St Beach                      \n",
       "        end_station_name start_lat start_lng end_lat end_lng ride_length\n",
       "801                      41.94553  -87.64644 NA      NA      00:34:00   \n",
       "1267                     41.88602  -87.62412 NA      NA      04:25:00   \n",
       "2355                     41.88602  -87.62412 NA      NA      01:20:00   \n",
       "2493                     41.86789  -87.62304 NA      NA      01:23:00   \n",
       "2958                     41.96100  -87.64960 NA      NA      00:27:00   \n",
       "2988                     41.96100  -87.64960 NA      NA      00:27:00   \n",
       "3022                     41.92586  -87.63897 NA      NA      02:29:00   \n",
       "3594                     41.88266  -87.63253 NA      NA      00:29:00   \n",
       "3599                     41.90799  -87.63150 NA      NA      00:26:00   \n",
       "3856                     41.88991  -87.63427 NA      NA      00:16:00   \n",
       "6020                     41.89964  -87.66770 NA      NA      00:29:00   \n",
       "6243                     41.91213  -87.63466 NA      NA      00:11:00   \n",
       "7641                     41.90292  -87.63772 NA      NA      04:50:00   \n",
       "8216                     41.85411  -87.68584 NA      NA      01:00:00   \n",
       "8670                     41.87792  -87.73574 NA      NA      01:00:00   \n",
       "9334                     41.92871  -87.65383 NA      NA      01:22:00   \n",
       "10023                    41.89675  -87.63089 NA      NA      00:25:00   \n",
       "10246                    41.90967  -87.64813 NA      NA      00:16:00   \n",
       "10716                    41.97334  -87.66778 NA      NA      00:30:00   \n",
       "12177                    41.91292  -87.66417 NA      NA      01:58:00   \n",
       "12287                    41.91369  -87.65286 NA      NA      00:07:00   \n",
       "12764                    41.88991  -87.63427 NA      NA      00:54:00   \n",
       "12806                    41.89842  -87.68660 NA      NA      00:29:00   \n",
       "13627                    41.94815  -87.66394 NA      NA      00:17:00   \n",
       "14426                    41.94018  -87.65304 NA      NA      01:23:00   \n",
       "15042                    41.89450  -87.61785 NA      NA      00:15:00   \n",
       "15154                    41.87077  -87.62573 NA      NA      11:32:00   \n",
       "15557                    41.92560  -87.65371 NA      NA      01:00:00   \n",
       "16104                    41.86897  -87.65914 NA      NA      08:07:00   \n",
       "16359                    41.97382  -87.65966 NA      NA      00:01:00   \n",
       "⋮       ⋮                ⋮         ⋮         ⋮       ⋮       ⋮          \n",
       "4070528                  42.00104  -87.66120 NA      NA      00:59:55   \n",
       "4071054                  41.78102  -87.57612 NA      NA      00:59:54   \n",
       "4071193                  41.89126  -87.67684 NA      NA      06:31:24   \n",
       "4071293                  41.88283  -87.66121 NA      NA      00:38:48   \n",
       "4071324                  41.92871  -87.65383 NA      NA      18:37:25   \n",
       "4071341                  41.78102  -87.57612 NA      NA      00:59:50   \n",
       "4071393                  41.78102  -87.57612 NA      NA      00:59:54   \n",
       "4071397                  41.78102  -87.57612 NA      NA      00:59:54   \n",
       "4071491                  41.78102  -87.57612 NA      NA      00:59:55   \n",
       "4071820                  41.91831  -87.63628 NA      NA      00:11:42   \n",
       "4071891                  41.87794  -87.66201 NA      NA      00:59:56   \n",
       "4071946                  41.89842  -87.68660 NA      NA      00:59:53   \n",
       "4071949                  41.79957  -87.59475 NA      NA      00:59:54   \n",
       "4072119                  41.73785  -87.64490 NA      NA      00:59:56   \n",
       "4072209                  41.70725  -87.60766 NA      NA      00:59:55   \n",
       "4072211                  41.91417  -87.71676 NA      NA      00:44:08   \n",
       "4072271                  41.91774  -87.69139 NA      NA      00:59:46   \n",
       "4072295                  41.73785  -87.64490 NA      NA      00:59:56   \n",
       "4072443                  41.90231  -87.62769 NA      NA      00:59:53   \n",
       "4072477                  41.87947  -87.62569 NA      NA      03:05:52   \n",
       "4072584                  41.87947  -87.62569 NA      NA      04:46:01   \n",
       "4072628                  41.94947  -87.64645 NA      NA      17:00:25   \n",
       "4072837                  41.94947  -87.64645 NA      NA      03:18:13   \n",
       "4072848                  41.87947  -87.62569 NA      NA      00:55:32   \n",
       "4072860                  41.69226  -87.64261 NA      NA      00:59:50   \n",
       "4073036                  41.80256  -87.59037 NA      NA      06:18:23   \n",
       "4073235                  41.90231  -87.62769 NA      NA      02:37:42   \n",
       "4073237                  41.87947  -87.62569 NA      NA      00:59:55   \n",
       "4073309                  41.92393  -87.63582 NA      NA      11:02:48   \n",
       "4073482                  41.78102  -87.57612 NA      NA      00:59:56   \n",
       "        WEEKDAY rideable_type_Dummy member_type_Dummy\n",
       "801     5       0                   0                \n",
       "1267    1       0                   1                \n",
       "2355    1       0                   0                \n",
       "2493    5       0                   1                \n",
       "2958    4       0                   0                \n",
       "2988    3       0                   0                \n",
       "3022    1       0                   1                \n",
       "3594    3       0                   0                \n",
       "3599    6       0                   0                \n",
       "3856    4       0                   1                \n",
       "6020    7       0                   0                \n",
       "6243    5       0                   0                \n",
       "7641    7       0                   0                \n",
       "8216    7       0                   1                \n",
       "8670    2       0                   0                \n",
       "9334    1       0                   0                \n",
       "10023   1       0                   0                \n",
       "10246   7       0                   1                \n",
       "10716   7       0                   1                \n",
       "12177   6       0                   0                \n",
       "12287   5       0                   0                \n",
       "12764   2       0                   0                \n",
       "12806   4       0                   0                \n",
       "13627   7       0                   0                \n",
       "14426   5       0                   0                \n",
       "15042   1       0                   0                \n",
       "15154   2       0                   0                \n",
       "15557   6       0                   1                \n",
       "16104   3       0                   1                \n",
       "16359   6       0                   0                \n",
       "⋮       ⋮       ⋮                   ⋮                \n",
       "4070528 7       2                   1                \n",
       "4071054 2       2                   1                \n",
       "4071193 3       2                   0                \n",
       "4071293 3       2                   0                \n",
       "4071324 2       2                   0                \n",
       "4071341 2       2                   1                \n",
       "4071393 6       2                   1                \n",
       "4071397 6       2                   1                \n",
       "4071491 7       2                   1                \n",
       "4071820 2       2                   1                \n",
       "4071891 1       2                   1                \n",
       "4071946 7       2                   1                \n",
       "4071949 1       2                   1                \n",
       "4072119 3       2                   1                \n",
       "4072209 7       2                   1                \n",
       "4072211 5       2                   1                \n",
       "4072271 1       2                   1                \n",
       "4072295 7       2                   1                \n",
       "4072443 1       2                   0                \n",
       "4072477 4       2                   0                \n",
       "4072584 4       2                   1                \n",
       "4072628 5       2                   1                \n",
       "4072837 1       2                   0                \n",
       "4072848 2       2                   0                \n",
       "4072860 6       2                   1                \n",
       "4073036 6       2                   1                \n",
       "4073235 5       2                   0                \n",
       "4073237 3       2                   0                \n",
       "4073309 1       2                   1                \n",
       "4073482 6       2                   1                "
      ]
     },
     "metadata": {},
     "output_type": "display_data"
    }
   ],
   "source": [
    "df_Divvy_C_V02[!complete.cases(df_Divvy_C_V02),]"
   ]
  },
  {
   "cell_type": "code",
   "execution_count": 15,
   "id": "2f22abcf",
   "metadata": {
    "execution": {
     "iopub.execute_input": "2021-07-08T06:31:53.197493Z",
     "iopub.status.busy": "2021-07-08T06:31:53.195554Z",
     "iopub.status.idle": "2021-07-08T06:31:53.214233Z",
     "shell.execute_reply": "2021-07-08T06:31:53.212716Z"
    },
    "papermill": {
     "duration": 0.087154,
     "end_time": "2021-07-08T06:31:53.214392",
     "exception": false,
     "start_time": "2021-07-08T06:31:53.127238",
     "status": "completed"
    },
    "tags": []
   },
   "outputs": [],
   "source": [
    "df_Divvy_nocoor_C_V02 <- df_Divvy_C_V02 %>% \n",
    "  select(-c(start_lat,start_lng,end_lat,end_lng))"
   ]
  },
  {
   "cell_type": "code",
   "execution_count": 16,
   "id": "9730553c",
   "metadata": {
    "execution": {
     "iopub.execute_input": "2021-07-08T06:31:53.346342Z",
     "iopub.status.busy": "2021-07-08T06:31:53.344631Z",
     "iopub.status.idle": "2021-07-08T06:31:53.960083Z",
     "shell.execute_reply": "2021-07-08T06:31:53.957987Z"
    },
    "papermill": {
     "duration": 0.683574,
     "end_time": "2021-07-08T06:31:53.960240",
     "exception": false,
     "start_time": "2021-07-08T06:31:53.276666",
     "status": "completed"
    },
    "tags": []
   },
   "outputs": [
    {
     "data": {
      "text/html": [
       "<table class=\"dataframe\">\n",
       "<caption>A data.frame: 0 × 8</caption>\n",
       "<thead>\n",
       "\t<tr><th scope=col>started_at</th><th scope=col>ended_at</th><th scope=col>start_station_name</th><th scope=col>end_station_name</th><th scope=col>ride_length</th><th scope=col>WEEKDAY</th><th scope=col>rideable_type_Dummy</th><th scope=col>member_type_Dummy</th></tr>\n",
       "\t<tr><th scope=col>&lt;chr&gt;</th><th scope=col>&lt;chr&gt;</th><th scope=col>&lt;chr&gt;</th><th scope=col>&lt;chr&gt;</th><th scope=col>&lt;chr&gt;</th><th scope=col>&lt;int&gt;</th><th scope=col>&lt;dbl&gt;</th><th scope=col>&lt;dbl&gt;</th></tr>\n",
       "</thead>\n",
       "<tbody>\n",
       "</tbody>\n",
       "</table>\n"
      ],
      "text/latex": [
       "A data.frame: 0 × 8\n",
       "\\begin{tabular}{llllllll}\n",
       " started\\_at & ended\\_at & start\\_station\\_name & end\\_station\\_name & ride\\_length & WEEKDAY & rideable\\_type\\_Dummy & member\\_type\\_Dummy\\\\\n",
       " <chr> & <chr> & <chr> & <chr> & <chr> & <int> & <dbl> & <dbl>\\\\\n",
       "\\hline\n",
       "\\end{tabular}\n"
      ],
      "text/markdown": [
       "\n",
       "A data.frame: 0 × 8\n",
       "\n",
       "| started_at &lt;chr&gt; | ended_at &lt;chr&gt; | start_station_name &lt;chr&gt; | end_station_name &lt;chr&gt; | ride_length &lt;chr&gt; | WEEKDAY &lt;int&gt; | rideable_type_Dummy &lt;dbl&gt; | member_type_Dummy &lt;dbl&gt; |\n",
       "|---|---|---|---|---|---|---|---|\n",
       "\n"
      ],
      "text/plain": [
       "     started_at ended_at start_station_name end_station_name ride_length\n",
       "     WEEKDAY rideable_type_Dummy member_type_Dummy"
      ]
     },
     "metadata": {},
     "output_type": "display_data"
    }
   ],
   "source": [
    "df_Divvy_nocoor_C_V02[!complete.cases(df_Divvy_nocoor_C_V02),]"
   ]
  },
  {
   "cell_type": "code",
   "execution_count": 17,
   "id": "3ff95c07",
   "metadata": {
    "execution": {
     "iopub.execute_input": "2021-07-08T06:31:54.581142Z",
     "iopub.status.busy": "2021-07-08T06:31:54.579616Z",
     "iopub.status.idle": "2021-07-08T06:31:54.709701Z",
     "shell.execute_reply": "2021-07-08T06:31:54.708331Z"
    },
    "papermill": {
     "duration": 0.686336,
     "end_time": "2021-07-08T06:31:54.709886",
     "exception": false,
     "start_time": "2021-07-08T06:31:54.023550",
     "status": "completed"
    },
    "tags": []
   },
   "outputs": [
    {
     "data": {
      "text/html": [
       "<table class=\"dataframe\">\n",
       "<caption>A data.frame: 717 × 1</caption>\n",
       "<thead>\n",
       "\t<tr><th></th><th scope=col>end_station_name</th></tr>\n",
       "\t<tr><th></th><th scope=col>&lt;chr&gt;</th></tr>\n",
       "</thead>\n",
       "<tbody>\n",
       "\t<tr><th scope=row>1</th><td><span style=white-space:pre-wrap>Damen Ave &amp; Clybourn Ave       </span></td></tr>\n",
       "\t<tr><th scope=row>2</th><td>Daley Center Plaza             </td></tr>\n",
       "\t<tr><th scope=row>3</th><td><span style=white-space:pre-wrap>State St &amp; Harrison St         </span></td></tr>\n",
       "\t<tr><th scope=row>4</th><td><span style=white-space:pre-wrap>Broadway &amp; Berwyn Ave          </span></td></tr>\n",
       "\t<tr><th scope=row>5</th><td><span style=white-space:pre-wrap>Wilton Ave &amp; Belmont Ave       </span></td></tr>\n",
       "\t<tr><th scope=row>8</th><td><span style=white-space:pre-wrap>Broadway &amp; Cornelia Ave        </span></td></tr>\n",
       "\t<tr><th scope=row>9</th><td><span style=white-space:pre-wrap>Franklin St &amp; Lake St          </span></td></tr>\n",
       "\t<tr><th scope=row>10</th><td><span style=white-space:pre-wrap>Wells St &amp; Huron St            </span></td></tr>\n",
       "\t<tr><th scope=row>11</th><td><span style=white-space:pre-wrap>Michigan Ave &amp; 14th St         </span></td></tr>\n",
       "\t<tr><th scope=row>12</th><td><span style=white-space:pre-wrap>Campbell Ave &amp; North Ave       </span></td></tr>\n",
       "\t<tr><th scope=row>13</th><td><span style=white-space:pre-wrap>Stockton Dr &amp; Wrightwood Ave   </span></td></tr>\n",
       "\t<tr><th scope=row>14</th><td><span style=white-space:pre-wrap>LaSalle Dr &amp; Huron St          </span></td></tr>\n",
       "\t<tr><th scope=row>17</th><td><span style=white-space:pre-wrap>State St &amp; 33rd St             </span></td></tr>\n",
       "\t<tr><th scope=row>18</th><td>Cityfront Plaza Dr &amp; Pioneer Ct</td></tr>\n",
       "\t<tr><th scope=row>19</th><td>Montrose Harbor                </td></tr>\n",
       "\t<tr><th scope=row>22</th><td><span style=white-space:pre-wrap>Lakeview Ave &amp; Fullerton Pkwy  </span></td></tr>\n",
       "\t<tr><th scope=row>24</th><td><span style=white-space:pre-wrap>Lake Shore Dr &amp; Ohio St        </span></td></tr>\n",
       "\t<tr><th scope=row>25</th><td><span style=white-space:pre-wrap>Halsted St &amp; Wrightwood Ave    </span></td></tr>\n",
       "\t<tr><th scope=row>28</th><td><span style=white-space:pre-wrap>Damen Ave &amp; Cortland St        </span></td></tr>\n",
       "\t<tr><th scope=row>29</th><td><span style=white-space:pre-wrap>Wells St &amp; Concord Ln          </span></td></tr>\n",
       "\t<tr><th scope=row>30</th><td><span style=white-space:pre-wrap>McClurg Ct &amp; Illinois St       </span></td></tr>\n",
       "\t<tr><th scope=row>31</th><td><span style=white-space:pre-wrap>Damen Ave &amp; Charleston St      </span></td></tr>\n",
       "\t<tr><th scope=row>32</th><td><span style=white-space:pre-wrap>Wood St &amp; Milwaukee Ave        </span></td></tr>\n",
       "\t<tr><th scope=row>33</th><td><span style=white-space:pre-wrap>Racine Ave &amp; Congress Pkwy     </span></td></tr>\n",
       "\t<tr><th scope=row>34</th><td><span style=white-space:pre-wrap>Dodge Ave &amp; Church St          </span></td></tr>\n",
       "\t<tr><th scope=row>35</th><td><span style=white-space:pre-wrap>Damen Ave &amp; Chicago Ave        </span></td></tr>\n",
       "\t<tr><th scope=row>38</th><td><span style=white-space:pre-wrap>Calumet Ave &amp; 18th St          </span></td></tr>\n",
       "\t<tr><th scope=row>39</th><td><span style=white-space:pre-wrap>Lincoln Ave &amp; Roscoe St        </span></td></tr>\n",
       "\t<tr><th scope=row>40</th><td><span style=white-space:pre-wrap>Clark St &amp; Lincoln Ave         </span></td></tr>\n",
       "\t<tr><th scope=row>41</th><td><span style=white-space:pre-wrap>Wabash Ave &amp; Roosevelt Rd      </span></td></tr>\n",
       "\t<tr><th scope=row>⋮</th><td>⋮</td></tr>\n",
       "\t<tr><th scope=row>2497587</th><td>Hegewisch Metra Station                              </td></tr>\n",
       "\t<tr><th scope=row>2714146</th><td>Base - 2132 W Hubbard Warehouse                      </td></tr>\n",
       "\t<tr><th scope=row>2714197</th><td><span style=white-space:pre-wrap>N Green St &amp; W Lake St                               </span></td></tr>\n",
       "\t<tr><th scope=row>2722727</th><td><span style=white-space:pre-wrap>W Washington Blvd &amp; N Peoria St                      </span></td></tr>\n",
       "\t<tr><th scope=row>2727571</th><td><span style=white-space:pre-wrap>N Carpenter St &amp; W Lake St                           </span></td></tr>\n",
       "\t<tr><th scope=row>2734501</th><td><span style=white-space:pre-wrap>Dodge Ave &amp; Main St                                  </span></td></tr>\n",
       "\t<tr><th scope=row>2831230</th><td><span style=white-space:pre-wrap>Broadway &amp; Wilson - Truman College Vaccination Site  </span></td></tr>\n",
       "\t<tr><th scope=row>2832108</th><td>Western &amp; 28th - Velasquez Institute Vaccination Site</td></tr>\n",
       "\t<tr><th scope=row>2856319</th><td><span style=white-space:pre-wrap>Avenue L &amp; 114th St                                  </span></td></tr>\n",
       "\t<tr><th scope=row>2856741</th><td>Malcolm X College Vaccination Site                   </td></tr>\n",
       "\t<tr><th scope=row>2876946</th><td><span style=white-space:pre-wrap>N Sheffield Ave &amp; W Wellington Ave                   </span></td></tr>\n",
       "\t<tr><th scope=row>2890269</th><td><span style=white-space:pre-wrap>N Paulina St &amp; Lincoln Ave                           </span></td></tr>\n",
       "\t<tr><th scope=row>2910335</th><td><span style=white-space:pre-wrap>N Damen Ave &amp; W Wabansia St                          </span></td></tr>\n",
       "\t<tr><th scope=row>2923320</th><td><span style=white-space:pre-wrap>N Southport Ave &amp; W Newport Ave                      </span></td></tr>\n",
       "\t<tr><th scope=row>2941601</th><td><span style=white-space:pre-wrap>N Hampden Ct &amp; W Diversey Ave                        </span></td></tr>\n",
       "\t<tr><th scope=row>2976961</th><td><span style=white-space:pre-wrap>Damen Ave &amp; Wabansia Ave                             </span></td></tr>\n",
       "\t<tr><th scope=row>3009650</th><td>Chicago State University                             </td></tr>\n",
       "\t<tr><th scope=row>3015477</th><td><span style=white-space:pre-wrap>Kedzie Ave &amp; 110th St                                </span></td></tr>\n",
       "\t<tr><th scope=row>3063198</th><td><span style=white-space:pre-wrap>Halsted &amp; 63rd - Kennedy-King Vaccination Site       </span></td></tr>\n",
       "\t<tr><th scope=row>3162261</th><td><span style=white-space:pre-wrap>S Wentworth Ave &amp; W 111th St                         </span></td></tr>\n",
       "\t<tr><th scope=row>3217696</th><td><span style=white-space:pre-wrap>Hampden Ct &amp; Diversey Ave                            </span></td></tr>\n",
       "\t<tr><th scope=row>3261657</th><td><span style=white-space:pre-wrap>Commercial Ave &amp; 100th St                            </span></td></tr>\n",
       "\t<tr><th scope=row>3302295</th><td><span style=white-space:pre-wrap>N Clark St &amp; W Elm St                                </span></td></tr>\n",
       "\t<tr><th scope=row>3313028</th><td><span style=white-space:pre-wrap>Woodlawn &amp; 103rd - Olive Harvey Vaccination Site     </span></td></tr>\n",
       "\t<tr><th scope=row>3367836</th><td><span style=white-space:pre-wrap>Kedzie Ave &amp; 104th St                                </span></td></tr>\n",
       "\t<tr><th scope=row>3383350</th><td>Calumet Park                                         </td></tr>\n",
       "\t<tr><th scope=row>3587344</th><td><span style=white-space:pre-wrap>Elston Ave &amp; Cortland St                             </span></td></tr>\n",
       "\t<tr><th scope=row>3596029</th><td><span style=white-space:pre-wrap>Loomis St &amp; 89th St                                  </span></td></tr>\n",
       "\t<tr><th scope=row>3710282</th><td><span style=white-space:pre-wrap>W 103rd St &amp; S Avers Ave                             </span></td></tr>\n",
       "\t<tr><th scope=row>3828932</th><td>Altgeld Gardens                                      </td></tr>\n",
       "</tbody>\n",
       "</table>\n"
      ],
      "text/latex": [
       "A data.frame: 717 × 1\n",
       "\\begin{tabular}{r|l}\n",
       "  & end\\_station\\_name\\\\\n",
       "  & <chr>\\\\\n",
       "\\hline\n",
       "\t1 & Damen Ave \\& Clybourn Ave       \\\\\n",
       "\t2 & Daley Center Plaza             \\\\\n",
       "\t3 & State St \\& Harrison St         \\\\\n",
       "\t4 & Broadway \\& Berwyn Ave          \\\\\n",
       "\t5 & Wilton Ave \\& Belmont Ave       \\\\\n",
       "\t8 & Broadway \\& Cornelia Ave        \\\\\n",
       "\t9 & Franklin St \\& Lake St          \\\\\n",
       "\t10 & Wells St \\& Huron St            \\\\\n",
       "\t11 & Michigan Ave \\& 14th St         \\\\\n",
       "\t12 & Campbell Ave \\& North Ave       \\\\\n",
       "\t13 & Stockton Dr \\& Wrightwood Ave   \\\\\n",
       "\t14 & LaSalle Dr \\& Huron St          \\\\\n",
       "\t17 & State St \\& 33rd St             \\\\\n",
       "\t18 & Cityfront Plaza Dr \\& Pioneer Ct\\\\\n",
       "\t19 & Montrose Harbor                \\\\\n",
       "\t22 & Lakeview Ave \\& Fullerton Pkwy  \\\\\n",
       "\t24 & Lake Shore Dr \\& Ohio St        \\\\\n",
       "\t25 & Halsted St \\& Wrightwood Ave    \\\\\n",
       "\t28 & Damen Ave \\& Cortland St        \\\\\n",
       "\t29 & Wells St \\& Concord Ln          \\\\\n",
       "\t30 & McClurg Ct \\& Illinois St       \\\\\n",
       "\t31 & Damen Ave \\& Charleston St      \\\\\n",
       "\t32 & Wood St \\& Milwaukee Ave        \\\\\n",
       "\t33 & Racine Ave \\& Congress Pkwy     \\\\\n",
       "\t34 & Dodge Ave \\& Church St          \\\\\n",
       "\t35 & Damen Ave \\& Chicago Ave        \\\\\n",
       "\t38 & Calumet Ave \\& 18th St          \\\\\n",
       "\t39 & Lincoln Ave \\& Roscoe St        \\\\\n",
       "\t40 & Clark St \\& Lincoln Ave         \\\\\n",
       "\t41 & Wabash Ave \\& Roosevelt Rd      \\\\\n",
       "\t⋮ & ⋮\\\\\n",
       "\t2497587 & Hegewisch Metra Station                              \\\\\n",
       "\t2714146 & Base - 2132 W Hubbard Warehouse                      \\\\\n",
       "\t2714197 & N Green St \\& W Lake St                               \\\\\n",
       "\t2722727 & W Washington Blvd \\& N Peoria St                      \\\\\n",
       "\t2727571 & N Carpenter St \\& W Lake St                           \\\\\n",
       "\t2734501 & Dodge Ave \\& Main St                                  \\\\\n",
       "\t2831230 & Broadway \\& Wilson - Truman College Vaccination Site  \\\\\n",
       "\t2832108 & Western \\& 28th - Velasquez Institute Vaccination Site\\\\\n",
       "\t2856319 & Avenue L \\& 114th St                                  \\\\\n",
       "\t2856741 & Malcolm X College Vaccination Site                   \\\\\n",
       "\t2876946 & N Sheffield Ave \\& W Wellington Ave                   \\\\\n",
       "\t2890269 & N Paulina St \\& Lincoln Ave                           \\\\\n",
       "\t2910335 & N Damen Ave \\& W Wabansia St                          \\\\\n",
       "\t2923320 & N Southport Ave \\& W Newport Ave                      \\\\\n",
       "\t2941601 & N Hampden Ct \\& W Diversey Ave                        \\\\\n",
       "\t2976961 & Damen Ave \\& Wabansia Ave                             \\\\\n",
       "\t3009650 & Chicago State University                             \\\\\n",
       "\t3015477 & Kedzie Ave \\& 110th St                                \\\\\n",
       "\t3063198 & Halsted \\& 63rd - Kennedy-King Vaccination Site       \\\\\n",
       "\t3162261 & S Wentworth Ave \\& W 111th St                         \\\\\n",
       "\t3217696 & Hampden Ct \\& Diversey Ave                            \\\\\n",
       "\t3261657 & Commercial Ave \\& 100th St                            \\\\\n",
       "\t3302295 & N Clark St \\& W Elm St                                \\\\\n",
       "\t3313028 & Woodlawn \\& 103rd - Olive Harvey Vaccination Site     \\\\\n",
       "\t3367836 & Kedzie Ave \\& 104th St                                \\\\\n",
       "\t3383350 & Calumet Park                                         \\\\\n",
       "\t3587344 & Elston Ave \\& Cortland St                             \\\\\n",
       "\t3596029 & Loomis St \\& 89th St                                  \\\\\n",
       "\t3710282 & W 103rd St \\& S Avers Ave                             \\\\\n",
       "\t3828932 & Altgeld Gardens                                      \\\\\n",
       "\\end{tabular}\n"
      ],
      "text/markdown": [
       "\n",
       "A data.frame: 717 × 1\n",
       "\n",
       "| <!--/--> | end_station_name &lt;chr&gt; |\n",
       "|---|---|\n",
       "| 1 | Damen Ave &amp; Clybourn Ave        |\n",
       "| 2 | Daley Center Plaza              |\n",
       "| 3 | State St &amp; Harrison St          |\n",
       "| 4 | Broadway &amp; Berwyn Ave           |\n",
       "| 5 | Wilton Ave &amp; Belmont Ave        |\n",
       "| 8 | Broadway &amp; Cornelia Ave         |\n",
       "| 9 | Franklin St &amp; Lake St           |\n",
       "| 10 | Wells St &amp; Huron St             |\n",
       "| 11 | Michigan Ave &amp; 14th St          |\n",
       "| 12 | Campbell Ave &amp; North Ave        |\n",
       "| 13 | Stockton Dr &amp; Wrightwood Ave    |\n",
       "| 14 | LaSalle Dr &amp; Huron St           |\n",
       "| 17 | State St &amp; 33rd St              |\n",
       "| 18 | Cityfront Plaza Dr &amp; Pioneer Ct |\n",
       "| 19 | Montrose Harbor                 |\n",
       "| 22 | Lakeview Ave &amp; Fullerton Pkwy   |\n",
       "| 24 | Lake Shore Dr &amp; Ohio St         |\n",
       "| 25 | Halsted St &amp; Wrightwood Ave     |\n",
       "| 28 | Damen Ave &amp; Cortland St         |\n",
       "| 29 | Wells St &amp; Concord Ln           |\n",
       "| 30 | McClurg Ct &amp; Illinois St        |\n",
       "| 31 | Damen Ave &amp; Charleston St       |\n",
       "| 32 | Wood St &amp; Milwaukee Ave         |\n",
       "| 33 | Racine Ave &amp; Congress Pkwy      |\n",
       "| 34 | Dodge Ave &amp; Church St           |\n",
       "| 35 | Damen Ave &amp; Chicago Ave         |\n",
       "| 38 | Calumet Ave &amp; 18th St           |\n",
       "| 39 | Lincoln Ave &amp; Roscoe St         |\n",
       "| 40 | Clark St &amp; Lincoln Ave          |\n",
       "| 41 | Wabash Ave &amp; Roosevelt Rd       |\n",
       "| ⋮ | ⋮ |\n",
       "| 2497587 | Hegewisch Metra Station                               |\n",
       "| 2714146 | Base - 2132 W Hubbard Warehouse                       |\n",
       "| 2714197 | N Green St &amp; W Lake St                                |\n",
       "| 2722727 | W Washington Blvd &amp; N Peoria St                       |\n",
       "| 2727571 | N Carpenter St &amp; W Lake St                            |\n",
       "| 2734501 | Dodge Ave &amp; Main St                                   |\n",
       "| 2831230 | Broadway &amp; Wilson - Truman College Vaccination Site   |\n",
       "| 2832108 | Western &amp; 28th - Velasquez Institute Vaccination Site |\n",
       "| 2856319 | Avenue L &amp; 114th St                                   |\n",
       "| 2856741 | Malcolm X College Vaccination Site                    |\n",
       "| 2876946 | N Sheffield Ave &amp; W Wellington Ave                    |\n",
       "| 2890269 | N Paulina St &amp; Lincoln Ave                            |\n",
       "| 2910335 | N Damen Ave &amp; W Wabansia St                           |\n",
       "| 2923320 | N Southport Ave &amp; W Newport Ave                       |\n",
       "| 2941601 | N Hampden Ct &amp; W Diversey Ave                         |\n",
       "| 2976961 | Damen Ave &amp; Wabansia Ave                              |\n",
       "| 3009650 | Chicago State University                              |\n",
       "| 3015477 | Kedzie Ave &amp; 110th St                                 |\n",
       "| 3063198 | Halsted &amp; 63rd - Kennedy-King Vaccination Site        |\n",
       "| 3162261 | S Wentworth Ave &amp; W 111th St                          |\n",
       "| 3217696 | Hampden Ct &amp; Diversey Ave                             |\n",
       "| 3261657 | Commercial Ave &amp; 100th St                             |\n",
       "| 3302295 | N Clark St &amp; W Elm St                                 |\n",
       "| 3313028 | Woodlawn &amp; 103rd - Olive Harvey Vaccination Site      |\n",
       "| 3367836 | Kedzie Ave &amp; 104th St                                 |\n",
       "| 3383350 | Calumet Park                                          |\n",
       "| 3587344 | Elston Ave &amp; Cortland St                              |\n",
       "| 3596029 | Loomis St &amp; 89th St                                   |\n",
       "| 3710282 | W 103rd St &amp; S Avers Ave                              |\n",
       "| 3828932 | Altgeld Gardens                                       |\n",
       "\n"
      ],
      "text/plain": [
       "        end_station_name                                     \n",
       "1       Damen Ave & Clybourn Ave                             \n",
       "2       Daley Center Plaza                                   \n",
       "3       State St & Harrison St                               \n",
       "4       Broadway & Berwyn Ave                                \n",
       "5       Wilton Ave & Belmont Ave                             \n",
       "8       Broadway & Cornelia Ave                              \n",
       "9       Franklin St & Lake St                                \n",
       "10      Wells St & Huron St                                  \n",
       "11      Michigan Ave & 14th St                               \n",
       "12      Campbell Ave & North Ave                             \n",
       "13      Stockton Dr & Wrightwood Ave                         \n",
       "14      LaSalle Dr & Huron St                                \n",
       "17      State St & 33rd St                                   \n",
       "18      Cityfront Plaza Dr & Pioneer Ct                      \n",
       "19      Montrose Harbor                                      \n",
       "22      Lakeview Ave & Fullerton Pkwy                        \n",
       "24      Lake Shore Dr & Ohio St                              \n",
       "25      Halsted St & Wrightwood Ave                          \n",
       "28      Damen Ave & Cortland St                              \n",
       "29      Wells St & Concord Ln                                \n",
       "30      McClurg Ct & Illinois St                             \n",
       "31      Damen Ave & Charleston St                            \n",
       "32      Wood St & Milwaukee Ave                              \n",
       "33      Racine Ave & Congress Pkwy                           \n",
       "34      Dodge Ave & Church St                                \n",
       "35      Damen Ave & Chicago Ave                              \n",
       "38      Calumet Ave & 18th St                                \n",
       "39      Lincoln Ave & Roscoe St                              \n",
       "40      Clark St & Lincoln Ave                               \n",
       "41      Wabash Ave & Roosevelt Rd                            \n",
       "⋮       ⋮                                                    \n",
       "2497587 Hegewisch Metra Station                              \n",
       "2714146 Base - 2132 W Hubbard Warehouse                      \n",
       "2714197 N Green St & W Lake St                               \n",
       "2722727 W Washington Blvd & N Peoria St                      \n",
       "2727571 N Carpenter St & W Lake St                           \n",
       "2734501 Dodge Ave & Main St                                  \n",
       "2831230 Broadway & Wilson - Truman College Vaccination Site  \n",
       "2832108 Western & 28th - Velasquez Institute Vaccination Site\n",
       "2856319 Avenue L & 114th St                                  \n",
       "2856741 Malcolm X College Vaccination Site                   \n",
       "2876946 N Sheffield Ave & W Wellington Ave                   \n",
       "2890269 N Paulina St & Lincoln Ave                           \n",
       "2910335 N Damen Ave & W Wabansia St                          \n",
       "2923320 N Southport Ave & W Newport Ave                      \n",
       "2941601 N Hampden Ct & W Diversey Ave                        \n",
       "2976961 Damen Ave & Wabansia Ave                             \n",
       "3009650 Chicago State University                             \n",
       "3015477 Kedzie Ave & 110th St                                \n",
       "3063198 Halsted & 63rd - Kennedy-King Vaccination Site       \n",
       "3162261 S Wentworth Ave & W 111th St                         \n",
       "3217696 Hampden Ct & Diversey Ave                            \n",
       "3261657 Commercial Ave & 100th St                            \n",
       "3302295 N Clark St & W Elm St                                \n",
       "3313028 Woodlawn & 103rd - Olive Harvey Vaccination Site     \n",
       "3367836 Kedzie Ave & 104th St                                \n",
       "3383350 Calumet Park                                         \n",
       "3587344 Elston Ave & Cortland St                             \n",
       "3596029 Loomis St & 89th St                                  \n",
       "3710282 W 103rd St & S Avers Ave                             \n",
       "3828932 Altgeld Gardens                                      "
      ]
     },
     "metadata": {},
     "output_type": "display_data"
    }
   ],
   "source": [
    "unique(df_Divvy_C_V02[c(\"end_station_name\")])"
   ]
  },
  {
   "cell_type": "code",
   "execution_count": 18,
   "id": "33d6890a",
   "metadata": {
    "execution": {
     "iopub.execute_input": "2021-07-08T06:31:54.849717Z",
     "iopub.status.busy": "2021-07-08T06:31:54.848109Z",
     "iopub.status.idle": "2021-07-08T06:31:54.865926Z",
     "shell.execute_reply": "2021-07-08T06:31:54.864414Z"
    },
    "papermill": {
     "duration": 0.088965,
     "end_time": "2021-07-08T06:31:54.866142",
     "exception": false,
     "start_time": "2021-07-08T06:31:54.777177",
     "status": "completed"
    },
    "tags": []
   },
   "outputs": [
    {
     "data": {
      "text/html": [
       "<style>\n",
       ".list-inline {list-style: none; margin:0; padding: 0}\n",
       ".list-inline>li {display: inline-block}\n",
       ".list-inline>li:not(:last-child)::after {content: \"\\00b7\"; padding: 0 .5ex}\n",
       "</style>\n",
       "<ol class=list-inline><li>'started_at'</li><li>'ended_at'</li><li>'start_station_name'</li><li>'end_station_name'</li><li>'start_lat'</li><li>'start_lng'</li><li>'end_lat'</li><li>'end_lng'</li><li>'ride_length'</li><li>'WEEKDAY'</li><li>'rideable_type_Dummy'</li><li>'member_type_Dummy'</li></ol>\n"
      ],
      "text/latex": [
       "\\begin{enumerate*}\n",
       "\\item 'started\\_at'\n",
       "\\item 'ended\\_at'\n",
       "\\item 'start\\_station\\_name'\n",
       "\\item 'end\\_station\\_name'\n",
       "\\item 'start\\_lat'\n",
       "\\item 'start\\_lng'\n",
       "\\item 'end\\_lat'\n",
       "\\item 'end\\_lng'\n",
       "\\item 'ride\\_length'\n",
       "\\item 'WEEKDAY'\n",
       "\\item 'rideable\\_type\\_Dummy'\n",
       "\\item 'member\\_type\\_Dummy'\n",
       "\\end{enumerate*}\n"
      ],
      "text/markdown": [
       "1. 'started_at'\n",
       "2. 'ended_at'\n",
       "3. 'start_station_name'\n",
       "4. 'end_station_name'\n",
       "5. 'start_lat'\n",
       "6. 'start_lng'\n",
       "7. 'end_lat'\n",
       "8. 'end_lng'\n",
       "9. 'ride_length'\n",
       "10. 'WEEKDAY'\n",
       "11. 'rideable_type_Dummy'\n",
       "12. 'member_type_Dummy'\n",
       "\n",
       "\n"
      ],
      "text/plain": [
       " [1] \"started_at\"          \"ended_at\"            \"start_station_name\" \n",
       " [4] \"end_station_name\"    \"start_lat\"           \"start_lng\"          \n",
       " [7] \"end_lat\"             \"end_lng\"             \"ride_length\"        \n",
       "[10] \"WEEKDAY\"             \"rideable_type_Dummy\" \"member_type_Dummy\"  "
      ]
     },
     "metadata": {},
     "output_type": "display_data"
    }
   ],
   "source": [
    "colnames(df_Divvy_C_V02)"
   ]
  },
  {
   "cell_type": "code",
   "execution_count": 19,
   "id": "b33d2d74",
   "metadata": {
    "execution": {
     "iopub.execute_input": "2021-07-08T06:31:55.004602Z",
     "iopub.status.busy": "2021-07-08T06:31:55.003157Z",
     "iopub.status.idle": "2021-07-08T06:31:55.040563Z",
     "shell.execute_reply": "2021-07-08T06:31:55.038692Z"
    },
    "papermill": {
     "duration": 0.107969,
     "end_time": "2021-07-08T06:31:55.040776",
     "exception": false,
     "start_time": "2021-07-08T06:31:54.932807",
     "status": "completed"
    },
    "tags": []
   },
   "outputs": [
    {
     "data": {
      "text/html": [
       "'data.frame'"
      ],
      "text/latex": [
       "'data.frame'"
      ],
      "text/markdown": [
       "'data.frame'"
      ],
      "text/plain": [
       "[1] \"data.frame\""
      ]
     },
     "metadata": {},
     "output_type": "display_data"
    },
    {
     "data": {
      "text/html": [
       "'character'"
      ],
      "text/latex": [
       "'character'"
      ],
      "text/markdown": [
       "'character'"
      ],
      "text/plain": [
       "[1] \"character\""
      ]
     },
     "metadata": {},
     "output_type": "display_data"
    },
    {
     "data": {
      "text/html": [
       "'data.frame'"
      ],
      "text/latex": [
       "'data.frame'"
      ],
      "text/markdown": [
       "'data.frame'"
      ],
      "text/plain": [
       "[1] \"data.frame\""
      ]
     },
     "metadata": {},
     "output_type": "display_data"
    },
    {
     "data": {
      "text/html": [
       "'character'"
      ],
      "text/latex": [
       "'character'"
      ],
      "text/markdown": [
       "'character'"
      ],
      "text/plain": [
       "[1] \"character\""
      ]
     },
     "metadata": {},
     "output_type": "display_data"
    },
    {
     "data": {
      "text/html": [
       "'character'"
      ],
      "text/latex": [
       "'character'"
      ],
      "text/markdown": [
       "'character'"
      ],
      "text/plain": [
       "[1] \"character\""
      ]
     },
     "metadata": {},
     "output_type": "display_data"
    }
   ],
   "source": [
    "class(df_Divvy_C_V02[\"started_at\"])\n",
    "class(df_Divvy_C_V02[[\"started_at\"]])\n",
    "class(df_Divvy_C_V02[c(\"started_at\")])\n",
    "class(df_Divvy_C_V02[[c(\"started_at\")]])\n",
    "class(df_Divvy_C_V02$started_at)"
   ]
  },
  {
   "cell_type": "code",
   "execution_count": 20,
   "id": "868848e2",
   "metadata": {
    "execution": {
     "iopub.execute_input": "2021-07-08T06:31:55.185858Z",
     "iopub.status.busy": "2021-07-08T06:31:55.183826Z",
     "iopub.status.idle": "2021-07-08T06:31:55.808432Z",
     "shell.execute_reply": "2021-07-08T06:31:55.806702Z"
    },
    "papermill": {
     "duration": 0.698239,
     "end_time": "2021-07-08T06:31:55.808600",
     "exception": false,
     "start_time": "2021-07-08T06:31:55.110361",
     "status": "completed"
    },
    "tags": []
   },
   "outputs": [
    {
     "data": {
      "text/html": [
       "<table class=\"dataframe\">\n",
       "<caption>A data.frame: 1 × 1</caption>\n",
       "<thead>\n",
       "\t<tr><th scope=col>n</th></tr>\n",
       "\t<tr><th scope=col>&lt;int&gt;</th></tr>\n",
       "</thead>\n",
       "<tbody>\n",
       "\t<tr><td>716</td></tr>\n",
       "</tbody>\n",
       "</table>\n"
      ],
      "text/latex": [
       "A data.frame: 1 × 1\n",
       "\\begin{tabular}{l}\n",
       " n\\\\\n",
       " <int>\\\\\n",
       "\\hline\n",
       "\t 716\\\\\n",
       "\\end{tabular}\n"
      ],
      "text/markdown": [
       "\n",
       "A data.frame: 1 × 1\n",
       "\n",
       "| n &lt;int&gt; |\n",
       "|---|\n",
       "| 716 |\n",
       "\n"
      ],
      "text/plain": [
       "  n  \n",
       "1 716"
      ]
     },
     "metadata": {},
     "output_type": "display_data"
    },
    {
     "data": {
      "text/html": [
       "<table class=\"dataframe\">\n",
       "<caption>A data.frame: 1 × 1</caption>\n",
       "<thead>\n",
       "\t<tr><th scope=col>n</th></tr>\n",
       "\t<tr><th scope=col>&lt;int&gt;</th></tr>\n",
       "</thead>\n",
       "<tbody>\n",
       "\t<tr><td>716</td></tr>\n",
       "</tbody>\n",
       "</table>\n"
      ],
      "text/latex": [
       "A data.frame: 1 × 1\n",
       "\\begin{tabular}{l}\n",
       " n\\\\\n",
       " <int>\\\\\n",
       "\\hline\n",
       "\t 716\\\\\n",
       "\\end{tabular}\n"
      ],
      "text/markdown": [
       "\n",
       "A data.frame: 1 × 1\n",
       "\n",
       "| n &lt;int&gt; |\n",
       "|---|\n",
       "| 716 |\n",
       "\n"
      ],
      "text/plain": [
       "  n  \n",
       "1 716"
      ]
     },
     "metadata": {},
     "output_type": "display_data"
    }
   ],
   "source": [
    "count(unique(df_Divvy_C_V02[\"start_station_name\"]))\n",
    "#no applicable method for 'count' applied to an object of class \"character\"\n",
    "#count(unique(df_Divvy_C_V02[[\"start_station_name\"]]))\n",
    "count(unique(df_Divvy_C_V02[c(\"start_station_name\")]))\n",
    "#no applicable method for 'count' applied to an object of class \"character\"\n",
    "#count(unique(df_Divvy_C_V02[[c(\"start_station_name\")]]))\n",
    "#no applicable method for 'count' applied to an object of class \"character\"\n",
    "#count(unique(df_Divvy_C_V02$start_station_name))"
   ]
  },
  {
   "cell_type": "code",
   "execution_count": 21,
   "id": "8aafed45",
   "metadata": {
    "execution": {
     "iopub.execute_input": "2021-07-08T06:31:55.957999Z",
     "iopub.status.busy": "2021-07-08T06:31:55.957317Z",
     "iopub.status.idle": "2021-07-08T06:32:17.927299Z",
     "shell.execute_reply": "2021-07-08T06:32:17.925294Z"
    },
    "papermill": {
     "duration": 22.047585,
     "end_time": "2021-07-08T06:32:17.927537",
     "exception": false,
     "start_time": "2021-07-08T06:31:55.879952",
     "status": "completed"
    },
    "tags": []
   },
   "outputs": [
    {
     "data": {
      "text/html": [
       "<table class=\"dataframe\">\n",
       "<caption>A data.frame: 1 × 1</caption>\n",
       "<thead>\n",
       "\t<tr><th scope=col>n</th></tr>\n",
       "\t<tr><th scope=col>&lt;int&gt;</th></tr>\n",
       "</thead>\n",
       "<tbody>\n",
       "\t<tr><td>275937</td></tr>\n",
       "</tbody>\n",
       "</table>\n"
      ],
      "text/latex": [
       "A data.frame: 1 × 1\n",
       "\\begin{tabular}{l}\n",
       " n\\\\\n",
       " <int>\\\\\n",
       "\\hline\n",
       "\t 275937\\\\\n",
       "\\end{tabular}\n"
      ],
      "text/markdown": [
       "\n",
       "A data.frame: 1 × 1\n",
       "\n",
       "| n &lt;int&gt; |\n",
       "|---|\n",
       "| 275937 |\n",
       "\n"
      ],
      "text/plain": [
       "  n     \n",
       "1 275937"
      ]
     },
     "metadata": {},
     "output_type": "display_data"
    },
    {
     "data": {
      "text/html": [
       "<table class=\"dataframe\">\n",
       "<caption>A data.frame: 275937 × 2</caption>\n",
       "<thead>\n",
       "\t<tr><th></th><th scope=col>start_lat</th><th scope=col>start_lng</th></tr>\n",
       "\t<tr><th></th><th scope=col>&lt;dbl&gt;</th><th scope=col>&lt;dbl&gt;</th></tr>\n",
       "</thead>\n",
       "<tbody>\n",
       "\t<tr><th scope=row>1</th><td>41.94018</td><td>-87.65304</td></tr>\n",
       "\t<tr><th scope=row>2</th><td>41.87208</td><td>-87.62954</td></tr>\n",
       "\t<tr><th scope=row>3</th><td>41.88424</td><td>-87.62963</td></tr>\n",
       "\t<tr><th scope=row>4</th><td>41.94553</td><td>-87.64644</td></tr>\n",
       "\t<tr><th scope=row>5</th><td>41.92154</td><td>-87.65382</td></tr>\n",
       "\t<tr><th scope=row>8</th><td>41.93627</td><td>-87.65266</td></tr>\n",
       "\t<tr><th scope=row>9</th><td>41.85761</td><td>-87.61941</td></tr>\n",
       "\t<tr><th scope=row>10</th><td>41.89158</td><td>-87.64838</td></tr>\n",
       "\t<tr><th scope=row>11</th><td>41.86915</td><td>-87.67105</td></tr>\n",
       "\t<tr><th scope=row>12</th><td>41.91994</td><td>-87.64883</td></tr>\n",
       "\t<tr><th scope=row>14</th><td>41.91197</td><td>-87.63194</td></tr>\n",
       "\t<tr><th scope=row>15</th><td>41.98404</td><td>-87.65231</td></tr>\n",
       "\t<tr><th scope=row>17</th><td>41.83473</td><td>-87.62581</td></tr>\n",
       "\t<tr><th scope=row>18</th><td>41.89057</td><td>-87.62207</td></tr>\n",
       "\t<tr><th scope=row>19</th><td>41.94078</td><td>-87.63919</td></tr>\n",
       "\t<tr><th scope=row>20</th><td>41.96398</td><td>-87.63818</td></tr>\n",
       "\t<tr><th scope=row>21</th><td>41.89228</td><td>-87.61204</td></tr>\n",
       "\t<tr><th scope=row>22</th><td>41.93132</td><td>-87.63874</td></tr>\n",
       "\t<tr><th scope=row>23</th><td>41.92586</td><td>-87.63897</td></tr>\n",
       "\t<tr><th scope=row>24</th><td>41.89399</td><td>-87.62932</td></tr>\n",
       "\t<tr><th scope=row>25</th><td>41.94907</td><td>-87.64864</td></tr>\n",
       "\t<tr><th scope=row>26</th><td>41.94987</td><td>-87.64606</td></tr>\n",
       "\t<tr><th scope=row>28</th><td>41.93125</td><td>-87.64434</td></tr>\n",
       "\t<tr><th scope=row>31</th><td>41.95078</td><td>-87.65917</td></tr>\n",
       "\t<tr><th scope=row>32</th><td>41.96522</td><td>-87.65814</td></tr>\n",
       "\t<tr><th scope=row>33</th><td>41.89107</td><td>-87.66661</td></tr>\n",
       "\t<tr><th scope=row>34</th><td>42.04821</td><td>-87.68349</td></tr>\n",
       "\t<tr><th scope=row>35</th><td>41.86897</td><td>-87.65914</td></tr>\n",
       "\t<tr><th scope=row>36</th><td>41.85262</td><td>-87.62649</td></tr>\n",
       "\t<tr><th scope=row>37</th><td>41.86406</td><td>-87.62373</td></tr>\n",
       "\t<tr><th scope=row>⋮</th><td>⋮</td><td>⋮</td></tr>\n",
       "\t<tr><th scope=row>4073275</th><td>41.92405</td><td>-87.63580</td></tr>\n",
       "\t<tr><th scope=row>4073276</th><td>41.95419</td><td>-87.68608</td></tr>\n",
       "\t<tr><th scope=row>4073286</th><td>41.92414</td><td>-87.63597</td></tr>\n",
       "\t<tr><th scope=row>4073290</th><td>41.86122</td><td>-87.65641</td></tr>\n",
       "\t<tr><th scope=row>4073300</th><td>41.87407</td><td>-87.62759</td></tr>\n",
       "\t<tr><th scope=row>4073310</th><td>41.87392</td><td>-87.62751</td></tr>\n",
       "\t<tr><th scope=row>4073311</th><td>41.92404</td><td>-87.63586</td></tr>\n",
       "\t<tr><th scope=row>4073312</th><td>41.87395</td><td>-87.62756</td></tr>\n",
       "\t<tr><th scope=row>4073320</th><td>41.86124</td><td>-87.65635</td></tr>\n",
       "\t<tr><th scope=row>4073321</th><td>41.96330</td><td>-87.67924</td></tr>\n",
       "\t<tr><th scope=row>4073341</th><td>41.86121</td><td>-87.65655</td></tr>\n",
       "\t<tr><th scope=row>4073344</th><td>41.96322</td><td>-87.67929</td></tr>\n",
       "\t<tr><th scope=row>4073360</th><td>41.87405</td><td>-87.62751</td></tr>\n",
       "\t<tr><th scope=row>4073363</th><td>41.86126</td><td>-87.65650</td></tr>\n",
       "\t<tr><th scope=row>4073377</th><td>41.95432</td><td>-87.68604</td></tr>\n",
       "\t<tr><th scope=row>4073381</th><td>41.68700</td><td>-87.62117</td></tr>\n",
       "\t<tr><th scope=row>4073389</th><td>41.86132</td><td>-87.65644</td></tr>\n",
       "\t<tr><th scope=row>4073408</th><td>41.87375</td><td>-87.62760</td></tr>\n",
       "\t<tr><th scope=row>4073412</th><td>41.86126</td><td>-87.65654</td></tr>\n",
       "\t<tr><th scope=row>4073446</th><td>41.89472</td><td>-87.63821</td></tr>\n",
       "\t<tr><th scope=row>4073449</th><td>41.85832</td><td>-87.65648</td></tr>\n",
       "\t<tr><th scope=row>4073462</th><td>41.88280</td><td>-87.66125</td></tr>\n",
       "\t<tr><th scope=row>4073465</th><td>41.88284</td><td>-87.66109</td></tr>\n",
       "\t<tr><th scope=row>4073502</th><td>41.87411</td><td>-87.62741</td></tr>\n",
       "\t<tr><th scope=row>4073508</th><td>41.96325</td><td>-87.67918</td></tr>\n",
       "\t<tr><th scope=row>4073520</th><td>41.96167</td><td>-87.65470</td></tr>\n",
       "\t<tr><th scope=row>4073523</th><td>41.91179</td><td>-87.63215</td></tr>\n",
       "\t<tr><th scope=row>4073543</th><td>41.80251</td><td>-87.59018</td></tr>\n",
       "\t<tr><th scope=row>4073555</th><td>41.96166</td><td>-87.65470</td></tr>\n",
       "\t<tr><th scope=row>4073560</th><td>41.96165</td><td>-87.65472</td></tr>\n",
       "</tbody>\n",
       "</table>\n"
      ],
      "text/latex": [
       "A data.frame: 275937 × 2\n",
       "\\begin{tabular}{r|ll}\n",
       "  & start\\_lat & start\\_lng\\\\\n",
       "  & <dbl> & <dbl>\\\\\n",
       "\\hline\n",
       "\t1 & 41.94018 & -87.65304\\\\\n",
       "\t2 & 41.87208 & -87.62954\\\\\n",
       "\t3 & 41.88424 & -87.62963\\\\\n",
       "\t4 & 41.94553 & -87.64644\\\\\n",
       "\t5 & 41.92154 & -87.65382\\\\\n",
       "\t8 & 41.93627 & -87.65266\\\\\n",
       "\t9 & 41.85761 & -87.61941\\\\\n",
       "\t10 & 41.89158 & -87.64838\\\\\n",
       "\t11 & 41.86915 & -87.67105\\\\\n",
       "\t12 & 41.91994 & -87.64883\\\\\n",
       "\t14 & 41.91197 & -87.63194\\\\\n",
       "\t15 & 41.98404 & -87.65231\\\\\n",
       "\t17 & 41.83473 & -87.62581\\\\\n",
       "\t18 & 41.89057 & -87.62207\\\\\n",
       "\t19 & 41.94078 & -87.63919\\\\\n",
       "\t20 & 41.96398 & -87.63818\\\\\n",
       "\t21 & 41.89228 & -87.61204\\\\\n",
       "\t22 & 41.93132 & -87.63874\\\\\n",
       "\t23 & 41.92586 & -87.63897\\\\\n",
       "\t24 & 41.89399 & -87.62932\\\\\n",
       "\t25 & 41.94907 & -87.64864\\\\\n",
       "\t26 & 41.94987 & -87.64606\\\\\n",
       "\t28 & 41.93125 & -87.64434\\\\\n",
       "\t31 & 41.95078 & -87.65917\\\\\n",
       "\t32 & 41.96522 & -87.65814\\\\\n",
       "\t33 & 41.89107 & -87.66661\\\\\n",
       "\t34 & 42.04821 & -87.68349\\\\\n",
       "\t35 & 41.86897 & -87.65914\\\\\n",
       "\t36 & 41.85262 & -87.62649\\\\\n",
       "\t37 & 41.86406 & -87.62373\\\\\n",
       "\t⋮ & ⋮ & ⋮\\\\\n",
       "\t4073275 & 41.92405 & -87.63580\\\\\n",
       "\t4073276 & 41.95419 & -87.68608\\\\\n",
       "\t4073286 & 41.92414 & -87.63597\\\\\n",
       "\t4073290 & 41.86122 & -87.65641\\\\\n",
       "\t4073300 & 41.87407 & -87.62759\\\\\n",
       "\t4073310 & 41.87392 & -87.62751\\\\\n",
       "\t4073311 & 41.92404 & -87.63586\\\\\n",
       "\t4073312 & 41.87395 & -87.62756\\\\\n",
       "\t4073320 & 41.86124 & -87.65635\\\\\n",
       "\t4073321 & 41.96330 & -87.67924\\\\\n",
       "\t4073341 & 41.86121 & -87.65655\\\\\n",
       "\t4073344 & 41.96322 & -87.67929\\\\\n",
       "\t4073360 & 41.87405 & -87.62751\\\\\n",
       "\t4073363 & 41.86126 & -87.65650\\\\\n",
       "\t4073377 & 41.95432 & -87.68604\\\\\n",
       "\t4073381 & 41.68700 & -87.62117\\\\\n",
       "\t4073389 & 41.86132 & -87.65644\\\\\n",
       "\t4073408 & 41.87375 & -87.62760\\\\\n",
       "\t4073412 & 41.86126 & -87.65654\\\\\n",
       "\t4073446 & 41.89472 & -87.63821\\\\\n",
       "\t4073449 & 41.85832 & -87.65648\\\\\n",
       "\t4073462 & 41.88280 & -87.66125\\\\\n",
       "\t4073465 & 41.88284 & -87.66109\\\\\n",
       "\t4073502 & 41.87411 & -87.62741\\\\\n",
       "\t4073508 & 41.96325 & -87.67918\\\\\n",
       "\t4073520 & 41.96167 & -87.65470\\\\\n",
       "\t4073523 & 41.91179 & -87.63215\\\\\n",
       "\t4073543 & 41.80251 & -87.59018\\\\\n",
       "\t4073555 & 41.96166 & -87.65470\\\\\n",
       "\t4073560 & 41.96165 & -87.65472\\\\\n",
       "\\end{tabular}\n"
      ],
      "text/markdown": [
       "\n",
       "A data.frame: 275937 × 2\n",
       "\n",
       "| <!--/--> | start_lat &lt;dbl&gt; | start_lng &lt;dbl&gt; |\n",
       "|---|---|---|\n",
       "| 1 | 41.94018 | -87.65304 |\n",
       "| 2 | 41.87208 | -87.62954 |\n",
       "| 3 | 41.88424 | -87.62963 |\n",
       "| 4 | 41.94553 | -87.64644 |\n",
       "| 5 | 41.92154 | -87.65382 |\n",
       "| 8 | 41.93627 | -87.65266 |\n",
       "| 9 | 41.85761 | -87.61941 |\n",
       "| 10 | 41.89158 | -87.64838 |\n",
       "| 11 | 41.86915 | -87.67105 |\n",
       "| 12 | 41.91994 | -87.64883 |\n",
       "| 14 | 41.91197 | -87.63194 |\n",
       "| 15 | 41.98404 | -87.65231 |\n",
       "| 17 | 41.83473 | -87.62581 |\n",
       "| 18 | 41.89057 | -87.62207 |\n",
       "| 19 | 41.94078 | -87.63919 |\n",
       "| 20 | 41.96398 | -87.63818 |\n",
       "| 21 | 41.89228 | -87.61204 |\n",
       "| 22 | 41.93132 | -87.63874 |\n",
       "| 23 | 41.92586 | -87.63897 |\n",
       "| 24 | 41.89399 | -87.62932 |\n",
       "| 25 | 41.94907 | -87.64864 |\n",
       "| 26 | 41.94987 | -87.64606 |\n",
       "| 28 | 41.93125 | -87.64434 |\n",
       "| 31 | 41.95078 | -87.65917 |\n",
       "| 32 | 41.96522 | -87.65814 |\n",
       "| 33 | 41.89107 | -87.66661 |\n",
       "| 34 | 42.04821 | -87.68349 |\n",
       "| 35 | 41.86897 | -87.65914 |\n",
       "| 36 | 41.85262 | -87.62649 |\n",
       "| 37 | 41.86406 | -87.62373 |\n",
       "| ⋮ | ⋮ | ⋮ |\n",
       "| 4073275 | 41.92405 | -87.63580 |\n",
       "| 4073276 | 41.95419 | -87.68608 |\n",
       "| 4073286 | 41.92414 | -87.63597 |\n",
       "| 4073290 | 41.86122 | -87.65641 |\n",
       "| 4073300 | 41.87407 | -87.62759 |\n",
       "| 4073310 | 41.87392 | -87.62751 |\n",
       "| 4073311 | 41.92404 | -87.63586 |\n",
       "| 4073312 | 41.87395 | -87.62756 |\n",
       "| 4073320 | 41.86124 | -87.65635 |\n",
       "| 4073321 | 41.96330 | -87.67924 |\n",
       "| 4073341 | 41.86121 | -87.65655 |\n",
       "| 4073344 | 41.96322 | -87.67929 |\n",
       "| 4073360 | 41.87405 | -87.62751 |\n",
       "| 4073363 | 41.86126 | -87.65650 |\n",
       "| 4073377 | 41.95432 | -87.68604 |\n",
       "| 4073381 | 41.68700 | -87.62117 |\n",
       "| 4073389 | 41.86132 | -87.65644 |\n",
       "| 4073408 | 41.87375 | -87.62760 |\n",
       "| 4073412 | 41.86126 | -87.65654 |\n",
       "| 4073446 | 41.89472 | -87.63821 |\n",
       "| 4073449 | 41.85832 | -87.65648 |\n",
       "| 4073462 | 41.88280 | -87.66125 |\n",
       "| 4073465 | 41.88284 | -87.66109 |\n",
       "| 4073502 | 41.87411 | -87.62741 |\n",
       "| 4073508 | 41.96325 | -87.67918 |\n",
       "| 4073520 | 41.96167 | -87.65470 |\n",
       "| 4073523 | 41.91179 | -87.63215 |\n",
       "| 4073543 | 41.80251 | -87.59018 |\n",
       "| 4073555 | 41.96166 | -87.65470 |\n",
       "| 4073560 | 41.96165 | -87.65472 |\n",
       "\n"
      ],
      "text/plain": [
       "        start_lat start_lng\n",
       "1       41.94018  -87.65304\n",
       "2       41.87208  -87.62954\n",
       "3       41.88424  -87.62963\n",
       "4       41.94553  -87.64644\n",
       "5       41.92154  -87.65382\n",
       "8       41.93627  -87.65266\n",
       "9       41.85761  -87.61941\n",
       "10      41.89158  -87.64838\n",
       "11      41.86915  -87.67105\n",
       "12      41.91994  -87.64883\n",
       "14      41.91197  -87.63194\n",
       "15      41.98404  -87.65231\n",
       "17      41.83473  -87.62581\n",
       "18      41.89057  -87.62207\n",
       "19      41.94078  -87.63919\n",
       "20      41.96398  -87.63818\n",
       "21      41.89228  -87.61204\n",
       "22      41.93132  -87.63874\n",
       "23      41.92586  -87.63897\n",
       "24      41.89399  -87.62932\n",
       "25      41.94907  -87.64864\n",
       "26      41.94987  -87.64606\n",
       "28      41.93125  -87.64434\n",
       "31      41.95078  -87.65917\n",
       "32      41.96522  -87.65814\n",
       "33      41.89107  -87.66661\n",
       "34      42.04821  -87.68349\n",
       "35      41.86897  -87.65914\n",
       "36      41.85262  -87.62649\n",
       "37      41.86406  -87.62373\n",
       "⋮       ⋮         ⋮        \n",
       "4073275 41.92405  -87.63580\n",
       "4073276 41.95419  -87.68608\n",
       "4073286 41.92414  -87.63597\n",
       "4073290 41.86122  -87.65641\n",
       "4073300 41.87407  -87.62759\n",
       "4073310 41.87392  -87.62751\n",
       "4073311 41.92404  -87.63586\n",
       "4073312 41.87395  -87.62756\n",
       "4073320 41.86124  -87.65635\n",
       "4073321 41.96330  -87.67924\n",
       "4073341 41.86121  -87.65655\n",
       "4073344 41.96322  -87.67929\n",
       "4073360 41.87405  -87.62751\n",
       "4073363 41.86126  -87.65650\n",
       "4073377 41.95432  -87.68604\n",
       "4073381 41.68700  -87.62117\n",
       "4073389 41.86132  -87.65644\n",
       "4073408 41.87375  -87.62760\n",
       "4073412 41.86126  -87.65654\n",
       "4073446 41.89472  -87.63821\n",
       "4073449 41.85832  -87.65648\n",
       "4073462 41.88280  -87.66125\n",
       "4073465 41.88284  -87.66109\n",
       "4073502 41.87411  -87.62741\n",
       "4073508 41.96325  -87.67918\n",
       "4073520 41.96167  -87.65470\n",
       "4073523 41.91179  -87.63215\n",
       "4073543 41.80251  -87.59018\n",
       "4073555 41.96166  -87.65470\n",
       "4073560 41.96165  -87.65472"
      ]
     },
     "metadata": {},
     "output_type": "display_data"
    }
   ],
   "source": [
    "count(unique(df_Divvy_C_V02[c(\"start_lat\",\"start_lng\")]))\n",
    "unique(df_Divvy_C_V02[c(\"start_lat\",\"start_lng\")])"
   ]
  },
  {
   "cell_type": "code",
   "execution_count": 22,
   "id": "3b3697f7",
   "metadata": {
    "execution": {
     "iopub.execute_input": "2021-07-08T06:32:18.080632Z",
     "iopub.status.busy": "2021-07-08T06:32:18.078685Z",
     "iopub.status.idle": "2021-07-08T06:32:18.094928Z",
     "shell.execute_reply": "2021-07-08T06:32:18.093473Z"
    },
    "papermill": {
     "duration": 0.094271,
     "end_time": "2021-07-08T06:32:18.095145",
     "exception": false,
     "start_time": "2021-07-08T06:32:18.000874",
     "status": "completed"
    },
    "tags": []
   },
   "outputs": [],
   "source": [
    "specify_decimal <- function(x, k) trimws(format(round(x, k), nsmall=k))"
   ]
  },
  {
   "cell_type": "code",
   "execution_count": 23,
   "id": "98dfb4bd",
   "metadata": {
    "execution": {
     "iopub.execute_input": "2021-07-08T06:32:18.245303Z",
     "iopub.status.busy": "2021-07-08T06:32:18.243563Z",
     "iopub.status.idle": "2021-07-08T06:32:45.629671Z",
     "shell.execute_reply": "2021-07-08T06:32:45.627863Z"
    },
    "papermill": {
     "duration": 27.462664,
     "end_time": "2021-07-08T06:32:45.629930",
     "exception": false,
     "start_time": "2021-07-08T06:32:18.167266",
     "status": "completed"
    },
    "tags": []
   },
   "outputs": [],
   "source": [
    "df_Divvy_C_V03 <- df_Divvy_C_V02\n",
    "df_Divvy_C_V03[[\"start_lat\"]] <- specify_decimal(df_Divvy_C_V02[[\"start_lat\"]],3)\n",
    "df_Divvy_C_V03[[\"start_lng\"]] <- specify_decimal(df_Divvy_C_V02[[\"start_lng\"]],3)\n",
    "df_Divvy_C_V03[[\"end_lat\"]] <- specify_decimal(df_Divvy_C_V02[[\"end_lat\"]],3)\n",
    "df_Divvy_C_V03[[\"end_lng\"]] <- specify_decimal(df_Divvy_C_V02[[\"end_lng\"]],3)"
   ]
  },
  {
   "cell_type": "code",
   "execution_count": 24,
   "id": "37b82eb0",
   "metadata": {
    "execution": {
     "iopub.execute_input": "2021-07-08T06:32:45.780628Z",
     "iopub.status.busy": "2021-07-08T06:32:45.779017Z",
     "iopub.status.idle": "2021-07-08T06:32:59.898398Z",
     "shell.execute_reply": "2021-07-08T06:32:59.896445Z"
    },
    "papermill": {
     "duration": 14.196478,
     "end_time": "2021-07-08T06:32:59.898751",
     "exception": false,
     "start_time": "2021-07-08T06:32:45.702273",
     "status": "completed"
    },
    "tags": []
   },
   "outputs": [
    {
     "data": {
      "text/html": [
       "<table class=\"dataframe\">\n",
       "<caption>A data.frame: 1 × 1</caption>\n",
       "<thead>\n",
       "\t<tr><th scope=col>n</th></tr>\n",
       "\t<tr><th scope=col>&lt;int&gt;</th></tr>\n",
       "</thead>\n",
       "<tbody>\n",
       "\t<tr><td>2190</td></tr>\n",
       "</tbody>\n",
       "</table>\n"
      ],
      "text/latex": [
       "A data.frame: 1 × 1\n",
       "\\begin{tabular}{l}\n",
       " n\\\\\n",
       " <int>\\\\\n",
       "\\hline\n",
       "\t 2190\\\\\n",
       "\\end{tabular}\n"
      ],
      "text/markdown": [
       "\n",
       "A data.frame: 1 × 1\n",
       "\n",
       "| n &lt;int&gt; |\n",
       "|---|\n",
       "| 2190 |\n",
       "\n"
      ],
      "text/plain": [
       "  n   \n",
       "1 2190"
      ]
     },
     "metadata": {},
     "output_type": "display_data"
    },
    {
     "data": {
      "text/html": [
       "<table class=\"dataframe\">\n",
       "<caption>A data.frame: 2190 × 2</caption>\n",
       "<thead>\n",
       "\t<tr><th></th><th scope=col>start_lat</th><th scope=col>start_lng</th></tr>\n",
       "\t<tr><th></th><th scope=col>&lt;chr&gt;</th><th scope=col>&lt;chr&gt;</th></tr>\n",
       "</thead>\n",
       "<tbody>\n",
       "\t<tr><th scope=row>1</th><td>41.940</td><td>-87.653</td></tr>\n",
       "\t<tr><th scope=row>2</th><td>41.872</td><td>-87.630</td></tr>\n",
       "\t<tr><th scope=row>3</th><td>41.884</td><td>-87.630</td></tr>\n",
       "\t<tr><th scope=row>4</th><td>41.946</td><td>-87.646</td></tr>\n",
       "\t<tr><th scope=row>5</th><td>41.922</td><td>-87.654</td></tr>\n",
       "\t<tr><th scope=row>8</th><td>41.936</td><td>-87.653</td></tr>\n",
       "\t<tr><th scope=row>9</th><td>41.858</td><td>-87.619</td></tr>\n",
       "\t<tr><th scope=row>10</th><td>41.892</td><td>-87.648</td></tr>\n",
       "\t<tr><th scope=row>11</th><td>41.869</td><td>-87.671</td></tr>\n",
       "\t<tr><th scope=row>12</th><td>41.920</td><td>-87.649</td></tr>\n",
       "\t<tr><th scope=row>14</th><td>41.912</td><td>-87.632</td></tr>\n",
       "\t<tr><th scope=row>15</th><td>41.984</td><td>-87.652</td></tr>\n",
       "\t<tr><th scope=row>17</th><td>41.835</td><td>-87.626</td></tr>\n",
       "\t<tr><th scope=row>18</th><td>41.891</td><td>-87.622</td></tr>\n",
       "\t<tr><th scope=row>19</th><td>41.941</td><td>-87.639</td></tr>\n",
       "\t<tr><th scope=row>20</th><td>41.964</td><td>-87.638</td></tr>\n",
       "\t<tr><th scope=row>21</th><td>41.892</td><td>-87.612</td></tr>\n",
       "\t<tr><th scope=row>22</th><td>41.931</td><td>-87.639</td></tr>\n",
       "\t<tr><th scope=row>23</th><td>41.926</td><td>-87.639</td></tr>\n",
       "\t<tr><th scope=row>24</th><td>41.894</td><td>-87.629</td></tr>\n",
       "\t<tr><th scope=row>25</th><td>41.949</td><td>-87.649</td></tr>\n",
       "\t<tr><th scope=row>26</th><td>41.950</td><td>-87.646</td></tr>\n",
       "\t<tr><th scope=row>28</th><td>41.931</td><td>-87.644</td></tr>\n",
       "\t<tr><th scope=row>31</th><td>41.951</td><td>-87.659</td></tr>\n",
       "\t<tr><th scope=row>32</th><td>41.965</td><td>-87.658</td></tr>\n",
       "\t<tr><th scope=row>33</th><td>41.891</td><td>-87.667</td></tr>\n",
       "\t<tr><th scope=row>34</th><td>42.048</td><td>-87.683</td></tr>\n",
       "\t<tr><th scope=row>35</th><td>41.869</td><td>-87.659</td></tr>\n",
       "\t<tr><th scope=row>36</th><td>41.853</td><td>-87.626</td></tr>\n",
       "\t<tr><th scope=row>37</th><td>41.864</td><td>-87.624</td></tr>\n",
       "\t<tr><th scope=row>⋮</th><td>⋮</td><td>⋮</td></tr>\n",
       "\t<tr><th scope=row>3810475</th><td>41.872</td><td>-87.669</td></tr>\n",
       "\t<tr><th scope=row>3817451</th><td>41.895</td><td>-87.642</td></tr>\n",
       "\t<tr><th scope=row>3821042</th><td>41.898</td><td>-87.625</td></tr>\n",
       "\t<tr><th scope=row>3824718</th><td>41.874</td><td>-87.670</td></tr>\n",
       "\t<tr><th scope=row>3840278</th><td>41.911</td><td>-87.626</td></tr>\n",
       "\t<tr><th scope=row>3843829</th><td>41.930</td><td>-87.644</td></tr>\n",
       "\t<tr><th scope=row>3865841</th><td>41.893</td><td>-87.642</td></tr>\n",
       "\t<tr><th scope=row>3873776</th><td>41.875</td><td>-87.636</td></tr>\n",
       "\t<tr><th scope=row>3887808</th><td>41.855</td><td>-87.612</td></tr>\n",
       "\t<tr><th scope=row>3904868</th><td>41.899</td><td>-87.643</td></tr>\n",
       "\t<tr><th scope=row>3905057</th><td>41.893</td><td>-87.627</td></tr>\n",
       "\t<tr><th scope=row>3905085</th><td>41.871</td><td>-87.623</td></tr>\n",
       "\t<tr><th scope=row>3910549</th><td>41.954</td><td>-87.649</td></tr>\n",
       "\t<tr><th scope=row>3911659</th><td>41.911</td><td>-87.627</td></tr>\n",
       "\t<tr><th scope=row>3916889</th><td>41.947</td><td>-87.740</td></tr>\n",
       "\t<tr><th scope=row>3929691</th><td>41.893</td><td>-87.618</td></tr>\n",
       "\t<tr><th scope=row>3953478</th><td>41.876</td><td>-87.633</td></tr>\n",
       "\t<tr><th scope=row>3999534</th><td>41.891</td><td>-87.637</td></tr>\n",
       "\t<tr><th scope=row>4002400</th><td>41.831</td><td>-87.657</td></tr>\n",
       "\t<tr><th scope=row>4018069</th><td>41.885</td><td>-87.638</td></tr>\n",
       "\t<tr><th scope=row>4033935</th><td>41.938</td><td>-87.645</td></tr>\n",
       "\t<tr><th scope=row>4042624</th><td>41.700</td><td>-87.720</td></tr>\n",
       "\t<tr><th scope=row>4050606</th><td>41.690</td><td>-87.710</td></tr>\n",
       "\t<tr><th scope=row>4052873</th><td>41.874</td><td>-87.668</td></tr>\n",
       "\t<tr><th scope=row>4053556</th><td>41.799</td><td>-87.594</td></tr>\n",
       "\t<tr><th scope=row>4054594</th><td>41.660</td><td>-87.680</td></tr>\n",
       "\t<tr><th scope=row>4069413</th><td>41.650</td><td>-87.590</td></tr>\n",
       "\t<tr><th scope=row>4071404</th><td>41.729</td><td>-87.609</td></tr>\n",
       "\t<tr><th scope=row>4071474</th><td>41.945</td><td>-87.672</td></tr>\n",
       "\t<tr><th scope=row>4072457</th><td>41.976</td><td>-87.710</td></tr>\n",
       "</tbody>\n",
       "</table>\n"
      ],
      "text/latex": [
       "A data.frame: 2190 × 2\n",
       "\\begin{tabular}{r|ll}\n",
       "  & start\\_lat & start\\_lng\\\\\n",
       "  & <chr> & <chr>\\\\\n",
       "\\hline\n",
       "\t1 & 41.940 & -87.653\\\\\n",
       "\t2 & 41.872 & -87.630\\\\\n",
       "\t3 & 41.884 & -87.630\\\\\n",
       "\t4 & 41.946 & -87.646\\\\\n",
       "\t5 & 41.922 & -87.654\\\\\n",
       "\t8 & 41.936 & -87.653\\\\\n",
       "\t9 & 41.858 & -87.619\\\\\n",
       "\t10 & 41.892 & -87.648\\\\\n",
       "\t11 & 41.869 & -87.671\\\\\n",
       "\t12 & 41.920 & -87.649\\\\\n",
       "\t14 & 41.912 & -87.632\\\\\n",
       "\t15 & 41.984 & -87.652\\\\\n",
       "\t17 & 41.835 & -87.626\\\\\n",
       "\t18 & 41.891 & -87.622\\\\\n",
       "\t19 & 41.941 & -87.639\\\\\n",
       "\t20 & 41.964 & -87.638\\\\\n",
       "\t21 & 41.892 & -87.612\\\\\n",
       "\t22 & 41.931 & -87.639\\\\\n",
       "\t23 & 41.926 & -87.639\\\\\n",
       "\t24 & 41.894 & -87.629\\\\\n",
       "\t25 & 41.949 & -87.649\\\\\n",
       "\t26 & 41.950 & -87.646\\\\\n",
       "\t28 & 41.931 & -87.644\\\\\n",
       "\t31 & 41.951 & -87.659\\\\\n",
       "\t32 & 41.965 & -87.658\\\\\n",
       "\t33 & 41.891 & -87.667\\\\\n",
       "\t34 & 42.048 & -87.683\\\\\n",
       "\t35 & 41.869 & -87.659\\\\\n",
       "\t36 & 41.853 & -87.626\\\\\n",
       "\t37 & 41.864 & -87.624\\\\\n",
       "\t⋮ & ⋮ & ⋮\\\\\n",
       "\t3810475 & 41.872 & -87.669\\\\\n",
       "\t3817451 & 41.895 & -87.642\\\\\n",
       "\t3821042 & 41.898 & -87.625\\\\\n",
       "\t3824718 & 41.874 & -87.670\\\\\n",
       "\t3840278 & 41.911 & -87.626\\\\\n",
       "\t3843829 & 41.930 & -87.644\\\\\n",
       "\t3865841 & 41.893 & -87.642\\\\\n",
       "\t3873776 & 41.875 & -87.636\\\\\n",
       "\t3887808 & 41.855 & -87.612\\\\\n",
       "\t3904868 & 41.899 & -87.643\\\\\n",
       "\t3905057 & 41.893 & -87.627\\\\\n",
       "\t3905085 & 41.871 & -87.623\\\\\n",
       "\t3910549 & 41.954 & -87.649\\\\\n",
       "\t3911659 & 41.911 & -87.627\\\\\n",
       "\t3916889 & 41.947 & -87.740\\\\\n",
       "\t3929691 & 41.893 & -87.618\\\\\n",
       "\t3953478 & 41.876 & -87.633\\\\\n",
       "\t3999534 & 41.891 & -87.637\\\\\n",
       "\t4002400 & 41.831 & -87.657\\\\\n",
       "\t4018069 & 41.885 & -87.638\\\\\n",
       "\t4033935 & 41.938 & -87.645\\\\\n",
       "\t4042624 & 41.700 & -87.720\\\\\n",
       "\t4050606 & 41.690 & -87.710\\\\\n",
       "\t4052873 & 41.874 & -87.668\\\\\n",
       "\t4053556 & 41.799 & -87.594\\\\\n",
       "\t4054594 & 41.660 & -87.680\\\\\n",
       "\t4069413 & 41.650 & -87.590\\\\\n",
       "\t4071404 & 41.729 & -87.609\\\\\n",
       "\t4071474 & 41.945 & -87.672\\\\\n",
       "\t4072457 & 41.976 & -87.710\\\\\n",
       "\\end{tabular}\n"
      ],
      "text/markdown": [
       "\n",
       "A data.frame: 2190 × 2\n",
       "\n",
       "| <!--/--> | start_lat &lt;chr&gt; | start_lng &lt;chr&gt; |\n",
       "|---|---|---|\n",
       "| 1 | 41.940 | -87.653 |\n",
       "| 2 | 41.872 | -87.630 |\n",
       "| 3 | 41.884 | -87.630 |\n",
       "| 4 | 41.946 | -87.646 |\n",
       "| 5 | 41.922 | -87.654 |\n",
       "| 8 | 41.936 | -87.653 |\n",
       "| 9 | 41.858 | -87.619 |\n",
       "| 10 | 41.892 | -87.648 |\n",
       "| 11 | 41.869 | -87.671 |\n",
       "| 12 | 41.920 | -87.649 |\n",
       "| 14 | 41.912 | -87.632 |\n",
       "| 15 | 41.984 | -87.652 |\n",
       "| 17 | 41.835 | -87.626 |\n",
       "| 18 | 41.891 | -87.622 |\n",
       "| 19 | 41.941 | -87.639 |\n",
       "| 20 | 41.964 | -87.638 |\n",
       "| 21 | 41.892 | -87.612 |\n",
       "| 22 | 41.931 | -87.639 |\n",
       "| 23 | 41.926 | -87.639 |\n",
       "| 24 | 41.894 | -87.629 |\n",
       "| 25 | 41.949 | -87.649 |\n",
       "| 26 | 41.950 | -87.646 |\n",
       "| 28 | 41.931 | -87.644 |\n",
       "| 31 | 41.951 | -87.659 |\n",
       "| 32 | 41.965 | -87.658 |\n",
       "| 33 | 41.891 | -87.667 |\n",
       "| 34 | 42.048 | -87.683 |\n",
       "| 35 | 41.869 | -87.659 |\n",
       "| 36 | 41.853 | -87.626 |\n",
       "| 37 | 41.864 | -87.624 |\n",
       "| ⋮ | ⋮ | ⋮ |\n",
       "| 3810475 | 41.872 | -87.669 |\n",
       "| 3817451 | 41.895 | -87.642 |\n",
       "| 3821042 | 41.898 | -87.625 |\n",
       "| 3824718 | 41.874 | -87.670 |\n",
       "| 3840278 | 41.911 | -87.626 |\n",
       "| 3843829 | 41.930 | -87.644 |\n",
       "| 3865841 | 41.893 | -87.642 |\n",
       "| 3873776 | 41.875 | -87.636 |\n",
       "| 3887808 | 41.855 | -87.612 |\n",
       "| 3904868 | 41.899 | -87.643 |\n",
       "| 3905057 | 41.893 | -87.627 |\n",
       "| 3905085 | 41.871 | -87.623 |\n",
       "| 3910549 | 41.954 | -87.649 |\n",
       "| 3911659 | 41.911 | -87.627 |\n",
       "| 3916889 | 41.947 | -87.740 |\n",
       "| 3929691 | 41.893 | -87.618 |\n",
       "| 3953478 | 41.876 | -87.633 |\n",
       "| 3999534 | 41.891 | -87.637 |\n",
       "| 4002400 | 41.831 | -87.657 |\n",
       "| 4018069 | 41.885 | -87.638 |\n",
       "| 4033935 | 41.938 | -87.645 |\n",
       "| 4042624 | 41.700 | -87.720 |\n",
       "| 4050606 | 41.690 | -87.710 |\n",
       "| 4052873 | 41.874 | -87.668 |\n",
       "| 4053556 | 41.799 | -87.594 |\n",
       "| 4054594 | 41.660 | -87.680 |\n",
       "| 4069413 | 41.650 | -87.590 |\n",
       "| 4071404 | 41.729 | -87.609 |\n",
       "| 4071474 | 41.945 | -87.672 |\n",
       "| 4072457 | 41.976 | -87.710 |\n",
       "\n"
      ],
      "text/plain": [
       "        start_lat start_lng\n",
       "1       41.940    -87.653  \n",
       "2       41.872    -87.630  \n",
       "3       41.884    -87.630  \n",
       "4       41.946    -87.646  \n",
       "5       41.922    -87.654  \n",
       "8       41.936    -87.653  \n",
       "9       41.858    -87.619  \n",
       "10      41.892    -87.648  \n",
       "11      41.869    -87.671  \n",
       "12      41.920    -87.649  \n",
       "14      41.912    -87.632  \n",
       "15      41.984    -87.652  \n",
       "17      41.835    -87.626  \n",
       "18      41.891    -87.622  \n",
       "19      41.941    -87.639  \n",
       "20      41.964    -87.638  \n",
       "21      41.892    -87.612  \n",
       "22      41.931    -87.639  \n",
       "23      41.926    -87.639  \n",
       "24      41.894    -87.629  \n",
       "25      41.949    -87.649  \n",
       "26      41.950    -87.646  \n",
       "28      41.931    -87.644  \n",
       "31      41.951    -87.659  \n",
       "32      41.965    -87.658  \n",
       "33      41.891    -87.667  \n",
       "34      42.048    -87.683  \n",
       "35      41.869    -87.659  \n",
       "36      41.853    -87.626  \n",
       "37      41.864    -87.624  \n",
       "⋮       ⋮         ⋮        \n",
       "3810475 41.872    -87.669  \n",
       "3817451 41.895    -87.642  \n",
       "3821042 41.898    -87.625  \n",
       "3824718 41.874    -87.670  \n",
       "3840278 41.911    -87.626  \n",
       "3843829 41.930    -87.644  \n",
       "3865841 41.893    -87.642  \n",
       "3873776 41.875    -87.636  \n",
       "3887808 41.855    -87.612  \n",
       "3904868 41.899    -87.643  \n",
       "3905057 41.893    -87.627  \n",
       "3905085 41.871    -87.623  \n",
       "3910549 41.954    -87.649  \n",
       "3911659 41.911    -87.627  \n",
       "3916889 41.947    -87.740  \n",
       "3929691 41.893    -87.618  \n",
       "3953478 41.876    -87.633  \n",
       "3999534 41.891    -87.637  \n",
       "4002400 41.831    -87.657  \n",
       "4018069 41.885    -87.638  \n",
       "4033935 41.938    -87.645  \n",
       "4042624 41.700    -87.720  \n",
       "4050606 41.690    -87.710  \n",
       "4052873 41.874    -87.668  \n",
       "4053556 41.799    -87.594  \n",
       "4054594 41.660    -87.680  \n",
       "4069413 41.650    -87.590  \n",
       "4071404 41.729    -87.609  \n",
       "4071474 41.945    -87.672  \n",
       "4072457 41.976    -87.710  "
      ]
     },
     "metadata": {},
     "output_type": "display_data"
    }
   ],
   "source": [
    "count(unique(df_Divvy_C_V03[c(\"start_lat\",\"start_lng\")]))\n",
    "unique(df_Divvy_C_V03[c(\"start_lat\",\"start_lng\")])"
   ]
  },
  {
   "cell_type": "code",
   "execution_count": 25,
   "id": "2e3b147b",
   "metadata": {
    "execution": {
     "iopub.execute_input": "2021-07-08T06:33:00.058402Z",
     "iopub.status.busy": "2021-07-08T06:33:00.056721Z",
     "iopub.status.idle": "2021-07-08T06:33:15.085782Z",
     "shell.execute_reply": "2021-07-08T06:33:15.083646Z"
    },
    "papermill": {
     "duration": 15.10777,
     "end_time": "2021-07-08T06:33:15.086024",
     "exception": false,
     "start_time": "2021-07-08T06:32:59.978254",
     "status": "completed"
    },
    "tags": []
   },
   "outputs": [
    {
     "data": {
      "text/html": [
       "<table class=\"dataframe\">\n",
       "<caption>A data.frame: 1 × 1</caption>\n",
       "<thead>\n",
       "\t<tr><th scope=col>n</th></tr>\n",
       "\t<tr><th scope=col>&lt;int&gt;</th></tr>\n",
       "</thead>\n",
       "<tbody>\n",
       "\t<tr><td>378</td></tr>\n",
       "</tbody>\n",
       "</table>\n"
      ],
      "text/latex": [
       "A data.frame: 1 × 1\n",
       "\\begin{tabular}{l}\n",
       " n\\\\\n",
       " <int>\\\\\n",
       "\\hline\n",
       "\t 378\\\\\n",
       "\\end{tabular}\n"
      ],
      "text/markdown": [
       "\n",
       "A data.frame: 1 × 1\n",
       "\n",
       "| n &lt;int&gt; |\n",
       "|---|\n",
       "| 378 |\n",
       "\n"
      ],
      "text/plain": [
       "  n  \n",
       "1 378"
      ]
     },
     "metadata": {},
     "output_type": "display_data"
    },
    {
     "data": {
      "text/html": [
       "<table class=\"dataframe\">\n",
       "<caption>A data.frame: 235 × 2</caption>\n",
       "<thead>\n",
       "\t<tr><th></th><th scope=col>end_lng</th><th scope=col>end_lng.1</th></tr>\n",
       "\t<tr><th></th><th scope=col>&lt;chr&gt;</th><th scope=col>&lt;chr&gt;</th></tr>\n",
       "</thead>\n",
       "<tbody>\n",
       "\t<tr><th scope=row>1</th><td>-87.678</td><td>-87.678</td></tr>\n",
       "\t<tr><th scope=row>2</th><td>-87.630</td><td>-87.630</td></tr>\n",
       "\t<tr><th scope=row>3</th><td>-87.628</td><td>-87.628</td></tr>\n",
       "\t<tr><th scope=row>4</th><td>-87.660</td><td>-87.660</td></tr>\n",
       "\t<tr><th scope=row>5</th><td>-87.653</td><td>-87.653</td></tr>\n",
       "\t<tr><th scope=row>8</th><td>-87.646</td><td>-87.646</td></tr>\n",
       "\t<tr><th scope=row>9</th><td>-87.635</td><td>-87.635</td></tr>\n",
       "\t<tr><th scope=row>10</th><td>-87.634</td><td>-87.634</td></tr>\n",
       "\t<tr><th scope=row>11</th><td>-87.624</td><td>-87.624</td></tr>\n",
       "\t<tr><th scope=row>12</th><td>-87.690</td><td>-87.690</td></tr>\n",
       "\t<tr><th scope=row>13</th><td>-87.639</td><td>-87.639</td></tr>\n",
       "\t<tr><th scope=row>14</th><td>-87.632</td><td>-87.632</td></tr>\n",
       "\t<tr><th scope=row>17</th><td>-87.626</td><td>-87.626</td></tr>\n",
       "\t<tr><th scope=row>18</th><td>-87.622</td><td>-87.622</td></tr>\n",
       "\t<tr><th scope=row>19</th><td>-87.638</td><td>-87.638</td></tr>\n",
       "\t<tr><th scope=row>24</th><td>-87.614</td><td>-87.614</td></tr>\n",
       "\t<tr><th scope=row>25</th><td>-87.649</td><td>-87.649</td></tr>\n",
       "\t<tr><th scope=row>28</th><td>-87.677</td><td>-87.677</td></tr>\n",
       "\t<tr><th scope=row>30</th><td>-87.618</td><td>-87.618</td></tr>\n",
       "\t<tr><th scope=row>32</th><td>-87.673</td><td>-87.673</td></tr>\n",
       "\t<tr><th scope=row>33</th><td>-87.657</td><td>-87.657</td></tr>\n",
       "\t<tr><th scope=row>34</th><td>-87.698</td><td>-87.698</td></tr>\n",
       "\t<tr><th scope=row>38</th><td>-87.619</td><td>-87.619</td></tr>\n",
       "\t<tr><th scope=row>39</th><td>-87.671</td><td>-87.671</td></tr>\n",
       "\t<tr><th scope=row>42</th><td>-87.644</td><td>-87.644</td></tr>\n",
       "\t<tr><th scope=row>43</th><td>-87.666</td><td>-87.666</td></tr>\n",
       "\t<tr><th scope=row>47</th><td>-87.670</td><td>-87.670</td></tr>\n",
       "\t<tr><th scope=row>50</th><td>-87.636</td><td>-87.636</td></tr>\n",
       "\t<tr><th scope=row>51</th><td>-87.643</td><td>-87.643</td></tr>\n",
       "\t<tr><th scope=row>53</th><td>-87.697</td><td>-87.697</td></tr>\n",
       "\t<tr><th scope=row>⋮</th><td>⋮</td><td>⋮</td></tr>\n",
       "\t<tr><th scope=row>1523209</th><td>-87.569</td><td>-87.569</td></tr>\n",
       "\t<tr><th scope=row>1540680</th><td>-87.528</td><td>-87.528</td></tr>\n",
       "\t<tr><th scope=row>1602169</th><td>-87.552</td><td>-87.552</td></tr>\n",
       "\t<tr><th scope=row>1602315</th><td>-87.520</td><td>-87.520</td></tr>\n",
       "\t<tr><th scope=row>1652321</th><td>-87.713</td><td>-87.713</td></tr>\n",
       "\t<tr><th scope=row>1881296</th><td>-87.539</td><td>-87.539</td></tr>\n",
       "\t<tr><th scope=row>1892936</th><td>-87.572</td><td>-87.572</td></tr>\n",
       "\t<tr><th scope=row>1988405</th><td>-87.603</td><td>-87.603</td></tr>\n",
       "\t<tr><th scope=row>2033880</th><td>-87.759</td><td>-87.759</td></tr>\n",
       "\t<tr><th scope=row>2038793</th><td>-87.538</td><td>-87.538</td></tr>\n",
       "\t<tr><th scope=row>2049063</th><td>-87.722</td><td>-87.722</td></tr>\n",
       "\t<tr><th scope=row>2064583</th><td>-87.582</td><td>-87.582</td></tr>\n",
       "\t<tr><th scope=row>2371882</th><td>-87.557</td><td>-87.557</td></tr>\n",
       "\t<tr><th scope=row>2416836</th><td>-87.768</td><td>-87.768</td></tr>\n",
       "\t<tr><th scope=row>2443958</th><td>-87.830</td><td>-87.830</td></tr>\n",
       "\t<tr><th scope=row>2456239</th><td>-87.510</td><td>-87.510</td></tr>\n",
       "\t<tr><th scope=row>2457846</th><td>-87.571</td><td>-87.571</td></tr>\n",
       "\t<tr><th scope=row>2463186</th><td>-87.440</td><td>-87.440</td></tr>\n",
       "\t<tr><th scope=row>2492001</th><td>-87.562</td><td>-87.562</td></tr>\n",
       "\t<tr><th scope=row>2497587</th><td>-87.546</td><td>-87.546</td></tr>\n",
       "\t<tr><th scope=row>2541938</th><td>-87.870</td><td>-87.870</td></tr>\n",
       "\t<tr><th scope=row>2553190</th><td>-87.725</td><td>-87.725</td></tr>\n",
       "\t<tr><th scope=row>3183124</th><td>-88.070</td><td>-88.070</td></tr>\n",
       "\t<tr><th scope=row>3248794</th><td>-87.850</td><td>-87.850</td></tr>\n",
       "\t<tr><th scope=row>3318268</th><td>-87.529</td><td>-87.529</td></tr>\n",
       "\t<tr><th scope=row>3383350</th><td>-87.531</td><td>-87.531</td></tr>\n",
       "\t<tr><th scope=row>3416537</th><td>-87.742</td><td>-87.742</td></tr>\n",
       "\t<tr><th scope=row>3429130</th><td>-87.534</td><td>-87.534</td></tr>\n",
       "\t<tr><th scope=row>3569919</th><td>-87.533</td><td>-87.533</td></tr>\n",
       "\t<tr><th scope=row>3652182</th><td>-87.525</td><td>-87.525</td></tr>\n",
       "</tbody>\n",
       "</table>\n"
      ],
      "text/latex": [
       "A data.frame: 235 × 2\n",
       "\\begin{tabular}{r|ll}\n",
       "  & end\\_lng & end\\_lng.1\\\\\n",
       "  & <chr> & <chr>\\\\\n",
       "\\hline\n",
       "\t1 & -87.678 & -87.678\\\\\n",
       "\t2 & -87.630 & -87.630\\\\\n",
       "\t3 & -87.628 & -87.628\\\\\n",
       "\t4 & -87.660 & -87.660\\\\\n",
       "\t5 & -87.653 & -87.653\\\\\n",
       "\t8 & -87.646 & -87.646\\\\\n",
       "\t9 & -87.635 & -87.635\\\\\n",
       "\t10 & -87.634 & -87.634\\\\\n",
       "\t11 & -87.624 & -87.624\\\\\n",
       "\t12 & -87.690 & -87.690\\\\\n",
       "\t13 & -87.639 & -87.639\\\\\n",
       "\t14 & -87.632 & -87.632\\\\\n",
       "\t17 & -87.626 & -87.626\\\\\n",
       "\t18 & -87.622 & -87.622\\\\\n",
       "\t19 & -87.638 & -87.638\\\\\n",
       "\t24 & -87.614 & -87.614\\\\\n",
       "\t25 & -87.649 & -87.649\\\\\n",
       "\t28 & -87.677 & -87.677\\\\\n",
       "\t30 & -87.618 & -87.618\\\\\n",
       "\t32 & -87.673 & -87.673\\\\\n",
       "\t33 & -87.657 & -87.657\\\\\n",
       "\t34 & -87.698 & -87.698\\\\\n",
       "\t38 & -87.619 & -87.619\\\\\n",
       "\t39 & -87.671 & -87.671\\\\\n",
       "\t42 & -87.644 & -87.644\\\\\n",
       "\t43 & -87.666 & -87.666\\\\\n",
       "\t47 & -87.670 & -87.670\\\\\n",
       "\t50 & -87.636 & -87.636\\\\\n",
       "\t51 & -87.643 & -87.643\\\\\n",
       "\t53 & -87.697 & -87.697\\\\\n",
       "\t⋮ & ⋮ & ⋮\\\\\n",
       "\t1523209 & -87.569 & -87.569\\\\\n",
       "\t1540680 & -87.528 & -87.528\\\\\n",
       "\t1602169 & -87.552 & -87.552\\\\\n",
       "\t1602315 & -87.520 & -87.520\\\\\n",
       "\t1652321 & -87.713 & -87.713\\\\\n",
       "\t1881296 & -87.539 & -87.539\\\\\n",
       "\t1892936 & -87.572 & -87.572\\\\\n",
       "\t1988405 & -87.603 & -87.603\\\\\n",
       "\t2033880 & -87.759 & -87.759\\\\\n",
       "\t2038793 & -87.538 & -87.538\\\\\n",
       "\t2049063 & -87.722 & -87.722\\\\\n",
       "\t2064583 & -87.582 & -87.582\\\\\n",
       "\t2371882 & -87.557 & -87.557\\\\\n",
       "\t2416836 & -87.768 & -87.768\\\\\n",
       "\t2443958 & -87.830 & -87.830\\\\\n",
       "\t2456239 & -87.510 & -87.510\\\\\n",
       "\t2457846 & -87.571 & -87.571\\\\\n",
       "\t2463186 & -87.440 & -87.440\\\\\n",
       "\t2492001 & -87.562 & -87.562\\\\\n",
       "\t2497587 & -87.546 & -87.546\\\\\n",
       "\t2541938 & -87.870 & -87.870\\\\\n",
       "\t2553190 & -87.725 & -87.725\\\\\n",
       "\t3183124 & -88.070 & -88.070\\\\\n",
       "\t3248794 & -87.850 & -87.850\\\\\n",
       "\t3318268 & -87.529 & -87.529\\\\\n",
       "\t3383350 & -87.531 & -87.531\\\\\n",
       "\t3416537 & -87.742 & -87.742\\\\\n",
       "\t3429130 & -87.534 & -87.534\\\\\n",
       "\t3569919 & -87.533 & -87.533\\\\\n",
       "\t3652182 & -87.525 & -87.525\\\\\n",
       "\\end{tabular}\n"
      ],
      "text/markdown": [
       "\n",
       "A data.frame: 235 × 2\n",
       "\n",
       "| <!--/--> | end_lng &lt;chr&gt; | end_lng.1 &lt;chr&gt; |\n",
       "|---|---|---|\n",
       "| 1 | -87.678 | -87.678 |\n",
       "| 2 | -87.630 | -87.630 |\n",
       "| 3 | -87.628 | -87.628 |\n",
       "| 4 | -87.660 | -87.660 |\n",
       "| 5 | -87.653 | -87.653 |\n",
       "| 8 | -87.646 | -87.646 |\n",
       "| 9 | -87.635 | -87.635 |\n",
       "| 10 | -87.634 | -87.634 |\n",
       "| 11 | -87.624 | -87.624 |\n",
       "| 12 | -87.690 | -87.690 |\n",
       "| 13 | -87.639 | -87.639 |\n",
       "| 14 | -87.632 | -87.632 |\n",
       "| 17 | -87.626 | -87.626 |\n",
       "| 18 | -87.622 | -87.622 |\n",
       "| 19 | -87.638 | -87.638 |\n",
       "| 24 | -87.614 | -87.614 |\n",
       "| 25 | -87.649 | -87.649 |\n",
       "| 28 | -87.677 | -87.677 |\n",
       "| 30 | -87.618 | -87.618 |\n",
       "| 32 | -87.673 | -87.673 |\n",
       "| 33 | -87.657 | -87.657 |\n",
       "| 34 | -87.698 | -87.698 |\n",
       "| 38 | -87.619 | -87.619 |\n",
       "| 39 | -87.671 | -87.671 |\n",
       "| 42 | -87.644 | -87.644 |\n",
       "| 43 | -87.666 | -87.666 |\n",
       "| 47 | -87.670 | -87.670 |\n",
       "| 50 | -87.636 | -87.636 |\n",
       "| 51 | -87.643 | -87.643 |\n",
       "| 53 | -87.697 | -87.697 |\n",
       "| ⋮ | ⋮ | ⋮ |\n",
       "| 1523209 | -87.569 | -87.569 |\n",
       "| 1540680 | -87.528 | -87.528 |\n",
       "| 1602169 | -87.552 | -87.552 |\n",
       "| 1602315 | -87.520 | -87.520 |\n",
       "| 1652321 | -87.713 | -87.713 |\n",
       "| 1881296 | -87.539 | -87.539 |\n",
       "| 1892936 | -87.572 | -87.572 |\n",
       "| 1988405 | -87.603 | -87.603 |\n",
       "| 2033880 | -87.759 | -87.759 |\n",
       "| 2038793 | -87.538 | -87.538 |\n",
       "| 2049063 | -87.722 | -87.722 |\n",
       "| 2064583 | -87.582 | -87.582 |\n",
       "| 2371882 | -87.557 | -87.557 |\n",
       "| 2416836 | -87.768 | -87.768 |\n",
       "| 2443958 | -87.830 | -87.830 |\n",
       "| 2456239 | -87.510 | -87.510 |\n",
       "| 2457846 | -87.571 | -87.571 |\n",
       "| 2463186 | -87.440 | -87.440 |\n",
       "| 2492001 | -87.562 | -87.562 |\n",
       "| 2497587 | -87.546 | -87.546 |\n",
       "| 2541938 | -87.870 | -87.870 |\n",
       "| 2553190 | -87.725 | -87.725 |\n",
       "| 3183124 | -88.070 | -88.070 |\n",
       "| 3248794 | -87.850 | -87.850 |\n",
       "| 3318268 | -87.529 | -87.529 |\n",
       "| 3383350 | -87.531 | -87.531 |\n",
       "| 3416537 | -87.742 | -87.742 |\n",
       "| 3429130 | -87.534 | -87.534 |\n",
       "| 3569919 | -87.533 | -87.533 |\n",
       "| 3652182 | -87.525 | -87.525 |\n",
       "\n"
      ],
      "text/plain": [
       "        end_lng end_lng.1\n",
       "1       -87.678 -87.678  \n",
       "2       -87.630 -87.630  \n",
       "3       -87.628 -87.628  \n",
       "4       -87.660 -87.660  \n",
       "5       -87.653 -87.653  \n",
       "8       -87.646 -87.646  \n",
       "9       -87.635 -87.635  \n",
       "10      -87.634 -87.634  \n",
       "11      -87.624 -87.624  \n",
       "12      -87.690 -87.690  \n",
       "13      -87.639 -87.639  \n",
       "14      -87.632 -87.632  \n",
       "17      -87.626 -87.626  \n",
       "18      -87.622 -87.622  \n",
       "19      -87.638 -87.638  \n",
       "24      -87.614 -87.614  \n",
       "25      -87.649 -87.649  \n",
       "28      -87.677 -87.677  \n",
       "30      -87.618 -87.618  \n",
       "32      -87.673 -87.673  \n",
       "33      -87.657 -87.657  \n",
       "34      -87.698 -87.698  \n",
       "38      -87.619 -87.619  \n",
       "39      -87.671 -87.671  \n",
       "42      -87.644 -87.644  \n",
       "43      -87.666 -87.666  \n",
       "47      -87.670 -87.670  \n",
       "50      -87.636 -87.636  \n",
       "51      -87.643 -87.643  \n",
       "53      -87.697 -87.697  \n",
       "⋮       ⋮       ⋮        \n",
       "1523209 -87.569 -87.569  \n",
       "1540680 -87.528 -87.528  \n",
       "1602169 -87.552 -87.552  \n",
       "1602315 -87.520 -87.520  \n",
       "1652321 -87.713 -87.713  \n",
       "1881296 -87.539 -87.539  \n",
       "1892936 -87.572 -87.572  \n",
       "1988405 -87.603 -87.603  \n",
       "2033880 -87.759 -87.759  \n",
       "2038793 -87.538 -87.538  \n",
       "2049063 -87.722 -87.722  \n",
       "2064583 -87.582 -87.582  \n",
       "2371882 -87.557 -87.557  \n",
       "2416836 -87.768 -87.768  \n",
       "2443958 -87.830 -87.830  \n",
       "2456239 -87.510 -87.510  \n",
       "2457846 -87.571 -87.571  \n",
       "2463186 -87.440 -87.440  \n",
       "2492001 -87.562 -87.562  \n",
       "2497587 -87.546 -87.546  \n",
       "2541938 -87.870 -87.870  \n",
       "2553190 -87.725 -87.725  \n",
       "3183124 -88.070 -88.070  \n",
       "3248794 -87.850 -87.850  \n",
       "3318268 -87.529 -87.529  \n",
       "3383350 -87.531 -87.531  \n",
       "3416537 -87.742 -87.742  \n",
       "3429130 -87.534 -87.534  \n",
       "3569919 -87.533 -87.533  \n",
       "3652182 -87.525 -87.525  "
      ]
     },
     "metadata": {},
     "output_type": "display_data"
    }
   ],
   "source": [
    "count(unique(df_Divvy_C_V03[c(\"end_lat\",\"end_lat\")]))\n",
    "unique(df_Divvy_C_V03[c(\"end_lng\",\"end_lng\")])"
   ]
  },
  {
   "cell_type": "markdown",
   "id": "7230d12b",
   "metadata": {
    "papermill": {
     "duration": 0.077371,
     "end_time": "2021-07-08T06:33:15.241208",
     "exception": false,
     "start_time": "2021-07-08T06:33:15.163837",
     "status": "completed"
    },
    "tags": []
   },
   "source": [
    "### Drop all na"
   ]
  },
  {
   "cell_type": "code",
   "execution_count": 26,
   "id": "5c6c0766",
   "metadata": {
    "execution": {
     "iopub.execute_input": "2021-07-08T06:33:15.404587Z",
     "iopub.status.busy": "2021-07-08T06:33:15.402344Z",
     "iopub.status.idle": "2021-07-08T06:34:33.069252Z",
     "shell.execute_reply": "2021-07-08T06:34:33.069779Z"
    },
    "papermill": {
     "duration": 77.750396,
     "end_time": "2021-07-08T06:34:33.070189",
     "exception": true,
     "start_time": "2021-07-08T06:33:15.319793",
     "status": "failed"
    },
    "tags": []
   },
   "outputs": [
    {
     "ename": "ERROR",
     "evalue": "Error in distGeo(matrix(c(df_an_NA$start_lng, df_an_NA$start_lat), ncol = 2), : could not find function \"distGeo\"\n",
     "output_type": "error",
     "traceback": [
      "Error in distGeo(matrix(c(df_an_NA$start_lng, df_an_NA$start_lat), ncol = 2), : could not find function \"distGeo\"\nTraceback:\n"
     ]
    }
   ],
   "source": [
    "df_an_NA <- drop_na(df_an)\n",
    "\n",
    "df_an_NA$date <- as.Date(df_an_NA$started_at) \n",
    "df_an_NA$month <- format(as.Date(df_an_NA$date), \"%m\")\n",
    "df_an_NA$day <- format(as.Date(df_an_NA$date), \"%d\")\n",
    "df_an_NA$year <- format(as.Date(df_an_NA$date), \"%Y\")\n",
    "df_an_NA$day_of_week <- format(as.Date(df_an_NA$date), \"%A\")\n",
    "df_an_NA$ride_distance <- distGeo(matrix(c(df_an_NA$start_lng, df_an_NA$start_lat), ncol = 2), matrix(c(df_an_NA$end_lng, df_an_NA$end_lat), ncol = 2))\n",
    "df_an_NA$ride_distance <- df_an_NA$ride_distance/1000\n",
    "#At last the speed in Km/h\n",
    "df_an_NA$ride_speed = c(df_an_NA$ride_distance)/as.numeric(c(df_an_NA$ride_length), units=\"hours\")\n",
    "\n",
    "# The dataframe includes a few hundred entries when bikes were taken out of docks and checked for quality by Divvy or ride_length was negative:\n",
    "\n",
    "df_an_NA <- df_an_NA[!(df_an_NA$start_station_name == \"HQ QR\" | df_an_NA$ride_length<0),]\n"
   ]
  },
  {
   "cell_type": "code",
   "execution_count": null,
   "id": "6d4c7c96",
   "metadata": {
    "execution": {
     "iopub.execute_input": "2021-07-05T17:52:14.709378Z",
     "iopub.status.busy": "2021-07-05T17:52:14.707998Z",
     "iopub.status.idle": "2021-07-05T17:52:18.173069Z"
    },
    "papermill": {
     "duration": null,
     "end_time": null,
     "exception": null,
     "start_time": null,
     "status": "pending"
    },
    "tags": []
   },
   "outputs": [],
   "source": [
    "str(df_an_NA)\n",
    "glimpse(df_an_NA)\n",
    "summary(df_an_NA)"
   ]
  },
  {
   "cell_type": "code",
   "execution_count": null,
   "id": "33b75a7f",
   "metadata": {
    "execution": {
     "iopub.execute_input": "2021-07-05T17:42:45.723333Z",
     "iopub.status.busy": "2021-07-05T17:42:45.721342Z",
     "iopub.status.idle": "2021-07-05T17:42:45.7852Z"
    },
    "papermill": {
     "duration": null,
     "end_time": null,
     "exception": null,
     "start_time": null,
     "status": "pending"
    },
    "tags": []
   },
   "outputs": [],
   "source": [
    "str(df_an)"
   ]
  },
  {
   "cell_type": "code",
   "execution_count": null,
   "id": "14d49743",
   "metadata": {
    "execution": {
     "iopub.execute_input": "2021-07-05T17:42:48.03278Z",
     "iopub.status.busy": "2021-07-05T17:42:48.030739Z",
     "iopub.status.idle": "2021-07-05T17:42:48.066039Z"
    },
    "papermill": {
     "duration": null,
     "end_time": null,
     "exception": null,
     "start_time": null,
     "status": "pending"
    },
    "tags": []
   },
   "outputs": [],
   "source": [
    "glimpse(df_an)"
   ]
  },
  {
   "cell_type": "code",
   "execution_count": null,
   "id": "09361ea0",
   "metadata": {
    "execution": {
     "iopub.execute_input": "2021-07-05T17:42:50.123826Z",
     "iopub.status.busy": "2021-07-05T17:42:50.122342Z",
     "iopub.status.idle": "2021-07-05T17:42:52.204838Z"
    },
    "papermill": {
     "duration": null,
     "end_time": null,
     "exception": null,
     "start_time": null,
     "status": "pending"
    },
    "tags": []
   },
   "outputs": [],
   "source": [
    "summary(df_an)"
   ]
  },
  {
   "cell_type": "markdown",
   "id": "6f9d54db",
   "metadata": {
    "papermill": {
     "duration": null,
     "end_time": null,
     "exception": null,
     "start_time": null,
     "status": "pending"
    },
    "tags": []
   },
   "source": [
    "### Creating a new data frame for the coordination"
   ]
  },
  {
   "cell_type": "code",
   "execution_count": null,
   "id": "340c9106",
   "metadata": {
    "execution": {
     "iopub.execute_input": "2021-07-05T17:42:58.080196Z",
     "iopub.status.busy": "2021-07-05T17:42:58.078889Z",
     "iopub.status.idle": "2021-07-05T17:42:58.104346Z"
    },
    "papermill": {
     "duration": null,
     "end_time": null,
     "exception": null,
     "start_time": null,
     "status": "pending"
    },
    "tags": []
   },
   "outputs": [],
   "source": [
    "df_coordinate <- df_an %>% \n",
    "  select(-c(ride_id,rideable_type,started_at,ended_at,start_station_name,start_station_id,end_station_name,end_station_id,member_casual,ride_length,WEEKDAY))"
   ]
  },
  {
   "cell_type": "code",
   "execution_count": null,
   "id": "13fb32b1",
   "metadata": {
    "execution": {
     "iopub.execute_input": "2021-07-05T17:42:59.701447Z",
     "iopub.status.busy": "2021-07-05T17:42:59.700181Z",
     "iopub.status.idle": "2021-07-05T17:42:59.717076Z"
    },
    "papermill": {
     "duration": null,
     "end_time": null,
     "exception": null,
     "start_time": null,
     "status": "pending"
    },
    "tags": []
   },
   "outputs": [],
   "source": [
    "glimpse(df_coordinate)"
   ]
  },
  {
   "cell_type": "markdown",
   "id": "c7e8b806",
   "metadata": {
    "papermill": {
     "duration": null,
     "end_time": null,
     "exception": null,
     "start_time": null,
     "status": "pending"
    },
    "tags": []
   },
   "source": [
    "# 4 - Analyse\n",
    "\n",
    "\n"
   ]
  },
  {
   "cell_type": "markdown",
   "id": "aef62082",
   "metadata": {
    "papermill": {
     "duration": null,
     "end_time": null,
     "exception": null,
     "start_time": null,
     "status": "pending"
    },
    "tags": []
   },
   "source": [
    "##### A breif of steps\n",
    "\n",
    "* Identify patterns\n",
    "* Draw conclusions\n",
    "* Make predictions"
   ]
  },
  {
   "cell_type": "code",
   "execution_count": null,
   "id": "bab2208c",
   "metadata": {
    "execution": {
     "iopub.execute_input": "2021-07-05T17:43:06.05734Z",
     "iopub.status.busy": "2021-07-05T17:43:06.056088Z",
     "iopub.status.idle": "2021-07-05T17:43:06.080802Z"
    },
    "papermill": {
     "duration": null,
     "end_time": null,
     "exception": null,
     "start_time": null,
     "status": "pending"
    },
    "tags": []
   },
   "outputs": [],
   "source": [
    "colnames(df_an)\n",
    "df_an_m1 <- df_an %>% \n",
    "  select(-c(ride_id,start_station_name,start_station_id,end_station_name,end_station_id,start_lat,start_lng,end_lat,end_lng))\n",
    "colnames(df_an_m1)"
   ]
  },
  {
   "cell_type": "code",
   "execution_count": null,
   "id": "1b2a7bc2",
   "metadata": {
    "execution": {
     "iopub.execute_input": "2021-07-05T17:43:10.734575Z",
     "iopub.status.busy": "2021-07-05T17:43:10.733222Z",
     "iopub.status.idle": "2021-07-05T17:43:14.682324Z"
    },
    "papermill": {
     "duration": null,
     "end_time": null,
     "exception": null,
     "start_time": null,
     "status": "pending"
    },
    "tags": []
   },
   "outputs": [],
   "source": [
    "df_an_m1 %>% lapply(min)\n",
    "df_an_m1 %>% lapply(max)\n",
    "df_an_m1 %>% sapply(mode)\n"
   ]
  },
  {
   "cell_type": "code",
   "execution_count": null,
   "id": "a1e5363b",
   "metadata": {
    "execution": {
     "iopub.execute_input": "2021-07-05T15:37:30.07025Z",
     "iopub.status.busy": "2021-07-05T15:37:30.068783Z",
     "iopub.status.idle": "2021-07-05T15:37:30.087284Z"
    },
    "papermill": {
     "duration": null,
     "end_time": null,
     "exception": null,
     "start_time": null,
     "status": "pending"
    },
    "tags": []
   },
   "outputs": [],
   "source": [
    " glimpse(df_an_m1)"
   ]
  },
  {
   "cell_type": "code",
   "execution_count": null,
   "id": "bfd1b864",
   "metadata": {
    "papermill": {
     "duration": null,
     "end_time": null,
     "exception": null,
     "start_time": null,
     "status": "pending"
    },
    "tags": []
   },
   "outputs": [],
   "source": []
  },
  {
   "cell_type": "markdown",
   "id": "dff93712",
   "metadata": {
    "papermill": {
     "duration": null,
     "end_time": null,
     "exception": null,
     "start_time": null,
     "status": "pending"
    },
    "tags": []
   },
   "source": [
    "# 5 - Share"
   ]
  },
  {
   "cell_type": "markdown",
   "id": "e042e7e1",
   "metadata": {
    "papermill": {
     "duration": null,
     "end_time": null,
     "exception": null,
     "start_time": null,
     "status": "pending"
    },
    "tags": []
   },
   "source": [
    "##### A breif of steps\n",
    "* Create effective visuals\n",
    "* Create a story for data\n",
    "* Share insights to stakeholders\n",
    "\n",
    "\n",
    "Now after performing analysis and gained some insights into the data, create visualizations is needed to share the findings. Moreno has reminded that they should be sophisticated and polished in order to effectively communicate to the executive team. \n",
    "\n",
    "Use the following Case Study Roadmap as a guide:\n",
    "\n",
    "Guiding questions:\n",
    "\n",
    "* Were we able to answer the question of **how annual members and casual riders use Cyclistic bikes differently?**\n",
    "* What story does the data tell?\n",
    "* How do the findings relate to the original question? \n",
    "* Who is the audience? \n",
    "* What is the best way to communicate with them?\n",
    "* Can data visualization helps share findings?\n",
    "* Is the presentation accessible to the audience?\n"
   ]
  },
  {
   "cell_type": "markdown",
   "id": "ed99adbb",
   "metadata": {
    "papermill": {
     "duration": null,
     "end_time": null,
     "exception": null,
     "start_time": null,
     "status": "pending"
    },
    "tags": []
   },
   "source": [
    "## Visualisiaiton"
   ]
  },
  {
   "cell_type": "code",
   "execution_count": null,
   "id": "d9038859",
   "metadata": {
    "execution": {
     "iopub.execute_input": "2021-07-05T11:04:04.65112Z",
     "iopub.status.busy": "2021-07-05T11:04:04.649542Z",
     "iopub.status.idle": "2021-07-05T11:04:53.741534Z"
    },
    "papermill": {
     "duration": null,
     "end_time": null,
     "exception": null,
     "start_time": null,
     "status": "pending"
    },
    "tags": []
   },
   "outputs": [],
   "source": [
    "df_an_m1 %>%\n",
    "ggplot(mapping = aes(x = ride_length , y = WEEKDAY)) + geom_count()\n",
    "ggsave(\"Count.png\")"
   ]
  },
  {
   "cell_type": "markdown",
   "id": "b92c426c",
   "metadata": {
    "papermill": {
     "duration": null,
     "end_time": null,
     "exception": null,
     "start_time": null,
     "status": "pending"
    },
    "tags": []
   },
   "source": [
    "## Provide a uniqe coordination\n"
   ]
  },
  {
   "cell_type": "code",
   "execution_count": null,
   "id": "dc5d847a",
   "metadata": {
    "execution": {
     "iopub.execute_input": "2021-07-05T15:21:02.974622Z",
     "iopub.status.busy": "2021-07-05T15:21:02.972651Z",
     "iopub.status.idle": "2021-07-05T15:21:03.091425Z"
    },
    "papermill": {
     "duration": null,
     "end_time": null,
     "exception": null,
     "start_time": null,
     "status": "pending"
    },
    "tags": []
   },
   "outputs": [],
   "source": [
    "df_coordinate_unique <- unique(df_coordinate[c('start_lat','start_lng','end_lat','end_lng')])"
   ]
  },
  {
   "cell_type": "code",
   "execution_count": null,
   "id": "7102c6da",
   "metadata": {
    "execution": {
     "iopub.execute_input": "2021-07-08T06:15:40.135467Z",
     "iopub.status.busy": "2021-07-08T06:15:40.133773Z",
     "iopub.status.idle": "2021-07-08T06:15:59.324047Z"
    },
    "papermill": {
     "duration": null,
     "end_time": null,
     "exception": null,
     "start_time": null,
     "status": "pending"
    },
    "tags": []
   },
   "outputs": [],
   "source": [
    "df_coordinate_unique2 <- unique(df_Divvy_C_V03[c('start_lat','start_lng','end_lat','end_lng')])"
   ]
  },
  {
   "cell_type": "code",
   "execution_count": null,
   "id": "69844c77",
   "metadata": {
    "execution": {
     "iopub.execute_input": "2021-07-08T06:16:08.097513Z",
     "iopub.status.busy": "2021-07-08T06:16:08.095726Z",
     "iopub.status.idle": "2021-07-08T06:16:08.479241Z"
    },
    "papermill": {
     "duration": null,
     "end_time": null,
     "exception": null,
     "start_time": null,
     "status": "pending"
    },
    "tags": []
   },
   "outputs": [],
   "source": [
    "write_csv(df_coordinate_unique2,\"coordination2.csv\")"
   ]
  },
  {
   "cell_type": "code",
   "execution_count": null,
   "id": "c552581d",
   "metadata": {
    "execution": {
     "iopub.execute_input": "2021-07-08T06:16:25.892632Z",
     "iopub.status.busy": "2021-07-08T06:16:25.890842Z",
     "iopub.status.idle": "2021-07-08T06:16:25.922645Z"
    },
    "papermill": {
     "duration": null,
     "end_time": null,
     "exception": null,
     "start_time": null,
     "status": "pending"
    },
    "tags": []
   },
   "outputs": [],
   "source": [
    "glimpse(df_coordinate_unique2)"
   ]
  },
  {
   "cell_type": "markdown",
   "id": "7ef0e7f0",
   "metadata": {
    "papermill": {
     "duration": null,
     "end_time": null,
     "exception": null,
     "start_time": null,
     "status": "pending"
    },
    "tags": []
   },
   "source": [
    "### Scatter PLot\n"
   ]
  },
  {
   "cell_type": "markdown",
   "id": "e6e0e9d8",
   "metadata": {
    "papermill": {
     "duration": null,
     "end_time": null,
     "exception": null,
     "start_time": null,
     "status": "pending"
    },
    "tags": []
   },
   "source": []
  },
  {
   "cell_type": "code",
   "execution_count": null,
   "id": "f831de2d",
   "metadata": {
    "execution": {
     "iopub.execute_input": "2021-07-08T06:19:37.860629Z",
     "iopub.status.busy": "2021-07-08T06:19:37.858908Z",
     "iopub.status.idle": "2021-07-08T06:19:42.914152Z"
    },
    "papermill": {
     "duration": null,
     "end_time": null,
     "exception": null,
     "start_time": null,
     "status": "pending"
    },
    "tags": []
   },
   "outputs": [],
   "source": [
    "\n",
    "df_coordinate_unique2 %>%\n",
    "ggplot() + geom_point(mapping = aes(x = start_lat,y = start_lng))\n"
   ]
  },
  {
   "cell_type": "code",
   "execution_count": null,
   "id": "85c74250",
   "metadata": {
    "papermill": {
     "duration": null,
     "end_time": null,
     "exception": null,
     "start_time": null,
     "status": "pending"
    },
    "tags": []
   },
   "outputs": [],
   "source": [
    "library(ggmap)\n",
    "library(RColorBrewer)\n",
    "library(patchwork)\n",
    "library(here)"
   ]
  },
  {
   "cell_type": "markdown",
   "id": "14175535",
   "metadata": {
    "papermill": {
     "duration": null,
     "end_time": null,
     "exception": null,
     "start_time": null,
     "status": "pending"
    },
    "tags": []
   },
   "source": [
    " @Article{,\n",
    "    author = {David Kahle and Hadley Wickham},\n",
    "    title = {ggmap: Spatial Visualization with ggplot2},\n",
    "    journal = {The R Journal},\n",
    "    year = {2013},\n",
    "    volume = {5},\n",
    "    number = {1},\n",
    "    pages = {144--161},\n",
    "    url = {https://journal.r-project.org/archive/2013-1/kahle-wickham.pdf},\n",
    "   }"
   ]
  },
  {
   "cell_type": "code",
   "execution_count": null,
   "id": "599ea33d",
   "metadata": {
    "execution": {
     "iopub.execute_input": "2021-07-05T09:42:37.218694Z",
     "iopub.status.busy": "2021-07-05T09:42:37.216953Z",
     "iopub.status.idle": "2021-07-05T09:42:37.234278Z"
    },
    "papermill": {
     "duration": null,
     "end_time": null,
     "exception": null,
     "start_time": null,
     "status": "pending"
    },
    "tags": []
   },
   "outputs": [],
   "source": [
    "here()"
   ]
  },
  {
   "cell_type": "markdown",
   "id": "24b51b7f",
   "metadata": {
    "papermill": {
     "duration": null,
     "end_time": null,
     "exception": null,
     "start_time": null,
     "status": "pending"
    },
    "tags": []
   },
   "source": []
  },
  {
   "cell_type": "code",
   "execution_count": null,
   "id": "6e8b6db6",
   "metadata": {
    "execution": {
     "iopub.execute_input": "2021-07-05T09:39:06.075604Z",
     "iopub.status.busy": "2021-07-05T09:39:06.073673Z",
     "iopub.status.idle": "2021-07-05T09:39:06.099807Z"
    },
    "papermill": {
     "duration": null,
     "end_time": null,
     "exception": null,
     "start_time": null,
     "status": "pending"
    },
    "tags": []
   },
   "outputs": [],
   "source": [
    "citation(\"ggmap\")"
   ]
  },
  {
   "cell_type": "code",
   "execution_count": null,
   "id": "3a791d57",
   "metadata": {
    "execution": {
     "iopub.execute_input": "2021-07-05T09:59:54.031723Z",
     "iopub.status.busy": "2021-07-05T09:59:54.029116Z",
     "iopub.status.idle": "2021-07-05T10:01:50.158574Z"
    },
    "papermill": {
     "duration": null,
     "end_time": null,
     "exception": null,
     "start_time": null,
     "status": "pending"
    },
    "tags": []
   },
   "outputs": [],
   "source": [
    "png(\"\", units=\"px\", width=4000, height=3000, res=600)\n",
    "options(digits = 3)\n",
    "set.seed(1234)\n",
    "theme_set(theme_minimal())\n",
    "chi_bb <- c(\n",
    "  left = -88.656921,\n",
    "  bottom = 41.408746,\n",
    "  right = -86.801605,\n",
    "  top = 42.206142\n",
    ")\n",
    "\n",
    "dots <- 55\n",
    "get_stamenmap(\n",
    "  bbox = chi_bb,\n",
    "  zoom = 13\n",
    ") %>%\n",
    "  ggmap() +\n",
    "  geom_point(data = df_coordinate_unique[1:dots,], mapping = aes(x = df_coordinate_unique[1:dots,]$start_lng,\n",
    "                                 y = df_coordinate_unique[1:dots,]$start_lat,\n",
    "                                 size = .25,\n",
    "                                 color = \"red\",\n",
    "                                 alpha = .27))+\n",
    "  geom_point(data = df_coordinate_unique[1:dots,], mapping = aes(x = df_coordinate_unique[1:dots,]$end_lng,\n",
    "                                 y = df_coordinate_unique[1:dots,]$end_lat,\n",
    "                                 size = .25,\n",
    "                                 color = \"blue\",\n",
    "                                 alpha = .21))+\n",
    "  geom_density2d(data = df_coordinate_unique[1:dots,], mapping = aes(x = df_coordinate_unique[1:dots,]$start_lng,\n",
    "                                 y = df_coordinate_unique[1:dots,]$start_lat,\n",
    "                                 ))\n"
   ]
  },
  {
   "cell_type": "markdown",
   "id": "e0c3df9d",
   "metadata": {
    "papermill": {
     "duration": null,
     "end_time": null,
     "exception": null,
     "start_time": null,
     "status": "pending"
    },
    "tags": []
   },
   "source": [
    "### Map Visualisiation\n",
    "\n",
    "#### Inspiration by [Julen Aranguren](https://www.kaggle.com/julenaranguren/cyclistic-bike-share-a-case-study)\n",
    "\n",
    "##### Lets check now the coordinates data of the rides, to see if is there any interesting pattern:\n",
    "\n",
    "##### First we create a table only for the most popular routes (>250 times)\n"
   ]
  },
  {
   "cell_type": "code",
   "execution_count": null,
   "id": "95a686e6",
   "metadata": {
    "execution": {
     "iopub.execute_input": "2021-07-05T17:01:34.472476Z",
     "iopub.status.busy": "2021-07-05T17:01:34.471105Z",
     "iopub.status.idle": "2021-07-05T17:01:34.826101Z"
    },
    "papermill": {
     "duration": null,
     "end_time": null,
     "exception": null,
     "start_time": null,
     "status": "pending"
    },
    "tags": []
   },
   "outputs": [],
   "source": [
    "library(\"tidyverse\")\n",
    "library(\"ggplot2\")\n",
    "library(\"lubridate\")\n",
    "library(\"geosphere\")\n",
    "library(\"gridExtra\") \n",
    "library(\"ggmap\")"
   ]
  },
  {
   "cell_type": "code",
   "execution_count": null,
   "id": "7adbd0ec",
   "metadata": {
    "execution": {
     "iopub.execute_input": "2021-07-05T16:58:36.03285Z",
     "iopub.status.busy": "2021-07-05T16:58:36.031409Z",
     "iopub.status.idle": "2021-07-05T16:58:39.361799Z"
    },
    "papermill": {
     "duration": null,
     "end_time": null,
     "exception": null,
     "start_time": null,
     "status": "pending"
    },
    "tags": []
   },
   "outputs": [],
   "source": [
    "df_coordination <- read_csv(file = \"../input/df-coordination/coordination.csv\")"
   ]
  },
  {
   "cell_type": "code",
   "execution_count": null,
   "id": "3888b906",
   "metadata": {
    "execution": {
     "iopub.execute_input": "2021-07-05T16:58:54.228393Z",
     "iopub.status.busy": "2021-07-05T16:58:54.226647Z",
     "iopub.status.idle": "2021-07-05T16:58:54.423179Z"
    },
    "papermill": {
     "duration": null,
     "end_time": null,
     "exception": null,
     "start_time": null,
     "status": "pending"
    },
    "tags": []
   },
   "outputs": [],
   "source": [
    "summary(df_coordination)"
   ]
  },
  {
   "cell_type": "code",
   "execution_count": null,
   "id": "5e4f8039",
   "metadata": {
    "papermill": {
     "duration": null,
     "end_time": null,
     "exception": null,
     "start_time": null,
     "status": "pending"
    },
    "tags": []
   },
   "outputs": [],
   "source": [
    "df_coordination$"
   ]
  },
  {
   "cell_type": "code",
   "execution_count": null,
   "id": "ff2c3d3a",
   "metadata": {
    "execution": {
     "iopub.execute_input": "2021-07-05T17:08:21.176075Z",
     "iopub.status.busy": "2021-07-05T17:08:21.174735Z",
     "iopub.status.idle": "2021-07-05T17:08:46.134538Z"
    },
    "papermill": {
     "duration": null,
     "end_time": null,
     "exception": null,
     "start_time": null,
     "status": "pending"
    },
    "tags": []
   },
   "outputs": [],
   "source": [
    "#First we create a table only for the most popular routes (>250 times)\n",
    "\n",
    "coordinates_table <- df_an %>% \n",
    "filter(start_lng != end_lng & start_lat != end_lat) %>%\n",
    "group_by(start_lng, start_lat, end_lng, end_lat, member_casual, rideable_type) %>%\n",
    "summarise(total = n(),.groups=\"drop\") %>%\n",
    "filter(total > 100)"
   ]
  },
  {
   "cell_type": "code",
   "execution_count": null,
   "id": "47c283b3",
   "metadata": {
    "execution": {
     "iopub.execute_input": "2021-07-05T17:08:46.138936Z",
     "iopub.status.busy": "2021-07-05T17:08:46.136809Z",
     "iopub.status.idle": "2021-07-05T17:08:46.154205Z"
    },
    "papermill": {
     "duration": null,
     "end_time": null,
     "exception": null,
     "start_time": null,
     "status": "pending"
    },
    "tags": []
   },
   "outputs": [],
   "source": [
    "#Then we create two sub tables for each user type\n",
    "casual <- coordinates_table %>% filter(member_casual == \"casual\")\n",
    "member <- coordinates_table %>% filter(member_casual == \"member\")"
   ]
  },
  {
   "cell_type": "code",
   "execution_count": null,
   "id": "6feb4149",
   "metadata": {
    "execution": {
     "iopub.execute_input": "2021-07-05T17:14:50.188393Z",
     "iopub.status.busy": "2021-07-05T17:14:50.187125Z",
     "iopub.status.idle": "2021-07-05T17:16:27.705311Z"
    },
    "papermill": {
     "duration": null,
     "end_time": null,
     "exception": null,
     "start_time": null,
     "status": "pending"
    },
    "tags": []
   },
   "outputs": [],
   "source": [
    "# Lets store bounding box coordinates for ggmap:\n",
    "chi_bb <- c(\n",
    "  left = -87.700424,\n",
    "  bottom = 41.790769,\n",
    "  right = -87.554855,\n",
    "  top = 41.990119\n",
    ")\n",
    "# Here we store the stamen map of Chicago\n",
    "chicago_stamen <- get_stamenmap(\n",
    "  bbox = chi_bb,\n",
    "  zoom = 15,\n",
    "  maptype = \"toner\"\n",
    ")\n",
    "\n",
    "#Then we plot the data on the map\n",
    "ggmap(chicago_stamen,darken = c(0.8, \"white\")) +\n",
    "   geom_curve(casual, mapping = aes(x = start_lng, y = start_lat, xend = end_lng, yend = end_lat, alpha= total, color=rideable_type), size = 0.5, curvature = .2,arrow = arrow(length=unit(0.2,\"cm\"), ends=\"first\", type = \"closed\")) +\n",
    "    coord_cartesian() +\n",
    "    labs(title = \"Most popular routes by casual users\",x=NULL,y=NULL, color=\"User type\", caption = \"Data by Motivate International Inc\") +\n",
    "    theme(legend.position=\"none\")\n",
    "ggsave(\"Casual_popular_route.png\", width = 20, height = 20, units = \"cm\")\n",
    "\n",
    "ggmap(chicago_stamen,darken = c(0.8, \"white\")) +\n",
    "    geom_curve(member, mapping = aes(x = start_lng, y = start_lat, xend = end_lng, yend = end_lat, alpha= total, color=rideable_type), size = 0.5, curvature = .2,arrow = arrow(length=unit(0.2,\"cm\"), ends=\"first\", type = \"closed\")) +  \n",
    "    coord_cartesian() +\n",
    "    labs(title = \"Most popular routes by annual members\",x=NULL,y=NULL, caption = \"Data by Motivate International Inc\") +\n",
    "    theme(legend.position=\"none\")\n",
    "ggsave(\"Member_popular_route.png\", width = 20, height = 20, units = \"cm\")\n"
   ]
  },
  {
   "cell_type": "markdown",
   "id": "7a865d84",
   "metadata": {
    "papermill": {
     "duration": null,
     "end_time": null,
     "exception": null,
     "start_time": null,
     "status": "pending"
    },
    "tags": []
   },
   "source": [
    "## 6 - Act"
   ]
  },
  {
   "cell_type": "markdown",
   "id": "55a46c5b",
   "metadata": {
    "papermill": {
     "duration": null,
     "end_time": null,
     "exception": null,
     "start_time": null,
     "status": "pending"
    },
    "tags": []
   },
   "source": [
    "##### A breif of steps\n",
    "* Give recommendations based on insights*\n",
    "* Solve problems\n",
    "* Create something new\n",
    "\n",
    "\n",
    "\n",
    "Now after finishing visualizations, we need to act on the findings. Prepare the deliverables Morena asked to create, including:\n",
    "* The three top recommendations based on analysis. \n",
    "Use the following Case Study Roadmap as a guide:\n",
    "#### Guiding questions \n",
    "* What is the final conclusion based on analysis?\n",
    "* How could marketing team and business apply the insights? \n",
    "* What next steps would be taken based on the findings?\n",
    "* Is there additional data could be used to expand on the findings?"
   ]
  },
  {
   "cell_type": "code",
   "execution_count": null,
   "id": "d7589aac",
   "metadata": {
    "papermill": {
     "duration": null,
     "end_time": null,
     "exception": null,
     "start_time": null,
     "status": "pending"
    },
    "tags": []
   },
   "outputs": [],
   "source": []
  }
 ],
 "metadata": {
  "kernelspec": {
   "display_name": "R",
   "language": "R",
   "name": "ir"
  },
  "language_info": {
   "codemirror_mode": "r",
   "file_extension": ".r",
   "mimetype": "text/x-r-source",
   "name": "R",
   "pygments_lexer": "r",
   "version": "4.0.5"
  },
  "papermill": {
   "default_parameters": {},
   "duration": 282.513005,
   "end_time": "2021-07-08T06:34:33.362121",
   "environment_variables": {},
   "exception": true,
   "input_path": "__notebook__.ipynb",
   "output_path": "__notebook__.ipynb",
   "parameters": {},
   "start_time": "2021-07-08T06:29:50.849116",
   "version": "2.3.3"
  }
 },
 "nbformat": 4,
 "nbformat_minor": 5
}
